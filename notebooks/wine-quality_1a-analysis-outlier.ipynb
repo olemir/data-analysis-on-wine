{
 "cells": [
  {
   "cell_type": "markdown",
   "id": "3ea6706f",
   "metadata": {},
   "source": [
    "# Outlier Analysis\n",
    "\n",
    "Set legal limits: What happens to the values?\n",
    "\n",
    "Analyse the outliers: count, distribution, distribution on quality"
   ]
  },
  {
   "cell_type": "markdown",
   "id": "0d7077d7",
   "metadata": {},
   "source": [
    "# Config Notebook"
   ]
  },
  {
   "cell_type": "code",
   "execution_count": 281,
   "id": "b11376f8",
   "metadata": {},
   "outputs": [],
   "source": [
    "import numpy as np\n",
    "import pandas as pd\n",
    "\n",
    "import matplotlib.pyplot as plt\n",
    "import seaborn as sns\n",
    "import yaml\n",
    "\n",
    "from scipy import stats \n",
    "import pingouin as pg\n",
    "\n",
    "from sklearn.preprocessing import MinMaxScaler\n",
    "\n",
    "# import pyarrow as pa"
   ]
  },
  {
   "cell_type": "code",
   "execution_count": 282,
   "id": "f11317f4",
   "metadata": {},
   "outputs": [],
   "source": [
    "# config packages\n",
    "pd.options.mode.copy_on_write = \"warn\""
   ]
  },
  {
   "cell_type": "code",
   "execution_count": 283,
   "id": "6407e3c2",
   "metadata": {},
   "outputs": [
    {
     "data": {
      "text/plain": [
       "{'data_path_wine_red': 'data/wine+quality/winequality-red.csv',\n",
       " 'data_path_wine_white': 'data/wine+quality/winequality-white.csv'}"
      ]
     },
     "execution_count": 283,
     "metadata": {},
     "output_type": "execute_result"
    }
   ],
   "source": [
    "# load project config\n",
    "with open(\"../config/config.yaml\", \"r\") as file:\n",
    "    config = yaml.safe_load(file)\n",
    "config"
   ]
  },
  {
   "cell_type": "code",
   "execution_count": 284,
   "id": "6ee4a4a4",
   "metadata": {},
   "outputs": [],
   "source": [
    "# useful constants\n",
    "%run ../src/constants.py"
   ]
  },
  {
   "cell_type": "markdown",
   "id": "bf7d0108",
   "metadata": {},
   "source": [
    "# Import"
   ]
  },
  {
   "cell_type": "code",
   "execution_count": 285,
   "id": "6619a87c",
   "metadata": {},
   "outputs": [],
   "source": [
    "# NOTE - Keep two data frames if data is actually separate\n",
    "# wine_r = pd.read_csv('data//wine+quality//winequality-red.csv', sep=';', dtype_backend=) # pyarrow enhanced data frame\n",
    "wine_w = pd.read_parquet('../data/processed/wine_w.parquet')\n",
    "wine_r = pd.read_parquet('../data/processed/wine_r.parquet')\n",
    "wine_w_orig = pd.read_parquet('../data/processed/wine_w_orig.parquet')\n",
    "wine_r_orig = pd.read_parquet('../data/processed/wine_r_orig.parquet')\n"
   ]
  },
  {
   "cell_type": "code",
   "execution_count": 286,
   "id": "3d8281e3",
   "metadata": {},
   "outputs": [
    {
     "data": {
      "application/vnd.microsoft.datawrangler.viewer.v0+json": {
       "columns": [
        {
         "name": "index",
         "rawType": "int64",
         "type": "integer"
        },
        {
         "name": "ph",
         "rawType": "float64",
         "type": "float"
        },
        {
         "name": "fixed_acidity",
         "rawType": "float64",
         "type": "float"
        },
        {
         "name": "volatile_acidity",
         "rawType": "float64",
         "type": "float"
        },
        {
         "name": "citric_acid",
         "rawType": "float64",
         "type": "float"
        },
        {
         "name": "chlorides",
         "rawType": "float64",
         "type": "float"
        },
        {
         "name": "total_sulfur_dioxide",
         "rawType": "float64",
         "type": "float"
        },
        {
         "name": "free_sulfur_dioxide",
         "rawType": "float64",
         "type": "float"
        },
        {
         "name": "sulphates",
         "rawType": "float64",
         "type": "float"
        },
        {
         "name": "residual_sugar",
         "rawType": "float64",
         "type": "float"
        },
        {
         "name": "density",
         "rawType": "float64",
         "type": "float"
        },
        {
         "name": "alcohol",
         "rawType": "float64",
         "type": "float"
        },
        {
         "name": "quality",
         "rawType": "int64",
         "type": "integer"
        },
        {
         "name": "color",
         "rawType": "category",
         "type": "unknown"
        },
        {
         "name": "quality_label",
         "rawType": "category",
         "type": "unknown"
        },
        {
         "name": "total_sulfur_dioxide_above_eu_limit",
         "rawType": "bool",
         "type": "boolean"
        },
        {
         "name": "volatile_acid_above_eu_limit",
         "rawType": "bool",
         "type": "boolean"
        },
        {
         "name": "input_outlier_count",
         "rawType": "int64",
         "type": "integer"
        }
       ],
       "conversionMethod": "pd.DataFrame",
       "ref": "f6b4e498-2c45-46e8-9b3a-240161e3321f",
       "rows": [
        [
         "0",
         "3.0",
         "7.0",
         "0.27",
         "0.36",
         "0.045",
         "170.0",
         "45.0",
         "0.45",
         "20.7",
         "1.001",
         "8.8",
         "6",
         "white",
         "medium",
         "False",
         "False",
         "1"
        ],
        [
         "1",
         "3.3",
         "6.3",
         "0.3",
         "0.34",
         "0.049",
         "132.0",
         "14.0",
         "0.49",
         "1.6",
         "0.994",
         "9.5",
         "6",
         "white",
         "medium",
         "False",
         "False",
         "0"
        ],
        [
         "2",
         "3.26",
         "8.1",
         "0.28",
         "0.4",
         "0.05",
         "97.0",
         "30.0",
         "0.44",
         "6.9",
         "0.9951",
         "10.1",
         "6",
         "white",
         "medium",
         "False",
         "False",
         "0"
        ],
        [
         "3",
         "3.19",
         "7.2",
         "0.23",
         "0.32",
         "0.058",
         "186.0",
         "47.0",
         "0.4",
         "8.5",
         "0.9956",
         "9.9",
         "6",
         "white",
         "medium",
         "False",
         "False",
         "0"
        ],
        [
         "6",
         "3.18",
         "6.2",
         "0.32",
         "0.16",
         "0.045",
         "136.0",
         "30.0",
         "0.47",
         "7.0",
         "0.9949",
         "9.6",
         "6",
         "white",
         "medium",
         "False",
         "False",
         "0"
        ]
       ],
       "shape": {
        "columns": 17,
        "rows": 5
       }
      },
      "text/html": [
       "<div>\n",
       "<style scoped>\n",
       "    .dataframe tbody tr th:only-of-type {\n",
       "        vertical-align: middle;\n",
       "    }\n",
       "\n",
       "    .dataframe tbody tr th {\n",
       "        vertical-align: top;\n",
       "    }\n",
       "\n",
       "    .dataframe thead th {\n",
       "        text-align: right;\n",
       "    }\n",
       "</style>\n",
       "<table border=\"1\" class=\"dataframe\">\n",
       "  <thead>\n",
       "    <tr style=\"text-align: right;\">\n",
       "      <th></th>\n",
       "      <th>ph</th>\n",
       "      <th>fixed_acidity</th>\n",
       "      <th>volatile_acidity</th>\n",
       "      <th>citric_acid</th>\n",
       "      <th>chlorides</th>\n",
       "      <th>total_sulfur_dioxide</th>\n",
       "      <th>free_sulfur_dioxide</th>\n",
       "      <th>sulphates</th>\n",
       "      <th>residual_sugar</th>\n",
       "      <th>density</th>\n",
       "      <th>alcohol</th>\n",
       "      <th>quality</th>\n",
       "      <th>color</th>\n",
       "      <th>quality_label</th>\n",
       "      <th>total_sulfur_dioxide_above_eu_limit</th>\n",
       "      <th>volatile_acid_above_eu_limit</th>\n",
       "      <th>input_outlier_count</th>\n",
       "    </tr>\n",
       "  </thead>\n",
       "  <tbody>\n",
       "    <tr>\n",
       "      <th>0</th>\n",
       "      <td>3.00</td>\n",
       "      <td>7.0</td>\n",
       "      <td>0.27</td>\n",
       "      <td>0.36</td>\n",
       "      <td>0.045</td>\n",
       "      <td>170.0</td>\n",
       "      <td>45.0</td>\n",
       "      <td>0.45</td>\n",
       "      <td>20.7</td>\n",
       "      <td>1.0010</td>\n",
       "      <td>8.8</td>\n",
       "      <td>6</td>\n",
       "      <td>white</td>\n",
       "      <td>medium</td>\n",
       "      <td>False</td>\n",
       "      <td>False</td>\n",
       "      <td>1</td>\n",
       "    </tr>\n",
       "    <tr>\n",
       "      <th>1</th>\n",
       "      <td>3.30</td>\n",
       "      <td>6.3</td>\n",
       "      <td>0.30</td>\n",
       "      <td>0.34</td>\n",
       "      <td>0.049</td>\n",
       "      <td>132.0</td>\n",
       "      <td>14.0</td>\n",
       "      <td>0.49</td>\n",
       "      <td>1.6</td>\n",
       "      <td>0.9940</td>\n",
       "      <td>9.5</td>\n",
       "      <td>6</td>\n",
       "      <td>white</td>\n",
       "      <td>medium</td>\n",
       "      <td>False</td>\n",
       "      <td>False</td>\n",
       "      <td>0</td>\n",
       "    </tr>\n",
       "    <tr>\n",
       "      <th>2</th>\n",
       "      <td>3.26</td>\n",
       "      <td>8.1</td>\n",
       "      <td>0.28</td>\n",
       "      <td>0.40</td>\n",
       "      <td>0.050</td>\n",
       "      <td>97.0</td>\n",
       "      <td>30.0</td>\n",
       "      <td>0.44</td>\n",
       "      <td>6.9</td>\n",
       "      <td>0.9951</td>\n",
       "      <td>10.1</td>\n",
       "      <td>6</td>\n",
       "      <td>white</td>\n",
       "      <td>medium</td>\n",
       "      <td>False</td>\n",
       "      <td>False</td>\n",
       "      <td>0</td>\n",
       "    </tr>\n",
       "    <tr>\n",
       "      <th>3</th>\n",
       "      <td>3.19</td>\n",
       "      <td>7.2</td>\n",
       "      <td>0.23</td>\n",
       "      <td>0.32</td>\n",
       "      <td>0.058</td>\n",
       "      <td>186.0</td>\n",
       "      <td>47.0</td>\n",
       "      <td>0.40</td>\n",
       "      <td>8.5</td>\n",
       "      <td>0.9956</td>\n",
       "      <td>9.9</td>\n",
       "      <td>6</td>\n",
       "      <td>white</td>\n",
       "      <td>medium</td>\n",
       "      <td>False</td>\n",
       "      <td>False</td>\n",
       "      <td>0</td>\n",
       "    </tr>\n",
       "    <tr>\n",
       "      <th>6</th>\n",
       "      <td>3.18</td>\n",
       "      <td>6.2</td>\n",
       "      <td>0.32</td>\n",
       "      <td>0.16</td>\n",
       "      <td>0.045</td>\n",
       "      <td>136.0</td>\n",
       "      <td>30.0</td>\n",
       "      <td>0.47</td>\n",
       "      <td>7.0</td>\n",
       "      <td>0.9949</td>\n",
       "      <td>9.6</td>\n",
       "      <td>6</td>\n",
       "      <td>white</td>\n",
       "      <td>medium</td>\n",
       "      <td>False</td>\n",
       "      <td>False</td>\n",
       "      <td>0</td>\n",
       "    </tr>\n",
       "  </tbody>\n",
       "</table>\n",
       "</div>"
      ],
      "text/plain": [
       "     ph  fixed_acidity  volatile_acidity  citric_acid  chlorides  \\\n",
       "0  3.00            7.0              0.27         0.36      0.045   \n",
       "1  3.30            6.3              0.30         0.34      0.049   \n",
       "2  3.26            8.1              0.28         0.40      0.050   \n",
       "3  3.19            7.2              0.23         0.32      0.058   \n",
       "6  3.18            6.2              0.32         0.16      0.045   \n",
       "\n",
       "   total_sulfur_dioxide  free_sulfur_dioxide  sulphates  residual_sugar  \\\n",
       "0                 170.0                 45.0       0.45            20.7   \n",
       "1                 132.0                 14.0       0.49             1.6   \n",
       "2                  97.0                 30.0       0.44             6.9   \n",
       "3                 186.0                 47.0       0.40             8.5   \n",
       "6                 136.0                 30.0       0.47             7.0   \n",
       "\n",
       "   density  alcohol  quality  color quality_label  \\\n",
       "0   1.0010      8.8        6  white        medium   \n",
       "1   0.9940      9.5        6  white        medium   \n",
       "2   0.9951     10.1        6  white        medium   \n",
       "3   0.9956      9.9        6  white        medium   \n",
       "6   0.9949      9.6        6  white        medium   \n",
       "\n",
       "   total_sulfur_dioxide_above_eu_limit  volatile_acid_above_eu_limit  \\\n",
       "0                                False                         False   \n",
       "1                                False                         False   \n",
       "2                                False                         False   \n",
       "3                                False                         False   \n",
       "6                                False                         False   \n",
       "\n",
       "   input_outlier_count  \n",
       "0                    1  \n",
       "1                    0  \n",
       "2                    0  \n",
       "3                    0  \n",
       "6                    0  "
      ]
     },
     "execution_count": 286,
     "metadata": {},
     "output_type": "execute_result"
    }
   ],
   "source": [
    "wine_w.head()"
   ]
  },
  {
   "cell_type": "markdown",
   "id": "49401231",
   "metadata": {},
   "source": [
    "# Transform for compatibility (maybe outdated)"
   ]
  },
  {
   "cell_type": "code",
   "execution_count": 287,
   "id": "9dd86c46",
   "metadata": {},
   "outputs": [],
   "source": [
    "wine_w_is_outlier = pd.read_parquet('../data/processed/wine_w_is_outlier.parquet')\n",
    "wine_w_is_outlier_any = wine_w.input_outlier_count > 0"
   ]
  },
  {
   "cell_type": "code",
   "execution_count": 288,
   "id": "1628cbba",
   "metadata": {},
   "outputs": [],
   "source": [
    "wine_r_is_outlier = pd.read_parquet('../data/processed/wine_r_is_outlier.parquet')\n",
    "wine_r_is_outlier_any = wine_r.input_outlier_count > 0"
   ]
  },
  {
   "cell_type": "code",
   "execution_count": 289,
   "id": "025ac469",
   "metadata": {},
   "outputs": [],
   "source": [
    "wine_w_illegal = wine_w.total_sulfur_dioxide_above_eu_limit | wine_w.volatile_acid_above_eu_limit\n",
    "wine_r_illegal = wine_r.total_sulfur_dioxide_above_eu_limit | wine_r.volatile_acid_above_eu_limit"
   ]
  },
  {
   "cell_type": "markdown",
   "id": "b8ecb862",
   "metadata": {},
   "source": [
    "# Boundaries: Legal Limits"
   ]
  },
  {
   "cell_type": "code",
   "execution_count": 290,
   "id": "b15b276a",
   "metadata": {},
   "outputs": [
    {
     "data": {
      "application/vnd.microsoft.datawrangler.viewer.v0+json": {
       "columns": [
        {
         "name": "index",
         "rawType": "int64",
         "type": "integer"
        },
        {
         "name": "ph",
         "rawType": "float64",
         "type": "float"
        },
        {
         "name": "fixed_acidity",
         "rawType": "float64",
         "type": "float"
        },
        {
         "name": "volatile_acidity",
         "rawType": "float64",
         "type": "float"
        },
        {
         "name": "citric_acid",
         "rawType": "float64",
         "type": "float"
        },
        {
         "name": "chlorides",
         "rawType": "float64",
         "type": "float"
        },
        {
         "name": "total_sulfur_dioxide",
         "rawType": "float64",
         "type": "float"
        },
        {
         "name": "free_sulfur_dioxide",
         "rawType": "float64",
         "type": "float"
        },
        {
         "name": "sulphates",
         "rawType": "float64",
         "type": "float"
        },
        {
         "name": "residual_sugar",
         "rawType": "float64",
         "type": "float"
        },
        {
         "name": "density",
         "rawType": "float64",
         "type": "float"
        },
        {
         "name": "alcohol",
         "rawType": "float64",
         "type": "float"
        },
        {
         "name": "quality",
         "rawType": "int64",
         "type": "integer"
        },
        {
         "name": "color",
         "rawType": "category",
         "type": "unknown"
        },
        {
         "name": "quality_label",
         "rawType": "category",
         "type": "unknown"
        },
        {
         "name": "total_sulfur_dioxide_above_eu_limit",
         "rawType": "bool",
         "type": "boolean"
        },
        {
         "name": "volatile_acid_above_eu_limit",
         "rawType": "bool",
         "type": "boolean"
        },
        {
         "name": "input_outlier_count",
         "rawType": "int64",
         "type": "integer"
        }
       ],
       "conversionMethod": "pd.DataFrame",
       "ref": "f3c780ba-b5b0-4cd7-adfe-656c40cdc10a",
       "rows": [
        [
         "0",
         "3.0",
         "7.0",
         "0.27",
         "0.36",
         "0.045",
         "170.0",
         "45.0",
         "0.45",
         "20.7",
         "1.001",
         "8.8",
         "6",
         "white",
         "medium",
         "False",
         "False",
         "1"
        ],
        [
         "1",
         "3.3",
         "6.3",
         "0.3",
         "0.34",
         "0.049",
         "132.0",
         "14.0",
         "0.49",
         "1.6",
         "0.994",
         "9.5",
         "6",
         "white",
         "medium",
         "False",
         "False",
         "0"
        ],
        [
         "2",
         "3.26",
         "8.1",
         "0.28",
         "0.4",
         "0.05",
         "97.0",
         "30.0",
         "0.44",
         "6.9",
         "0.9951",
         "10.1",
         "6",
         "white",
         "medium",
         "False",
         "False",
         "0"
        ],
        [
         "3",
         "3.19",
         "7.2",
         "0.23",
         "0.32",
         "0.058",
         "186.0",
         "47.0",
         "0.4",
         "8.5",
         "0.9956",
         "9.9",
         "6",
         "white",
         "medium",
         "False",
         "False",
         "0"
        ],
        [
         "6",
         "3.18",
         "6.2",
         "0.32",
         "0.16",
         "0.045",
         "136.0",
         "30.0",
         "0.47",
         "7.0",
         "0.9949",
         "9.6",
         "6",
         "white",
         "medium",
         "False",
         "False",
         "0"
        ]
       ],
       "shape": {
        "columns": 17,
        "rows": 5
       }
      },
      "text/html": [
       "<div>\n",
       "<style scoped>\n",
       "    .dataframe tbody tr th:only-of-type {\n",
       "        vertical-align: middle;\n",
       "    }\n",
       "\n",
       "    .dataframe tbody tr th {\n",
       "        vertical-align: top;\n",
       "    }\n",
       "\n",
       "    .dataframe thead th {\n",
       "        text-align: right;\n",
       "    }\n",
       "</style>\n",
       "<table border=\"1\" class=\"dataframe\">\n",
       "  <thead>\n",
       "    <tr style=\"text-align: right;\">\n",
       "      <th></th>\n",
       "      <th>ph</th>\n",
       "      <th>fixed_acidity</th>\n",
       "      <th>volatile_acidity</th>\n",
       "      <th>citric_acid</th>\n",
       "      <th>chlorides</th>\n",
       "      <th>total_sulfur_dioxide</th>\n",
       "      <th>free_sulfur_dioxide</th>\n",
       "      <th>sulphates</th>\n",
       "      <th>residual_sugar</th>\n",
       "      <th>density</th>\n",
       "      <th>alcohol</th>\n",
       "      <th>quality</th>\n",
       "      <th>color</th>\n",
       "      <th>quality_label</th>\n",
       "      <th>total_sulfur_dioxide_above_eu_limit</th>\n",
       "      <th>volatile_acid_above_eu_limit</th>\n",
       "      <th>input_outlier_count</th>\n",
       "    </tr>\n",
       "  </thead>\n",
       "  <tbody>\n",
       "    <tr>\n",
       "      <th>0</th>\n",
       "      <td>3.00</td>\n",
       "      <td>7.0</td>\n",
       "      <td>0.27</td>\n",
       "      <td>0.36</td>\n",
       "      <td>0.045</td>\n",
       "      <td>170.0</td>\n",
       "      <td>45.0</td>\n",
       "      <td>0.45</td>\n",
       "      <td>20.7</td>\n",
       "      <td>1.0010</td>\n",
       "      <td>8.8</td>\n",
       "      <td>6</td>\n",
       "      <td>white</td>\n",
       "      <td>medium</td>\n",
       "      <td>False</td>\n",
       "      <td>False</td>\n",
       "      <td>1</td>\n",
       "    </tr>\n",
       "    <tr>\n",
       "      <th>1</th>\n",
       "      <td>3.30</td>\n",
       "      <td>6.3</td>\n",
       "      <td>0.30</td>\n",
       "      <td>0.34</td>\n",
       "      <td>0.049</td>\n",
       "      <td>132.0</td>\n",
       "      <td>14.0</td>\n",
       "      <td>0.49</td>\n",
       "      <td>1.6</td>\n",
       "      <td>0.9940</td>\n",
       "      <td>9.5</td>\n",
       "      <td>6</td>\n",
       "      <td>white</td>\n",
       "      <td>medium</td>\n",
       "      <td>False</td>\n",
       "      <td>False</td>\n",
       "      <td>0</td>\n",
       "    </tr>\n",
       "    <tr>\n",
       "      <th>2</th>\n",
       "      <td>3.26</td>\n",
       "      <td>8.1</td>\n",
       "      <td>0.28</td>\n",
       "      <td>0.40</td>\n",
       "      <td>0.050</td>\n",
       "      <td>97.0</td>\n",
       "      <td>30.0</td>\n",
       "      <td>0.44</td>\n",
       "      <td>6.9</td>\n",
       "      <td>0.9951</td>\n",
       "      <td>10.1</td>\n",
       "      <td>6</td>\n",
       "      <td>white</td>\n",
       "      <td>medium</td>\n",
       "      <td>False</td>\n",
       "      <td>False</td>\n",
       "      <td>0</td>\n",
       "    </tr>\n",
       "    <tr>\n",
       "      <th>3</th>\n",
       "      <td>3.19</td>\n",
       "      <td>7.2</td>\n",
       "      <td>0.23</td>\n",
       "      <td>0.32</td>\n",
       "      <td>0.058</td>\n",
       "      <td>186.0</td>\n",
       "      <td>47.0</td>\n",
       "      <td>0.40</td>\n",
       "      <td>8.5</td>\n",
       "      <td>0.9956</td>\n",
       "      <td>9.9</td>\n",
       "      <td>6</td>\n",
       "      <td>white</td>\n",
       "      <td>medium</td>\n",
       "      <td>False</td>\n",
       "      <td>False</td>\n",
       "      <td>0</td>\n",
       "    </tr>\n",
       "    <tr>\n",
       "      <th>6</th>\n",
       "      <td>3.18</td>\n",
       "      <td>6.2</td>\n",
       "      <td>0.32</td>\n",
       "      <td>0.16</td>\n",
       "      <td>0.045</td>\n",
       "      <td>136.0</td>\n",
       "      <td>30.0</td>\n",
       "      <td>0.47</td>\n",
       "      <td>7.0</td>\n",
       "      <td>0.9949</td>\n",
       "      <td>9.6</td>\n",
       "      <td>6</td>\n",
       "      <td>white</td>\n",
       "      <td>medium</td>\n",
       "      <td>False</td>\n",
       "      <td>False</td>\n",
       "      <td>0</td>\n",
       "    </tr>\n",
       "  </tbody>\n",
       "</table>\n",
       "</div>"
      ],
      "text/plain": [
       "     ph  fixed_acidity  volatile_acidity  citric_acid  chlorides  \\\n",
       "0  3.00            7.0              0.27         0.36      0.045   \n",
       "1  3.30            6.3              0.30         0.34      0.049   \n",
       "2  3.26            8.1              0.28         0.40      0.050   \n",
       "3  3.19            7.2              0.23         0.32      0.058   \n",
       "6  3.18            6.2              0.32         0.16      0.045   \n",
       "\n",
       "   total_sulfur_dioxide  free_sulfur_dioxide  sulphates  residual_sugar  \\\n",
       "0                 170.0                 45.0       0.45            20.7   \n",
       "1                 132.0                 14.0       0.49             1.6   \n",
       "2                  97.0                 30.0       0.44             6.9   \n",
       "3                 186.0                 47.0       0.40             8.5   \n",
       "6                 136.0                 30.0       0.47             7.0   \n",
       "\n",
       "   density  alcohol  quality  color quality_label  \\\n",
       "0   1.0010      8.8        6  white        medium   \n",
       "1   0.9940      9.5        6  white        medium   \n",
       "2   0.9951     10.1        6  white        medium   \n",
       "3   0.9956      9.9        6  white        medium   \n",
       "6   0.9949      9.6        6  white        medium   \n",
       "\n",
       "   total_sulfur_dioxide_above_eu_limit  volatile_acid_above_eu_limit  \\\n",
       "0                                False                         False   \n",
       "1                                False                         False   \n",
       "2                                False                         False   \n",
       "3                                False                         False   \n",
       "6                                False                         False   \n",
       "\n",
       "   input_outlier_count  \n",
       "0                    1  \n",
       "1                    0  \n",
       "2                    0  \n",
       "3                    0  \n",
       "6                    0  "
      ]
     },
     "execution_count": 290,
     "metadata": {},
     "output_type": "execute_result"
    }
   ],
   "source": [
    "wine_w.head()"
   ]
  },
  {
   "cell_type": "markdown",
   "id": "6333138b",
   "metadata": {},
   "source": [
    "## Legal Limits on White Wines"
   ]
  },
  {
   "cell_type": "code",
   "execution_count": 291,
   "id": "c05cf3f7",
   "metadata": {},
   "outputs": [
    {
     "data": {
      "text/plain": [
       "quality\n",
       "3      5\n",
       "4      6\n",
       "5     96\n",
       "6    102\n",
       "7      5\n",
       "8      1\n",
       "Name: count, dtype: int64"
      ]
     },
     "execution_count": 291,
     "metadata": {},
     "output_type": "execute_result"
    }
   ],
   "source": [
    "# illegal white wines\n",
    "wine_w_illegal_counts = wine_w[wine_w_illegal].quality.value_counts().sort_index()\n",
    "wine_w_illegal_counts"
   ]
  },
  {
   "cell_type": "code",
   "execution_count": 292,
   "id": "50f9eb22",
   "metadata": {},
   "outputs": [
    {
     "name": "stdout",
     "output_type": "stream",
     "text": [
      "215\n",
      "0\n"
     ]
    }
   ],
   "source": [
    "# count illegal wines\n",
    "print(wine_w.total_sulfur_dioxide_above_eu_limit.sum())\n",
    "print(wine_w.volatile_acid_above_eu_limit.sum())"
   ]
  },
  {
   "cell_type": "code",
   "execution_count": 293,
   "id": "5de1a410",
   "metadata": {},
   "outputs": [
    {
     "data": {
      "text/plain": [
       "Text(0, 0.5, '')"
      ]
     },
     "execution_count": 293,
     "metadata": {},
     "output_type": "execute_result"
    },
    {
     "data": {
      "image/png": "[encoded data removed]",
      "text/plain": [
       "<Figure size 640x480 with 1 Axes>"
      ]
     },
     "metadata": {},
     "output_type": "display_data"
    }
   ],
   "source": [
    "# plot illegal white wines\n",
    "ax = sns.barplot(wine_w_illegal_counts)\n",
    "\n",
    "ax.set_title('Illegal White Wines according to EU law')\n",
    "ax.set_xlabel('Quality')\n",
    "ax.set_ylabel('')"
   ]
  },
  {
   "cell_type": "code",
   "execution_count": 294,
   "id": "b583fff5",
   "metadata": {},
   "outputs": [
    {
     "data": {
      "application/vnd.microsoft.datawrangler.viewer.v0+json": {
       "columns": [
        {
         "name": "index",
         "rawType": "int64",
         "type": "integer"
        },
        {
         "name": "ph",
         "rawType": "float64",
         "type": "float"
        },
        {
         "name": "fixed_acidity",
         "rawType": "float64",
         "type": "float"
        },
        {
         "name": "volatile_acidity",
         "rawType": "float64",
         "type": "float"
        },
        {
         "name": "citric_acid",
         "rawType": "float64",
         "type": "float"
        },
        {
         "name": "chlorides",
         "rawType": "float64",
         "type": "float"
        },
        {
         "name": "total_sulfur_dioxide",
         "rawType": "float64",
         "type": "float"
        },
        {
         "name": "free_sulfur_dioxide",
         "rawType": "float64",
         "type": "float"
        },
        {
         "name": "sulphates",
         "rawType": "float64",
         "type": "float"
        },
        {
         "name": "residual_sugar",
         "rawType": "float64",
         "type": "float"
        },
        {
         "name": "density",
         "rawType": "float64",
         "type": "float"
        },
        {
         "name": "alcohol",
         "rawType": "float64",
         "type": "float"
        },
        {
         "name": "quality",
         "rawType": "int64",
         "type": "integer"
        },
        {
         "name": "color",
         "rawType": "category",
         "type": "unknown"
        },
        {
         "name": "quality_label",
         "rawType": "category",
         "type": "unknown"
        },
        {
         "name": "total_sulfur_dioxide_above_eu_limit",
         "rawType": "bool",
         "type": "boolean"
        },
        {
         "name": "volatile_acid_above_eu_limit",
         "rawType": "bool",
         "type": "boolean"
        },
        {
         "name": "input_outlier_count",
         "rawType": "int64",
         "type": "integer"
        }
       ],
       "conversionMethod": "pd.DataFrame",
       "ref": "6c3a380d-5496-4934-bd85-cc1f5fd6c218",
       "rows": [
        [
         "432",
         "3.18",
         "7.4",
         "0.155",
         "0.34",
         "0.045",
         "214.0",
         "73.5",
         "0.61",
         "2.3",
         "0.9934",
         "9.9",
         "7",
         "white",
         "high",
         "True",
         "False",
         "0"
        ],
        [
         "1609",
         "3.09",
         "8.1",
         "0.2",
         "0.49",
         "0.048",
         "212.0",
         "46.0",
         "0.46",
         "11.8",
         "0.9968",
         "10.0",
         "7",
         "white",
         "high",
         "True",
         "False",
         "0"
        ],
        [
         "1980",
         "3.14",
         "7.6",
         "0.2",
         "0.3",
         "0.056",
         "212.5",
         "53.0",
         "0.46",
         "14.2",
         "0.999",
         "8.9",
         "8",
         "white",
         "high",
         "True",
         "False",
         "0"
        ],
        [
         "2167",
         "3.14",
         "7.4",
         "0.19",
         "0.3",
         "0.053",
         "229.0",
         "48.5",
         "0.49",
         "12.8",
         "0.9986",
         "9.1",
         "7",
         "white",
         "high",
         "True",
         "False",
         "0"
        ],
        [
         "2175",
         "3.14",
         "7.4",
         "0.19",
         "0.3",
         "0.053",
         "212.0",
         "48.5",
         "0.49",
         "12.8",
         "0.9986",
         "9.1",
         "7",
         "white",
         "high",
         "True",
         "False",
         "0"
        ],
        [
         "2770",
         "3.26",
         "6.4",
         "0.44",
         "0.44",
         "0.048",
         "228.0",
         "29.0",
         "0.54",
         "14.4",
         "0.99955",
         "8.8",
         "7",
         "white",
         "high",
         "True",
         "False",
         "0"
        ]
       ],
       "shape": {
        "columns": 17,
        "rows": 6
       }
      },
      "text/html": [
       "<div>\n",
       "<style scoped>\n",
       "    .dataframe tbody tr th:only-of-type {\n",
       "        vertical-align: middle;\n",
       "    }\n",
       "\n",
       "    .dataframe tbody tr th {\n",
       "        vertical-align: top;\n",
       "    }\n",
       "\n",
       "    .dataframe thead th {\n",
       "        text-align: right;\n",
       "    }\n",
       "</style>\n",
       "<table border=\"1\" class=\"dataframe\">\n",
       "  <thead>\n",
       "    <tr style=\"text-align: right;\">\n",
       "      <th></th>\n",
       "      <th>ph</th>\n",
       "      <th>fixed_acidity</th>\n",
       "      <th>volatile_acidity</th>\n",
       "      <th>citric_acid</th>\n",
       "      <th>chlorides</th>\n",
       "      <th>total_sulfur_dioxide</th>\n",
       "      <th>free_sulfur_dioxide</th>\n",
       "      <th>sulphates</th>\n",
       "      <th>residual_sugar</th>\n",
       "      <th>density</th>\n",
       "      <th>alcohol</th>\n",
       "      <th>quality</th>\n",
       "      <th>color</th>\n",
       "      <th>quality_label</th>\n",
       "      <th>total_sulfur_dioxide_above_eu_limit</th>\n",
       "      <th>volatile_acid_above_eu_limit</th>\n",
       "      <th>input_outlier_count</th>\n",
       "    </tr>\n",
       "  </thead>\n",
       "  <tbody>\n",
       "    <tr>\n",
       "      <th>432</th>\n",
       "      <td>3.18</td>\n",
       "      <td>7.4</td>\n",
       "      <td>0.155</td>\n",
       "      <td>0.34</td>\n",
       "      <td>0.045</td>\n",
       "      <td>214.0</td>\n",
       "      <td>73.5</td>\n",
       "      <td>0.61</td>\n",
       "      <td>2.3</td>\n",
       "      <td>0.99340</td>\n",
       "      <td>9.9</td>\n",
       "      <td>7</td>\n",
       "      <td>white</td>\n",
       "      <td>high</td>\n",
       "      <td>True</td>\n",
       "      <td>False</td>\n",
       "      <td>0</td>\n",
       "    </tr>\n",
       "    <tr>\n",
       "      <th>1609</th>\n",
       "      <td>3.09</td>\n",
       "      <td>8.1</td>\n",
       "      <td>0.200</td>\n",
       "      <td>0.49</td>\n",
       "      <td>0.048</td>\n",
       "      <td>212.0</td>\n",
       "      <td>46.0</td>\n",
       "      <td>0.46</td>\n",
       "      <td>11.8</td>\n",
       "      <td>0.99680</td>\n",
       "      <td>10.0</td>\n",
       "      <td>7</td>\n",
       "      <td>white</td>\n",
       "      <td>high</td>\n",
       "      <td>True</td>\n",
       "      <td>False</td>\n",
       "      <td>0</td>\n",
       "    </tr>\n",
       "    <tr>\n",
       "      <th>1980</th>\n",
       "      <td>3.14</td>\n",
       "      <td>7.6</td>\n",
       "      <td>0.200</td>\n",
       "      <td>0.30</td>\n",
       "      <td>0.056</td>\n",
       "      <td>212.5</td>\n",
       "      <td>53.0</td>\n",
       "      <td>0.46</td>\n",
       "      <td>14.2</td>\n",
       "      <td>0.99900</td>\n",
       "      <td>8.9</td>\n",
       "      <td>8</td>\n",
       "      <td>white</td>\n",
       "      <td>high</td>\n",
       "      <td>True</td>\n",
       "      <td>False</td>\n",
       "      <td>0</td>\n",
       "    </tr>\n",
       "    <tr>\n",
       "      <th>2167</th>\n",
       "      <td>3.14</td>\n",
       "      <td>7.4</td>\n",
       "      <td>0.190</td>\n",
       "      <td>0.30</td>\n",
       "      <td>0.053</td>\n",
       "      <td>229.0</td>\n",
       "      <td>48.5</td>\n",
       "      <td>0.49</td>\n",
       "      <td>12.8</td>\n",
       "      <td>0.99860</td>\n",
       "      <td>9.1</td>\n",
       "      <td>7</td>\n",
       "      <td>white</td>\n",
       "      <td>high</td>\n",
       "      <td>True</td>\n",
       "      <td>False</td>\n",
       "      <td>0</td>\n",
       "    </tr>\n",
       "    <tr>\n",
       "      <th>2175</th>\n",
       "      <td>3.14</td>\n",
       "      <td>7.4</td>\n",
       "      <td>0.190</td>\n",
       "      <td>0.30</td>\n",
       "      <td>0.053</td>\n",
       "      <td>212.0</td>\n",
       "      <td>48.5</td>\n",
       "      <td>0.49</td>\n",
       "      <td>12.8</td>\n",
       "      <td>0.99860</td>\n",
       "      <td>9.1</td>\n",
       "      <td>7</td>\n",
       "      <td>white</td>\n",
       "      <td>high</td>\n",
       "      <td>True</td>\n",
       "      <td>False</td>\n",
       "      <td>0</td>\n",
       "    </tr>\n",
       "    <tr>\n",
       "      <th>2770</th>\n",
       "      <td>3.26</td>\n",
       "      <td>6.4</td>\n",
       "      <td>0.440</td>\n",
       "      <td>0.44</td>\n",
       "      <td>0.048</td>\n",
       "      <td>228.0</td>\n",
       "      <td>29.0</td>\n",
       "      <td>0.54</td>\n",
       "      <td>14.4</td>\n",
       "      <td>0.99955</td>\n",
       "      <td>8.8</td>\n",
       "      <td>7</td>\n",
       "      <td>white</td>\n",
       "      <td>high</td>\n",
       "      <td>True</td>\n",
       "      <td>False</td>\n",
       "      <td>0</td>\n",
       "    </tr>\n",
       "  </tbody>\n",
       "</table>\n",
       "</div>"
      ],
      "text/plain": [
       "        ph  fixed_acidity  volatile_acidity  citric_acid  chlorides  \\\n",
       "432   3.18            7.4             0.155         0.34      0.045   \n",
       "1609  3.09            8.1             0.200         0.49      0.048   \n",
       "1980  3.14            7.6             0.200         0.30      0.056   \n",
       "2167  3.14            7.4             0.190         0.30      0.053   \n",
       "2175  3.14            7.4             0.190         0.30      0.053   \n",
       "2770  3.26            6.4             0.440         0.44      0.048   \n",
       "\n",
       "      total_sulfur_dioxide  free_sulfur_dioxide  sulphates  residual_sugar  \\\n",
       "432                  214.0                 73.5       0.61             2.3   \n",
       "1609                 212.0                 46.0       0.46            11.8   \n",
       "1980                 212.5                 53.0       0.46            14.2   \n",
       "2167                 229.0                 48.5       0.49            12.8   \n",
       "2175                 212.0                 48.5       0.49            12.8   \n",
       "2770                 228.0                 29.0       0.54            14.4   \n",
       "\n",
       "      density  alcohol  quality  color quality_label  \\\n",
       "432   0.99340      9.9        7  white          high   \n",
       "1609  0.99680     10.0        7  white          high   \n",
       "1980  0.99900      8.9        8  white          high   \n",
       "2167  0.99860      9.1        7  white          high   \n",
       "2175  0.99860      9.1        7  white          high   \n",
       "2770  0.99955      8.8        7  white          high   \n",
       "\n",
       "      total_sulfur_dioxide_above_eu_limit  volatile_acid_above_eu_limit  \\\n",
       "432                                  True                         False   \n",
       "1609                                 True                         False   \n",
       "1980                                 True                         False   \n",
       "2167                                 True                         False   \n",
       "2175                                 True                         False   \n",
       "2770                                 True                         False   \n",
       "\n",
       "      input_outlier_count  \n",
       "432                     0  \n",
       "1609                    0  \n",
       "1980                    0  \n",
       "2167                    0  \n",
       "2175                    0  \n",
       "2770                    0  "
      ]
     },
     "execution_count": 294,
     "metadata": {},
     "output_type": "execute_result"
    }
   ],
   "source": [
    "wine_w[wine_w_illegal & (wine_w.quality > 6)]"
   ]
  },
  {
   "cell_type": "markdown",
   "id": "84e5743e",
   "metadata": {},
   "source": [
    "## Legal Limits on Red Wine"
   ]
  },
  {
   "cell_type": "code",
   "execution_count": 295,
   "id": "edc36c2c",
   "metadata": {},
   "outputs": [
    {
     "data": {
      "text/plain": [
       "quality\n",
       "3    1\n",
       "5    3\n",
       "6    1\n",
       "7    2\n",
       "Name: count, dtype: int64"
      ]
     },
     "execution_count": 295,
     "metadata": {},
     "output_type": "execute_result"
    }
   ],
   "source": [
    "wine_r_illegal_counts = wine_r[wine_r_illegal].quality.value_counts().sort_index()\n",
    "wine_r_illegal_counts"
   ]
  },
  {
   "cell_type": "code",
   "execution_count": 296,
   "id": "33b8acd8",
   "metadata": {},
   "outputs": [
    {
     "name": "stdout",
     "output_type": "stream",
     "text": [
      "3\n",
      "4\n"
     ]
    }
   ],
   "source": [
    "# count illegal wines \n",
    "print(wine_r.total_sulfur_dioxide_above_eu_limit.sum())\n",
    "print(wine_r.volatile_acid_above_eu_limit.sum())"
   ]
  },
  {
   "cell_type": "code",
   "execution_count": 297,
   "id": "6cb82375",
   "metadata": {},
   "outputs": [
    {
     "data": {
      "image/png": "[encoded data removed]",
      "text/plain": [
       "<Figure size 640x480 with 1 Axes>"
      ]
     },
     "metadata": {},
     "output_type": "display_data"
    }
   ],
   "source": [
    "# plot illegal red wines\n",
    "ax = sns.barplot(wine_r_illegal_counts)\n",
    "\n",
    "ax.set_title('Illegal Red Wines according to EU law')\n",
    "ax.set_xlabel('Quality')\n",
    "ax.set_ylabel('')\n",
    "\n",
    "plt.show()"
   ]
  },
  {
   "cell_type": "code",
   "execution_count": null,
   "id": "19c4c109",
   "metadata": {},
   "outputs": [],
   "source": []
  },
  {
   "cell_type": "markdown",
   "id": "1466b499",
   "metadata": {},
   "source": [
    "## Conclusions on Illegal Wines in the EU\n",
    "* There are many illegal white wines and only a few illegal red wines.\n",
    "* The limits are only useful if we consider selling / dealing with wines in the EU.\n",
    "* It is unclear what sweet wines are and if those limits apply to any of the wines in the data set.\n",
    "* What are the sales of vinho verde outside of the EU?\n",
    "\n",
    "Result: The illegal wines should be kept in the data set."
   ]
  },
  {
   "cell_type": "markdown",
   "id": "149f5e83",
   "metadata": {},
   "source": [
    "# Outliers"
   ]
  },
  {
   "cell_type": "markdown",
   "id": "bb76d733",
   "metadata": {},
   "source": [
    "## White Wine Outliers"
   ]
  },
  {
   "cell_type": "markdown",
   "id": "e58f5198",
   "metadata": {},
   "source": [
    "### Outliers per input quantity"
   ]
  },
  {
   "cell_type": "code",
   "execution_count": 298,
   "id": "03186fd6",
   "metadata": {},
   "outputs": [
    {
     "name": "stdout",
     "output_type": "stream",
     "text": [
      "White wines with at least \n",
      "\tone outlier value\t 706\n",
      "\ttwo outlier values\t 139\n",
      "\tthree outlier values\t 12\n"
     ]
    }
   ],
   "source": [
    "# Outlier Wines\n",
    "# TODO how to format table?\n",
    "print('White wines with at least ')\n",
    "print('\\tone outlier value\\t', sum(wine_w_is_outlier.T.sum()>0))\n",
    "print('\\ttwo outlier values\\t', sum(wine_w_is_outlier.T.sum()>1))\n",
    "print('\\tthree outlier values\\t', sum(wine_w_is_outlier.T.sum()>2))"
   ]
  },
  {
   "cell_type": "code",
   "execution_count": 299,
   "id": "9163d304",
   "metadata": {},
   "outputs": [
    {
     "name": "stdout",
     "output_type": "stream",
     "text": [
      "Count of outliers per input quantity\n",
      " citric_acid             223\n",
      "chlorides               178\n",
      "volatile_acidity        133\n",
      "fixed_acidity           106\n",
      "sulphates                96\n",
      "ph                       46\n",
      "free_sulfur_dioxide      44\n",
      "residual_sugar           16\n",
      "total_sulfur_dioxide     14\n",
      "density                   6\n",
      "alcohol                   0\n",
      "dtype: int64\n",
      "\n",
      "Count of outliers in input quantities\n",
      " 862\n",
      "\n",
      "Count of White wines with some sort of outlier input values 706\n"
     ]
    }
   ],
   "source": [
    "outlier_per_quantity = wine_w_is_outlier.sum().sort_values(ascending=False)\n",
    "\n",
    "print('Count of outliers per input quantity\\n', outlier_per_quantity)\n",
    "print()\n",
    "print('Count of outliers in input quantities\\n', outlier_per_quantity.sum())\n",
    "print()\n",
    "print('Count of White wines with some sort of outlier input values', wine_w_is_outlier_any.sum())"
   ]
  },
  {
   "cell_type": "code",
   "execution_count": 300,
   "id": "e573434c",
   "metadata": {},
   "outputs": [
    {
     "data": {
      "image/png": "[encoded data removed]",
      "text/plain": [
       "<Figure size 640x480 with 1 Axes>"
      ]
     },
     "metadata": {},
     "output_type": "display_data"
    }
   ],
   "source": [
    "ax = sns.barplot(outlier_per_quantity[all_inputs])\n",
    "\n",
    "for bars in ax.containers:\n",
    "    for bar, input in zip(bars, all_inputs):\n",
    "        bar.set_facecolor(input_param_colors[input])\n",
    "\n",
    "ax.tick_params(axis='x', labelrotation=90)\n",
    "\n",
    "ax.set_title('Outlier Count per Input Quantity')\n",
    "\n",
    "plt.tight_layout()\n",
    "plt.show()"
   ]
  },
  {
   "cell_type": "markdown",
   "id": "3cb95863",
   "metadata": {},
   "source": [
    "### Outliers per Quality "
   ]
  },
  {
   "cell_type": "code",
   "execution_count": 301,
   "id": "83ef3827",
   "metadata": {},
   "outputs": [
    {
     "name": "stdout",
     "output_type": "stream",
     "text": [
      "Fraction of White wines with some sort of outlier input values split by \n",
      "          total_count  outlier_count  outlier_fraction  quality\n",
      "quality                                                       \n",
      "3                 20             11          0.550000        3\n",
      "4                153             69          0.450980        4\n",
      "5               1175            281          0.239149        5\n",
      "6               1788            261          0.145973        6\n",
      "7                689             63          0.091437        7\n",
      "8                131             20          0.152672        8\n",
      "9                  5              1          0.200000        9\n"
     ]
    }
   ],
   "source": [
    "# TODO redo this analysis! The outliers have to be calculated among the quality groups, like in the boxplot\n",
    "outliers_per_quality = pd.concat(\n",
    "          [\n",
    "              wine_w.quality.value_counts().rename('total_count'),\n",
    "              wine_w[wine_w_is_outlier_any].quality.value_counts().rename('outlier_count'),\n",
    "              (wine_w[wine_w_is_outlier_any].quality.value_counts() / wine_w.quality.value_counts()),\n",
    "          ],\n",
    "          axis=1,\n",
    "          verify_integrity=True\n",
    "      #     right_index=True, left_index=True\n",
    "          ).sort_index().rename(columns={'count':'outlier_fraction'})\n",
    "\n",
    "outliers_per_quality['quality'] = outliers_per_quality.index\n",
    "\n",
    "print('Fraction of White wines with some sort of outlier input values split by', '\\n',\n",
    "      outliers_per_quality\n",
    "    )"
   ]
  },
  {
   "cell_type": "code",
   "execution_count": 302,
   "id": "04d7be01",
   "metadata": {},
   "outputs": [
    {
     "name": "stderr",
     "output_type": "stream",
     "text": [
      "c:\\Users\\olive\\anaconda3\\envs\\base_data_analysis\\Lib\\site-packages\\seaborn\\categorical.py:2761: UserWarning: catplot is a figure-level function and does not accept target axes. You may wish to try countplot\n",
      "  warnings.warn(msg, UserWarning)\n"
     ]
    },
    {
     "data": {
      "image/png": "[encoded data removed]",
      "text/plain": [
       "<Figure size 684.875x600 with 1 Axes>"
      ]
     },
     "metadata": {},
     "output_type": "display_data"
    }
   ],
   "source": [
    "# TODO this graph has to be refined for the presentation!\n",
    "# TODO there might be a better plot than this\n",
    "# fig, ax = plt.subplots(1, 1, figsize=(8,6))\n",
    "wine_w['is_outlier'] = wine_w_is_outlier_any\n",
    "\n",
    "cat = sns.catplot(wine_w, x='quality', hue='is_outlier', kind='count', height=6, aspect=1, ax=ax)\n",
    "\n",
    "ax = plt.gca()\n",
    "fig = plt.gcf()\n",
    "\n",
    "ax.set_title('Outlier Count per Quality for White Wine')\n",
    "ax.set_xlabel('Quality')\n",
    "ax.set_ylabel('Count')\n",
    "\n",
    "sns.despine(left = False, bottom = False, top = False, right=False) # this would remove all spines\n",
    "\n",
    "plt.tight_layout()\n",
    "\n",
    "plt.show()"
   ]
  },
  {
   "cell_type": "code",
   "execution_count": 303,
   "id": "c48112d6",
   "metadata": {},
   "outputs": [
    {
     "data": {
      "image/png": "[encoded data removed]",
      "text/plain": [
       "<Figure size 800x600 with 1 Axes>"
      ]
     },
     "metadata": {},
     "output_type": "display_data"
    }
   ],
   "source": [
    "import matplotlib.ticker as mtick\n",
    "\n",
    "fig, ax = plt.subplots(1, 1, figsize=(8,6))\n",
    "\n",
    "bar1 = sns.barplot(outliers_per_quality, x=outliers_per_quality.index, y='total_count')\n",
    "bar2 = sns.barplot(outliers_per_quality, x=outliers_per_quality.index, y='outlier_count')\n",
    "\n",
    "ax = plt.gca()\n",
    "\n",
    "# settings ax[0]\n",
    "ax.set_title('Fraction of outliers per quality rating')\n",
    "\n",
    "ax.set_xlabel('Quality')\n",
    "\n",
    "# ax.yaxis.set_major_formatter(mtick.PercentFormatter(1))\n",
    "ax.set_ylabel('Count')\n",
    "# ax.set_yscale('log')\n",
    "\n",
    "# label data\n",
    "bar2.bar_label(\n",
    "    bar2.containers[1],\n",
    "    labels=[f'{value:.0%}' for value in outliers_per_quality.outlier_fraction],\n",
    "    #fmt=f'{value:.0%}'\n",
    "    label_type='center'\n",
    "    )\n",
    "\n",
    "plt.tight_layout()"
   ]
  },
  {
   "cell_type": "code",
   "execution_count": 304,
   "id": "c7de741d",
   "metadata": {},
   "outputs": [
    {
     "data": {
      "application/vnd.microsoft.datawrangler.viewer.v0+json": {
       "columns": [
        {
         "name": "quality",
         "rawType": "int64",
         "type": "integer"
        },
        {
         "name": "ph",
         "rawType": "float64",
         "type": "float"
        },
        {
         "name": "fixed_acidity",
         "rawType": "float64",
         "type": "float"
        },
        {
         "name": "volatile_acidity",
         "rawType": "float64",
         "type": "float"
        },
        {
         "name": "citric_acid",
         "rawType": "float64",
         "type": "float"
        },
        {
         "name": "chlorides",
         "rawType": "float64",
         "type": "float"
        },
        {
         "name": "total_sulfur_dioxide",
         "rawType": "float64",
         "type": "float"
        },
        {
         "name": "free_sulfur_dioxide",
         "rawType": "float64",
         "type": "float"
        },
        {
         "name": "sulphates",
         "rawType": "float64",
         "type": "float"
        },
        {
         "name": "residual_sugar",
         "rawType": "float64",
         "type": "float"
        },
        {
         "name": "density",
         "rawType": "float64",
         "type": "float"
        },
        {
         "name": "alcohol",
         "rawType": "float64",
         "type": "float"
        }
       ],
       "conversionMethod": "pd.DataFrame",
       "ref": "6c47cd7d-1e57-4b56-a206-3583fd8a0c06",
       "rows": [
        [
         "3",
         "0.0",
         "0.04716981132075472",
         "0.022556390977443608",
         "0.0",
         "0.011235955056179775",
         "0.21428571428571427",
         "0.09090909090909091",
         "0.0",
         "0.0",
         "0.0",
         null
        ],
        [
         "4",
         "0.06521739130434782",
         "0.1320754716981132",
         "0.24812030075187969",
         "0.09865470852017937",
         "0.06179775280898876",
         "0.14285714285714285",
         "0.045454545454545456",
         "0.041666666666666664",
         "0.0",
         "0.0",
         null
        ],
        [
         "5",
         "0.2391304347826087",
         "0.4056603773584906",
         "0.38345864661654133",
         "0.4618834080717489",
         "0.5168539325842697",
         "0.5",
         "0.3409090909090909",
         "0.13541666666666666",
         "0.375",
         "0.5",
         null
        ],
        [
         "6",
         "0.5217391304347826",
         "0.32075471698113206",
         "0.2556390977443609",
         "0.36771300448430494",
         "0.37640449438202245",
         "0.14285714285714285",
         "0.3409090909090909",
         "0.4375",
         "0.625",
         "0.5",
         null
        ],
        [
         "7",
         "0.17391304347826086",
         "0.0660377358490566",
         "0.05263157894736842",
         "0.05829596412556054",
         "0.028089887640449437",
         "0.0",
         "0.11363636363636363",
         "0.3020833333333333",
         "0.0",
         "0.0",
         null
        ],
        [
         "8",
         "0.0",
         "0.018867924528301886",
         "0.03759398496240601",
         "0.013452914798206279",
         "0.0056179775280898875",
         "0.0",
         "0.06818181818181818",
         "0.08333333333333333",
         "0.0",
         "0.0",
         null
        ],
        [
         "9",
         "0.0",
         "0.009433962264150943",
         "0.0",
         "0.0",
         "0.0",
         "0.0",
         "0.0",
         "0.0",
         "0.0",
         "0.0",
         null
        ]
       ],
       "shape": {
        "columns": 11,
        "rows": 7
       }
      },
      "text/html": [
       "<div>\n",
       "<style scoped>\n",
       "    .dataframe tbody tr th:only-of-type {\n",
       "        vertical-align: middle;\n",
       "    }\n",
       "\n",
       "    .dataframe tbody tr th {\n",
       "        vertical-align: top;\n",
       "    }\n",
       "\n",
       "    .dataframe thead th {\n",
       "        text-align: right;\n",
       "    }\n",
       "</style>\n",
       "<table border=\"1\" class=\"dataframe\">\n",
       "  <thead>\n",
       "    <tr style=\"text-align: right;\">\n",
       "      <th></th>\n",
       "      <th>ph</th>\n",
       "      <th>fixed_acidity</th>\n",
       "      <th>volatile_acidity</th>\n",
       "      <th>citric_acid</th>\n",
       "      <th>chlorides</th>\n",
       "      <th>total_sulfur_dioxide</th>\n",
       "      <th>free_sulfur_dioxide</th>\n",
       "      <th>sulphates</th>\n",
       "      <th>residual_sugar</th>\n",
       "      <th>density</th>\n",
       "      <th>alcohol</th>\n",
       "    </tr>\n",
       "    <tr>\n",
       "      <th>quality</th>\n",
       "      <th></th>\n",
       "      <th></th>\n",
       "      <th></th>\n",
       "      <th></th>\n",
       "      <th></th>\n",
       "      <th></th>\n",
       "      <th></th>\n",
       "      <th></th>\n",
       "      <th></th>\n",
       "      <th></th>\n",
       "      <th></th>\n",
       "    </tr>\n",
       "  </thead>\n",
       "  <tbody>\n",
       "    <tr>\n",
       "      <th>3</th>\n",
       "      <td>0.000000</td>\n",
       "      <td>0.047170</td>\n",
       "      <td>0.022556</td>\n",
       "      <td>0.000000</td>\n",
       "      <td>0.011236</td>\n",
       "      <td>0.214286</td>\n",
       "      <td>0.090909</td>\n",
       "      <td>0.000000</td>\n",
       "      <td>0.000</td>\n",
       "      <td>0.0</td>\n",
       "      <td>NaN</td>\n",
       "    </tr>\n",
       "    <tr>\n",
       "      <th>4</th>\n",
       "      <td>0.065217</td>\n",
       "      <td>0.132075</td>\n",
       "      <td>0.248120</td>\n",
       "      <td>0.098655</td>\n",
       "      <td>0.061798</td>\n",
       "      <td>0.142857</td>\n",
       "      <td>0.045455</td>\n",
       "      <td>0.041667</td>\n",
       "      <td>0.000</td>\n",
       "      <td>0.0</td>\n",
       "      <td>NaN</td>\n",
       "    </tr>\n",
       "    <tr>\n",
       "      <th>5</th>\n",
       "      <td>0.239130</td>\n",
       "      <td>0.405660</td>\n",
       "      <td>0.383459</td>\n",
       "      <td>0.461883</td>\n",
       "      <td>0.516854</td>\n",
       "      <td>0.500000</td>\n",
       "      <td>0.340909</td>\n",
       "      <td>0.135417</td>\n",
       "      <td>0.375</td>\n",
       "      <td>0.5</td>\n",
       "      <td>NaN</td>\n",
       "    </tr>\n",
       "    <tr>\n",
       "      <th>6</th>\n",
       "      <td>0.521739</td>\n",
       "      <td>0.320755</td>\n",
       "      <td>0.255639</td>\n",
       "      <td>0.367713</td>\n",
       "      <td>0.376404</td>\n",
       "      <td>0.142857</td>\n",
       "      <td>0.340909</td>\n",
       "      <td>0.437500</td>\n",
       "      <td>0.625</td>\n",
       "      <td>0.5</td>\n",
       "      <td>NaN</td>\n",
       "    </tr>\n",
       "    <tr>\n",
       "      <th>7</th>\n",
       "      <td>0.173913</td>\n",
       "      <td>0.066038</td>\n",
       "      <td>0.052632</td>\n",
       "      <td>0.058296</td>\n",
       "      <td>0.028090</td>\n",
       "      <td>0.000000</td>\n",
       "      <td>0.113636</td>\n",
       "      <td>0.302083</td>\n",
       "      <td>0.000</td>\n",
       "      <td>0.0</td>\n",
       "      <td>NaN</td>\n",
       "    </tr>\n",
       "    <tr>\n",
       "      <th>8</th>\n",
       "      <td>0.000000</td>\n",
       "      <td>0.018868</td>\n",
       "      <td>0.037594</td>\n",
       "      <td>0.013453</td>\n",
       "      <td>0.005618</td>\n",
       "      <td>0.000000</td>\n",
       "      <td>0.068182</td>\n",
       "      <td>0.083333</td>\n",
       "      <td>0.000</td>\n",
       "      <td>0.0</td>\n",
       "      <td>NaN</td>\n",
       "    </tr>\n",
       "    <tr>\n",
       "      <th>9</th>\n",
       "      <td>0.000000</td>\n",
       "      <td>0.009434</td>\n",
       "      <td>0.000000</td>\n",
       "      <td>0.000000</td>\n",
       "      <td>0.000000</td>\n",
       "      <td>0.000000</td>\n",
       "      <td>0.000000</td>\n",
       "      <td>0.000000</td>\n",
       "      <td>0.000</td>\n",
       "      <td>0.0</td>\n",
       "      <td>NaN</td>\n",
       "    </tr>\n",
       "  </tbody>\n",
       "</table>\n",
       "</div>"
      ],
      "text/plain": [
       "               ph  fixed_acidity  volatile_acidity  citric_acid  chlorides  \\\n",
       "quality                                                                      \n",
       "3        0.000000       0.047170          0.022556     0.000000   0.011236   \n",
       "4        0.065217       0.132075          0.248120     0.098655   0.061798   \n",
       "5        0.239130       0.405660          0.383459     0.461883   0.516854   \n",
       "6        0.521739       0.320755          0.255639     0.367713   0.376404   \n",
       "7        0.173913       0.066038          0.052632     0.058296   0.028090   \n",
       "8        0.000000       0.018868          0.037594     0.013453   0.005618   \n",
       "9        0.000000       0.009434          0.000000     0.000000   0.000000   \n",
       "\n",
       "         total_sulfur_dioxide  free_sulfur_dioxide  sulphates  residual_sugar  \\\n",
       "quality                                                                         \n",
       "3                    0.214286             0.090909   0.000000           0.000   \n",
       "4                    0.142857             0.045455   0.041667           0.000   \n",
       "5                    0.500000             0.340909   0.135417           0.375   \n",
       "6                    0.142857             0.340909   0.437500           0.625   \n",
       "7                    0.000000             0.113636   0.302083           0.000   \n",
       "8                    0.000000             0.068182   0.083333           0.000   \n",
       "9                    0.000000             0.000000   0.000000           0.000   \n",
       "\n",
       "         density  alcohol  \n",
       "quality                    \n",
       "3            0.0      NaN  \n",
       "4            0.0      NaN  \n",
       "5            0.5      NaN  \n",
       "6            0.5      NaN  \n",
       "7            0.0      NaN  \n",
       "8            0.0      NaN  \n",
       "9            0.0      NaN  "
      ]
     },
     "execution_count": 304,
     "metadata": {},
     "output_type": "execute_result"
    }
   ],
   "source": [
    "# pivot table\n",
    "# how are the outliers in a quantity distributed over quality? many outliers per input quantity per quality\n",
    "\n",
    "# merge is_outlier with wine qualities to count values by summing up\n",
    "is_outlier_quality = pd.merge(wine_w_is_outlier, wine_w.loc[:, 'quality'], left_index=True, right_index=True)\n",
    "\n",
    "# transform with pivot table\n",
    "outlier_per_quality = pd.pivot_table(is_outlier_quality, values=all_inputs, index='quality', aggfunc='sum')[all_inputs]\n",
    "outlier_per_quality / outlier_per_quality.sum()"
   ]
  },
  {
   "cell_type": "code",
   "execution_count": 305,
   "id": "56504ded",
   "metadata": {},
   "outputs": [],
   "source": [
    "# distribution of outliers along quality NOTE does not really make sense to calculate this, was still fun though!\n",
    "# pivot = pd.pivot_table(is_outlier_quality, values=all_inputs, index='quality', aggfunc='sum')[all_inputs]\n",
    "# is_outlier_quality[all_inputs].sum()\n",
    "# for id, val in is_outlier_quality[all_inputs].sum().items():\n",
    "#     pivot.loc[:, id] /= val\n",
    "# pivot"
   ]
  },
  {
   "cell_type": "markdown",
   "id": "f2f604b1",
   "metadata": {},
   "source": [
    "### Outliers per Quality Label"
   ]
  },
  {
   "cell_type": "code",
   "execution_count": 306,
   "id": "058e446d",
   "metadata": {},
   "outputs": [
    {
     "data": {
      "text/plain": [
       "Index(['ph', 'fixed_acidity', 'volatile_acidity', 'citric_acid', 'chlorides',\n",
       "       'total_sulfur_dioxide', 'free_sulfur_dioxide', 'sulphates',\n",
       "       'residual_sugar', 'density', 'alcohol', 'quality', 'color',\n",
       "       'quality_label', 'total_sulfur_dioxide_above_eu_limit',\n",
       "       'volatile_acid_above_eu_limit', 'input_outlier_count', 'is_outlier'],\n",
       "      dtype='object')"
      ]
     },
     "execution_count": 306,
     "metadata": {},
     "output_type": "execute_result"
    }
   ],
   "source": [
    "wine_w.columns"
   ]
  },
  {
   "cell_type": "code",
   "execution_count": 307,
   "id": "443da4a8",
   "metadata": {},
   "outputs": [
    {
     "name": "stdout",
     "output_type": "stream",
     "text": [
      "Fraction of White wines with some sort of outlier input values split by \n",
      "                total_count  fraction\n",
      "quality_label                       \n",
      "low                   1348  0.267804\n",
      "medium                1788  0.145973\n",
      "high                   825  0.101818\n"
     ]
    }
   ],
   "source": [
    "# no quality label defined here, move this section, if needed\n",
    "\n",
    "stomper = pd.merge(\n",
    "          wine_w.quality_label.value_counts(),\n",
    "          (wine_w[wine_w.is_outlier].quality_label.value_counts() / wine_w.quality_label.value_counts()),\n",
    "          right_index=True, left_index=True\n",
    "          ).sort_index().rename(columns={'count_x':'total_count', 'count_y':'fraction'})\n",
    "\n",
    "print('Fraction of White wines with some sort of outlier input values split by', '\\n', \n",
    "      stomper\n",
    "    )"
   ]
  },
  {
   "cell_type": "code",
   "execution_count": 308,
   "id": "21187c00",
   "metadata": {},
   "outputs": [
    {
     "name": "stderr",
     "output_type": "stream",
     "text": [
      "C:\\Users\\olive\\AppData\\Local\\Temp\\ipykernel_23352\\829496094.py:2: FutureWarning: The default of observed=False is deprecated and will be changed to True in a future version of pandas. Pass observed=False to retain current behavior or observed=True to adopt the future default and silence this warning.\n",
      "  wine_w.groupby(by=['quality_label','is_outlier']).agg({'quality_label':'count', 'quality':'mean'})\n"
     ]
    },
    {
     "data": {
      "application/vnd.microsoft.datawrangler.viewer.v0+json": {
       "columns": [
        {
         "name": "('quality_label', 'is_outlier')",
         "rawType": "object",
         "type": "unknown"
        },
        {
         "name": "quality_label",
         "rawType": "int64",
         "type": "integer"
        },
        {
         "name": "quality",
         "rawType": "float64",
         "type": "float"
        }
       ],
       "conversionMethod": "pd.DataFrame",
       "ref": "a3af6cda-1f46-4e90-bd25-1c5531b4dedd",
       "rows": [
        [
         "('low', np.False_)",
         "987",
         "4.896656534954407"
        ],
        [
         "('low', np.True_)",
         "361",
         "4.747922437673131"
        ],
        [
         "('medium', np.False_)",
         "1527",
         "6.0"
        ],
        [
         "('medium', np.True_)",
         "261",
         "6.0"
        ],
        [
         "('high', np.False_)",
         "741",
         "7.160593792172739"
        ],
        [
         "('high', np.True_)",
         "84",
         "7.261904761904762"
        ]
       ],
       "shape": {
        "columns": 2,
        "rows": 6
       }
      },
      "text/html": [
       "<div>\n",
       "<style scoped>\n",
       "    .dataframe tbody tr th:only-of-type {\n",
       "        vertical-align: middle;\n",
       "    }\n",
       "\n",
       "    .dataframe tbody tr th {\n",
       "        vertical-align: top;\n",
       "    }\n",
       "\n",
       "    .dataframe thead th {\n",
       "        text-align: right;\n",
       "    }\n",
       "</style>\n",
       "<table border=\"1\" class=\"dataframe\">\n",
       "  <thead>\n",
       "    <tr style=\"text-align: right;\">\n",
       "      <th></th>\n",
       "      <th></th>\n",
       "      <th>quality_label</th>\n",
       "      <th>quality</th>\n",
       "    </tr>\n",
       "    <tr>\n",
       "      <th>quality_label</th>\n",
       "      <th>is_outlier</th>\n",
       "      <th></th>\n",
       "      <th></th>\n",
       "    </tr>\n",
       "  </thead>\n",
       "  <tbody>\n",
       "    <tr>\n",
       "      <th rowspan=\"2\" valign=\"top\">low</th>\n",
       "      <th>False</th>\n",
       "      <td>987</td>\n",
       "      <td>4.896657</td>\n",
       "    </tr>\n",
       "    <tr>\n",
       "      <th>True</th>\n",
       "      <td>361</td>\n",
       "      <td>4.747922</td>\n",
       "    </tr>\n",
       "    <tr>\n",
       "      <th rowspan=\"2\" valign=\"top\">medium</th>\n",
       "      <th>False</th>\n",
       "      <td>1527</td>\n",
       "      <td>6.000000</td>\n",
       "    </tr>\n",
       "    <tr>\n",
       "      <th>True</th>\n",
       "      <td>261</td>\n",
       "      <td>6.000000</td>\n",
       "    </tr>\n",
       "    <tr>\n",
       "      <th rowspan=\"2\" valign=\"top\">high</th>\n",
       "      <th>False</th>\n",
       "      <td>741</td>\n",
       "      <td>7.160594</td>\n",
       "    </tr>\n",
       "    <tr>\n",
       "      <th>True</th>\n",
       "      <td>84</td>\n",
       "      <td>7.261905</td>\n",
       "    </tr>\n",
       "  </tbody>\n",
       "</table>\n",
       "</div>"
      ],
      "text/plain": [
       "                          quality_label   quality\n",
       "quality_label is_outlier                         \n",
       "low           False                 987  4.896657\n",
       "              True                  361  4.747922\n",
       "medium        False                1527  6.000000\n",
       "              True                  261  6.000000\n",
       "high          False                 741  7.160594\n",
       "              True                   84  7.261905"
      ]
     },
     "execution_count": 308,
     "metadata": {},
     "output_type": "execute_result"
    }
   ],
   "source": [
    "# quality of outliers vs. non-outliers\n",
    "wine_w.groupby(by=['quality_label','is_outlier']).agg({'quality_label':'count', 'quality':'mean'})"
   ]
  },
  {
   "cell_type": "markdown",
   "id": "04f46469",
   "metadata": {},
   "source": [
    "### Correlations"
   ]
  },
  {
   "cell_type": "code",
   "execution_count": 309,
   "id": "c6ef2c42",
   "metadata": {},
   "outputs": [
    {
     "data": {
      "image/png": "[encoded data removed]",
      "text/plain": [
       "<Figure size 1400x800 with 2 Axes>"
      ]
     },
     "metadata": {},
     "output_type": "display_data"
    }
   ],
   "source": [
    "# Plot correlations of original and cleaned data set side by side\n",
    "# TODO draw with color bar!\n",
    "\n",
    "f, ax = plt.subplots(1, 2, figsize=(14, 8), sharex=True, sharey=True)\n",
    "\n",
    "plt.suptitle('Correlations')\n",
    "\n",
    "corr_w_plot         = wine_w.loc[wine_w.input_outlier_count == 0, all_columns].corr(numeric_only=True).drop(index='ph', columns='quality')\n",
    "corr_w_orig_plot    = wine_w_orig[all_columns].corr(numeric_only=True).drop(index='ph', columns='quality')\n",
    "\n",
    "mask = np.triu(np.ones_like(corr_w_plot, dtype=bool), k=1) # same for red wine\n",
    "\n",
    "sns.heatmap(corr_w_orig_plot, mask=mask, annot=True, cmap='coolwarm', cbar=False, vmin=-1, vmax=1, square=True, ax=ax[0])\n",
    "sns.heatmap(corr_w_plot, mask=mask, annot=True, cmap='coolwarm', cbar=False, vmin=-1, vmax=1, square=True, ax=ax[1])\n",
    "\n",
    "ax[0].set_title('White Wine - Original Data Set')\n",
    "ax[1].set_title('White Wine - Cleaned Data Set')\n",
    "\n",
    "\n",
    "labels = [\n",
    "    'Fixed Acidity', 'Volatile Acidity', 'Citric Acidity', 'Chlorides', 'Total Sulfur Dioxide', 'Free Sulfur Dioxide',\n",
    "    'Sulphates', 'Residual Sugar', 'Density', 'Alcohol', 'Quality'\n",
    "]\n",
    "\n",
    "# ax[0].set_xticklabel(labels)\n",
    "# ax[0].set_ylabel(labels)\n",
    "# ax[1].set_xlabel(labels)\n",
    "# ax[1].set_ylabel(labels)\n",
    "\n",
    "plt.tight_layout()"
   ]
  },
  {
   "cell_type": "markdown",
   "id": "7aae5067",
   "metadata": {},
   "source": [
    "### Conlusions on White Wine Outliers\n",
    "\n",
    "- Outlier distribution in input values\n",
    "  - There are many outliers in the acidity quantities; removing those reduces the correlation to quality in the correlation matrix!\n",
    "  - pH and Free and Total Sulfur Dioxide have a considerable amount of outliers.\n",
    "  - density, sugar, alcohol have only got a few outliers\n",
    "  - What does this tell us about the statistics? Many outliers indicate \n",
    "    - a wide distribution -> bad statistics or simply a strongly varying quantity\n",
    "- Outliers by Quality\n",
    "  - The higher the quality the less outlier wines, i.e. the correlation between inputs and out seems to be more conclusive for the higher quality wines!\n",
    "  - The average quality of high quality outliers is larger than the average quality of the normal data; it's the other way around for low quality.\n",
    "  - This indicates that the low quality outliers should be removed, whereas the high quality outliers contain valuable information about good wine! "
   ]
  },
  {
   "cell_type": "markdown",
   "id": "71d08c77",
   "metadata": {},
   "source": [
    "### Some Questions\n",
    "\n",
    "#### What do the outliers tell us about the sample?\n",
    "\n",
    "The data set is a good representation for both testers and wines for quality rating:\n",
    "- What does that mean?\n",
    "  - A lot of tasteprofiles for both wines and tasters are included.\n",
    "- What are hints on a good representation?\n",
    "  - 1st level: normally distributed data\n",
    "  - 2nd: level: Many values in values range\n",
    "- Pros\n",
    "  - What about the distribution of qualtiy? What does this tell us about the sample? \n",
    "    - If that is kind of normally distributed, then we will have a good sample.\n",
    "    - For both red and white wines this is true.\n",
    "- Cons\n",
    "  - Univariate Analysis shows that the quantities do not show a normal distribution. Should they be normally distributed?\n",
    "  - The data set seems to be very noisy.\n",
    "\n",
    "#### How to handle the outliers?\n",
    "\n",
    "- What is the meaning of an outlier?\n",
    "  - It is a wine with an exceptional value in his respective group. \n",
    "  - Low quality: Something probably turned out bad along the production process: Growing, harvesting, fermenting, storing ...\n",
    "  - High quality: there's something exceptional about the wine!\n",
    "- remove outliers to reduce noise, but keep some of the funky parts\n",
    "  - quality / taste is a very complex number and only relatively depends on the input quantities\n",
    "  - Remove the funky parts of the data set, because we haven't got enough knowledge to make sense of the data!\n",
    "  - Considering the many unknown variables of the system and the noise in the data a useful approach to make sense of the data is to get rid of this noise and reveal the main features of the data set.\n",
    "  - Some outliers should be considered though, e.g. high quality wines."
   ]
  },
  {
   "cell_type": "markdown",
   "id": "5594fc72",
   "metadata": {},
   "source": [
    "## Red Wine Outliers"
   ]
  },
  {
   "cell_type": "code",
   "execution_count": 310,
   "id": "d3618edd",
   "metadata": {},
   "outputs": [
    {
     "name": "stdout",
     "output_type": "stream",
     "text": [
      "Red wines with at least \n",
      "\tone outlier value\t 340\n",
      "\ttwo outlier values\t 101\n",
      "\tthree outlier values\t 26\n"
     ]
    }
   ],
   "source": [
    "print('Red wines with at least ')\n",
    "print('\\tone outlier value\\t', sum(wine_r_is_outlier.T.sum()>0))\n",
    "print('\\ttwo outlier values\\t', sum(wine_r_is_outlier.T.sum()>1))\n",
    "print('\\tthree outlier values\\t', sum(wine_r_is_outlier.T.sum()>2))"
   ]
  },
  {
   "cell_type": "code",
   "execution_count": 311,
   "id": "4ddb99bf",
   "metadata": {},
   "outputs": [
    {
     "name": "stdout",
     "output_type": "stream",
     "text": [
      "Count of outliers per input quantity\n",
      " residual_sugar          126\n",
      "chlorides                87\n",
      "sulphates                55\n",
      "total_sulfur_dioxide     45\n",
      "fixed_acidity            41\n",
      "density                  35\n",
      "ph                       28\n",
      "free_sulfur_dioxide      26\n",
      "volatile_acidity         19\n",
      "alcohol                  12\n",
      "citric_acid               1\n",
      "dtype: int64\n",
      "\n",
      "Count of outliers in input quantities\n",
      " 475\n",
      "\n",
      "Count of Red Wines with some sort of outlier input values 706\n"
     ]
    }
   ],
   "source": [
    "outlier_per_quantity = wine_r_is_outlier.sum().sort_values(ascending=False)\n",
    "\n",
    "print('Count of outliers per input quantity\\n', outlier_per_quantity)\n",
    "print()\n",
    "print('Count of outliers in input quantities\\n', outlier_per_quantity.sum())\n",
    "print()\n",
    "print('Count of Red Wines with some sort of outlier input values', wine_w_is_outlier_any.sum())"
   ]
  },
  {
   "cell_type": "code",
   "execution_count": 312,
   "id": "c99c8704",
   "metadata": {},
   "outputs": [
    {
     "data": {
      "image/png": "[encoded data removed]",
      "text/plain": [
       "<Figure size 640x480 with 1 Axes>"
      ]
     },
     "metadata": {},
     "output_type": "display_data"
    }
   ],
   "source": [
    "ax = sns.barplot(outlier_per_quantity[all_inputs])\n",
    "\n",
    "for bars in ax.containers:\n",
    "    for bar, input in zip(bars, all_inputs):\n",
    "        bar.set_facecolor(input_param_colors[input])\n",
    "\n",
    "ax.tick_params(axis='x', labelrotation=90)\n",
    "\n",
    "ax.set_title('Outlier Count per Input Quantity')\n",
    "\n",
    "plt.tight_layout()\n",
    "plt.show()"
   ]
  },
  {
   "cell_type": "code",
   "execution_count": 313,
   "id": "7af153ba",
   "metadata": {},
   "outputs": [
    {
     "name": "stdout",
     "output_type": "stream",
     "text": [
      "Fraction of White wines with some sort of outlier input values split by \n",
      "          total_count  outlier_count  outlier_fraction  quality\n",
      "quality                                                       \n",
      "3                 10              7          0.700000        3\n",
      "4                 53             20          0.377358        4\n",
      "5                577            143          0.247834        5\n",
      "6                535            112          0.209346        6\n",
      "7                167             52          0.311377        7\n",
      "8                 17              6          0.352941        8\n"
     ]
    }
   ],
   "source": [
    "# Outliers per Quality Rating\n",
    "outliers_per_quality = pd.concat(\n",
    "          [\n",
    "              wine_r.quality.value_counts().rename('total_count'),\n",
    "              wine_r[wine_r_is_outlier_any].quality.value_counts().rename('outlier_count'),\n",
    "              (wine_r[wine_r_is_outlier_any].quality.value_counts() / wine_r.quality.value_counts()),\n",
    "          ],\n",
    "          axis=1,\n",
    "          verify_integrity=True\n",
    "      #     right_index=True, left_index=True\n",
    "          ).sort_index().rename(columns={'count':'outlier_fraction'})\n",
    "\n",
    "outliers_per_quality['quality'] = outliers_per_quality.index\n",
    "\n",
    "print('Fraction of White wines with some sort of outlier input values split by', '\\n',\n",
    "      outliers_per_quality\n",
    "    )"
   ]
  },
  {
   "cell_type": "code",
   "execution_count": 314,
   "id": "fbc18290",
   "metadata": {},
   "outputs": [
    {
     "name": "stderr",
     "output_type": "stream",
     "text": [
      "c:\\Users\\olive\\anaconda3\\envs\\base_data_analysis\\Lib\\site-packages\\seaborn\\categorical.py:2761: UserWarning: catplot is a figure-level function and does not accept target axes. You may wish to try countplot\n",
      "  warnings.warn(msg, UserWarning)\n"
     ]
    },
    {
     "data": {
      "image/png": "[encoded data removed]",
      "text/plain": [
       "<Figure size 684.875x600 with 1 Axes>"
      ]
     },
     "metadata": {},
     "output_type": "display_data"
    }
   ],
   "source": [
    "# TODO this graph has to be refined for the presentation!\n",
    "# fig, ax = plt.subplots(1, 1, figsize=(8,6))\n",
    "wine_r['is_outlier'] = wine_r_is_outlier_any\n",
    "\n",
    "cat = sns.catplot(wine_r, x='quality', hue='is_outlier', kind='count', height=6, aspect=1, ax=ax)\n",
    "\n",
    "ax = plt.gca()\n",
    "fig = plt.gcf()\n",
    "\n",
    "ax.set_title('Outlier Count per Quality for Red Wine')\n",
    "ax.set_xlabel('Quality')\n",
    "ax.set_ylabel('Count')\n",
    "\n",
    "sns.despine(left = False, bottom = False, top = False, right=False) # this would remove all spines\n",
    "\n",
    "plt.tight_layout()\n",
    "\n",
    "plt.show()"
   ]
  },
  {
   "cell_type": "code",
   "execution_count": 315,
   "id": "ce814654",
   "metadata": {},
   "outputs": [
    {
     "data": {
      "application/vnd.microsoft.datawrangler.viewer.v0+json": {
       "columns": [
        {
         "name": "quality",
         "rawType": "int64",
         "type": "integer"
        },
        {
         "name": "ph",
         "rawType": "float64",
         "type": "float"
        },
        {
         "name": "fixed_acidity",
         "rawType": "float64",
         "type": "float"
        },
        {
         "name": "volatile_acidity",
         "rawType": "float64",
         "type": "float"
        },
        {
         "name": "citric_acid",
         "rawType": "float64",
         "type": "float"
        },
        {
         "name": "chlorides",
         "rawType": "float64",
         "type": "float"
        },
        {
         "name": "total_sulfur_dioxide",
         "rawType": "float64",
         "type": "float"
        },
        {
         "name": "free_sulfur_dioxide",
         "rawType": "float64",
         "type": "float"
        },
        {
         "name": "sulphates",
         "rawType": "float64",
         "type": "float"
        },
        {
         "name": "residual_sugar",
         "rawType": "float64",
         "type": "float"
        },
        {
         "name": "density",
         "rawType": "float64",
         "type": "float"
        },
        {
         "name": "alcohol",
         "rawType": "float64",
         "type": "float"
        }
       ],
       "conversionMethod": "pd.DataFrame",
       "ref": "bcd16025-8d4c-48c2-b87f-cb573d47356e",
       "rows": [
        [
         "3",
         "0.0",
         "0.0",
         "0.15789473684210525",
         "0.0",
         "0.04597701149425287",
         "0.0",
         "0.0",
         "0.0",
         "0.015873015873015872",
         "0.0",
         "0.0"
        ],
        [
         "4",
         "0.10714285714285714",
         "0.024390243902439025",
         "0.3157894736842105",
         "1.0",
         "0.04597701149425287",
         "0.0",
         "0.0",
         "0.05454545454545454",
         "0.07142857142857142",
         "0.0",
         "0.0"
        ],
        [
         "5",
         "0.25",
         "0.3170731707317073",
         "0.42105263157894735",
         "0.0",
         "0.45977011494252873",
         "0.8444444444444444",
         "0.5769230769230769",
         "0.4909090909090909",
         "0.42063492063492064",
         "0.2",
         "0.08333333333333333"
        ],
        [
         "6",
         "0.42857142857142855",
         "0.4634146341463415",
         "0.10526315789473684",
         "0.0",
         "0.367816091954023",
         "0.1111111111111111",
         "0.2692307692307692",
         "0.2909090909090909",
         "0.2857142857142857",
         "0.5142857142857142",
         "0.3333333333333333"
        ],
        [
         "7",
         "0.14285714285714285",
         "0.17073170731707318",
         "0.0",
         "0.0",
         "0.08045977011494253",
         "0.044444444444444446",
         "0.15384615384615385",
         "0.14545454545454545",
         "0.19047619047619047",
         "0.22857142857142856",
         "0.4166666666666667"
        ],
        [
         "8",
         "0.07142857142857142",
         "0.024390243902439025",
         "0.0",
         "0.0",
         "0.0",
         "0.0",
         "0.0",
         "0.01818181818181818",
         "0.015873015873015872",
         "0.05714285714285714",
         "0.16666666666666666"
        ]
       ],
       "shape": {
        "columns": 11,
        "rows": 6
       }
      },
      "text/html": [
       "<div>\n",
       "<style scoped>\n",
       "    .dataframe tbody tr th:only-of-type {\n",
       "        vertical-align: middle;\n",
       "    }\n",
       "\n",
       "    .dataframe tbody tr th {\n",
       "        vertical-align: top;\n",
       "    }\n",
       "\n",
       "    .dataframe thead th {\n",
       "        text-align: right;\n",
       "    }\n",
       "</style>\n",
       "<table border=\"1\" class=\"dataframe\">\n",
       "  <thead>\n",
       "    <tr style=\"text-align: right;\">\n",
       "      <th></th>\n",
       "      <th>ph</th>\n",
       "      <th>fixed_acidity</th>\n",
       "      <th>volatile_acidity</th>\n",
       "      <th>citric_acid</th>\n",
       "      <th>chlorides</th>\n",
       "      <th>total_sulfur_dioxide</th>\n",
       "      <th>free_sulfur_dioxide</th>\n",
       "      <th>sulphates</th>\n",
       "      <th>residual_sugar</th>\n",
       "      <th>density</th>\n",
       "      <th>alcohol</th>\n",
       "    </tr>\n",
       "    <tr>\n",
       "      <th>quality</th>\n",
       "      <th></th>\n",
       "      <th></th>\n",
       "      <th></th>\n",
       "      <th></th>\n",
       "      <th></th>\n",
       "      <th></th>\n",
       "      <th></th>\n",
       "      <th></th>\n",
       "      <th></th>\n",
       "      <th></th>\n",
       "      <th></th>\n",
       "    </tr>\n",
       "  </thead>\n",
       "  <tbody>\n",
       "    <tr>\n",
       "      <th>3</th>\n",
       "      <td>0.000000</td>\n",
       "      <td>0.000000</td>\n",
       "      <td>0.157895</td>\n",
       "      <td>0.0</td>\n",
       "      <td>0.045977</td>\n",
       "      <td>0.000000</td>\n",
       "      <td>0.000000</td>\n",
       "      <td>0.000000</td>\n",
       "      <td>0.015873</td>\n",
       "      <td>0.000000</td>\n",
       "      <td>0.000000</td>\n",
       "    </tr>\n",
       "    <tr>\n",
       "      <th>4</th>\n",
       "      <td>0.107143</td>\n",
       "      <td>0.024390</td>\n",
       "      <td>0.315789</td>\n",
       "      <td>1.0</td>\n",
       "      <td>0.045977</td>\n",
       "      <td>0.000000</td>\n",
       "      <td>0.000000</td>\n",
       "      <td>0.054545</td>\n",
       "      <td>0.071429</td>\n",
       "      <td>0.000000</td>\n",
       "      <td>0.000000</td>\n",
       "    </tr>\n",
       "    <tr>\n",
       "      <th>5</th>\n",
       "      <td>0.250000</td>\n",
       "      <td>0.317073</td>\n",
       "      <td>0.421053</td>\n",
       "      <td>0.0</td>\n",
       "      <td>0.459770</td>\n",
       "      <td>0.844444</td>\n",
       "      <td>0.576923</td>\n",
       "      <td>0.490909</td>\n",
       "      <td>0.420635</td>\n",
       "      <td>0.200000</td>\n",
       "      <td>0.083333</td>\n",
       "    </tr>\n",
       "    <tr>\n",
       "      <th>6</th>\n",
       "      <td>0.428571</td>\n",
       "      <td>0.463415</td>\n",
       "      <td>0.105263</td>\n",
       "      <td>0.0</td>\n",
       "      <td>0.367816</td>\n",
       "      <td>0.111111</td>\n",
       "      <td>0.269231</td>\n",
       "      <td>0.290909</td>\n",
       "      <td>0.285714</td>\n",
       "      <td>0.514286</td>\n",
       "      <td>0.333333</td>\n",
       "    </tr>\n",
       "    <tr>\n",
       "      <th>7</th>\n",
       "      <td>0.142857</td>\n",
       "      <td>0.170732</td>\n",
       "      <td>0.000000</td>\n",
       "      <td>0.0</td>\n",
       "      <td>0.080460</td>\n",
       "      <td>0.044444</td>\n",
       "      <td>0.153846</td>\n",
       "      <td>0.145455</td>\n",
       "      <td>0.190476</td>\n",
       "      <td>0.228571</td>\n",
       "      <td>0.416667</td>\n",
       "    </tr>\n",
       "    <tr>\n",
       "      <th>8</th>\n",
       "      <td>0.071429</td>\n",
       "      <td>0.024390</td>\n",
       "      <td>0.000000</td>\n",
       "      <td>0.0</td>\n",
       "      <td>0.000000</td>\n",
       "      <td>0.000000</td>\n",
       "      <td>0.000000</td>\n",
       "      <td>0.018182</td>\n",
       "      <td>0.015873</td>\n",
       "      <td>0.057143</td>\n",
       "      <td>0.166667</td>\n",
       "    </tr>\n",
       "  </tbody>\n",
       "</table>\n",
       "</div>"
      ],
      "text/plain": [
       "               ph  fixed_acidity  volatile_acidity  citric_acid  chlorides  \\\n",
       "quality                                                                      \n",
       "3        0.000000       0.000000          0.157895          0.0   0.045977   \n",
       "4        0.107143       0.024390          0.315789          1.0   0.045977   \n",
       "5        0.250000       0.317073          0.421053          0.0   0.459770   \n",
       "6        0.428571       0.463415          0.105263          0.0   0.367816   \n",
       "7        0.142857       0.170732          0.000000          0.0   0.080460   \n",
       "8        0.071429       0.024390          0.000000          0.0   0.000000   \n",
       "\n",
       "         total_sulfur_dioxide  free_sulfur_dioxide  sulphates  residual_sugar  \\\n",
       "quality                                                                         \n",
       "3                    0.000000             0.000000   0.000000        0.015873   \n",
       "4                    0.000000             0.000000   0.054545        0.071429   \n",
       "5                    0.844444             0.576923   0.490909        0.420635   \n",
       "6                    0.111111             0.269231   0.290909        0.285714   \n",
       "7                    0.044444             0.153846   0.145455        0.190476   \n",
       "8                    0.000000             0.000000   0.018182        0.015873   \n",
       "\n",
       "          density   alcohol  \n",
       "quality                      \n",
       "3        0.000000  0.000000  \n",
       "4        0.000000  0.000000  \n",
       "5        0.200000  0.083333  \n",
       "6        0.514286  0.333333  \n",
       "7        0.228571  0.416667  \n",
       "8        0.057143  0.166667  "
      ]
     },
     "execution_count": 315,
     "metadata": {},
     "output_type": "execute_result"
    }
   ],
   "source": [
    "# pivot table\n",
    "# how are the outliers in a quantity distributed over quality? many outliers per input quantity per quality\n",
    "\n",
    "# merge is_outlier with wine qualities to count values by summing up\n",
    "is_outlier_quality = pd.merge(wine_r_is_outlier, wine_r.loc[:, 'quality'], left_index=True, right_index=True)\n",
    "\n",
    "# transform with pivot table\n",
    "outlier_per_quality = pd.pivot_table(is_outlier_quality, values=all_inputs, index='quality', aggfunc='sum')[all_inputs]\n",
    "outlier_per_quality / outlier_per_quality.sum()"
   ]
  },
  {
   "cell_type": "markdown",
   "id": "fe55555f",
   "metadata": {},
   "source": [
    "### Outliers per Quality Label"
   ]
  },
  {
   "cell_type": "code",
   "execution_count": 316,
   "id": "b170c416",
   "metadata": {},
   "outputs": [
    {
     "name": "stdout",
     "output_type": "stream",
     "text": [
      "Fraction of Red Wines with some sort of outlier input values split by \n",
      "                total_count  fraction\n",
      "quality_label                       \n",
      "low                    640  0.265625\n",
      "medium                 535  0.209346\n",
      "high                   184  0.315217\n"
     ]
    }
   ],
   "source": [
    "print('Fraction of Red Wines with some sort of outlier input values split by', '\\n', \n",
    "      pd.merge(\n",
    "          wine_r.quality_label.value_counts(),\n",
    "          (wine_r[wine_r.is_outlier].quality_label.value_counts() / wine_r.quality_label.value_counts()),\n",
    "          right_index=True, left_index=True\n",
    "          ).sort_index().rename(columns={'count_x':'total_count', 'count_y':'fraction'})\n",
    "    )"
   ]
  },
  {
   "cell_type": "markdown",
   "id": "6e37e8fe",
   "metadata": {},
   "source": [
    "### Correlations"
   ]
  },
  {
   "cell_type": "code",
   "execution_count": 317,
   "id": "7e6ee9e9",
   "metadata": {},
   "outputs": [
    {
     "data": {
      "image/png": "[encoded data removed]",
      "text/plain": [
       "<Figure size 1400x800 with 2 Axes>"
      ]
     },
     "metadata": {},
     "output_type": "display_data"
    }
   ],
   "source": [
    "# Plot correlations of original and cleaned data set sid by side\n",
    "# TODO draw with color bar!\n",
    "\n",
    "f, ax = plt.subplots(1, 2, figsize=(14, 8), sharex=True, sharey=True)\n",
    "\n",
    "plt.suptitle('Correlations')\n",
    "\n",
    "corr_r_plot         = wine_r.loc[wine_r.input_outlier_count == 0, all_columns].corr(numeric_only=True).drop(index='ph', columns='quality')\n",
    "corr_r_orig_plot    = wine_r_orig[all_columns].corr(numeric_only=True).drop(index='ph', columns='quality')\n",
    "\n",
    "mask = np.triu(np.ones_like(corr_r_plot, dtype=bool), k=1) # same for red wine\n",
    "\n",
    "sns.heatmap(corr_r_orig_plot, mask=mask, annot=True, cmap='coolwarm', cbar=False, vmin=-1, vmax=1, square=True, ax=ax[0])\n",
    "sns.heatmap(corr_r_plot, mask=mask, annot=True, cmap='coolwarm', cbar=False, vmin=-1, vmax=1, square=True, ax=ax[1])\n",
    "\n",
    "ax[0].set_title('Red Wine - Original Data Set')\n",
    "ax[1].set_title('Red Wine - Cleaned Data Set')\n",
    "\n",
    "\n",
    "labels = [\n",
    "    'Fixed Acidity', 'Volatile Acidity', 'Citric Acidity', 'Chlorides', 'Total Sulfur Dioxide', 'Free Sulfur Dioxide',\n",
    "    'Sulphates', 'Residual Sugar', 'Density', 'Alcohol', 'Quality'\n",
    "]\n",
    "\n",
    "# ax[0].set_xticklabel(labels)\n",
    "# ax[0].set_ylabel(labels)\n",
    "# ax[1].set_xlabel(labels)\n",
    "# ax[1].set_ylabel(labels)\n",
    "\n",
    "plt.tight_layout()"
   ]
  },
  {
   "cell_type": "markdown",
   "id": "cd35800d",
   "metadata": {},
   "source": [
    "### Conclusions on Red Wine Outliers\n",
    "\n",
    "- Removal has only a small effect on the quality correlations, except for sulphates!\n",
    "- Quantities that show a different behaviour:\n",
    "  - Chlorides have a completely different, more pronounced relation to other quantities.\n",
    "    - more correlated to Fixed and Volatile Acidity, but much less to Citric Acid.\n",
    "    - more correlated to Sulfur Dioxide, Residual Sugar, Density\n",
    "    - much less correlated to Sulphates\n",
    "  - Free Sulfur Dioxide is less related to other quantities\n",
    "  - Sulphates are\n",
    "    - more correlated to alcohol\n",
    "    - less to density, pH, Chlorides"
   ]
  },
  {
   "cell_type": "markdown",
   "id": "9ec66b5f",
   "metadata": {},
   "source": [
    "# Conlusions\n",
    "- Correlations to quality are strongly driven by the outliers.\n",
    "\n",
    "Possible Explanations\n",
    "- The taste of an outlier wine can be rated very differently by the tasters\n",
    "  - either they can make sense of the physicochemical composition \n",
    "  - or they cannot.\n",
    "\n",
    "What do outliers by quality mean? Do outliers have a different meaning per quality?\n",
    "- Have a look at the average rating per Quality Label of the outliers.\n",
    "  "
   ]
  },
  {
   "cell_type": "markdown",
   "id": "0703d5ff",
   "metadata": {},
   "source": [
    "# Further considerations\n",
    "\n",
    "## Comment on Method\n",
    "Have the outliers been determined correctly? \n",
    "- IQR-Method is only well suited for normally distributed data! This is not given in the data set.\n",
    "- Plus, the quantities are interconnected, although the correlations are weak (?). The whole set should be considered, instead of an isolated quantity.\n",
    "- Is there a method to find outliers of a set of vectors? Clustering, DBSCAN\n",
    "\n",
    "## Possible Improvements\n",
    "- Keep some Outliers, only drop those which make the data noisy\n",
    "  - rather remove from bad quality than from good quality wines.\n",
    "  - in a quality group: first remove bad wines, then the good ones!\n",
    "  - 5% of outliers per input quantity / per group.\n",
    "  - Keep values in certain quantities\n",
    "    - main features of vinho verde: chlorides\n",
    "    - not strongly correlated quantities, because they give an insight that the other quantities don't: ????\n",
    "- Calculate the outliers among the Quality Ratings / Quality Labels to really clear quality from outliers; outliers considering quality ratings, instead of bare quantities.\n",
    "- Select outliers more carefully, e.g.:\n",
    "  - take relations into account: sugar and density - high sugar and high density is not an outlier\n",
    "- Use a different method than IQR to find outliers."
   ]
  },
  {
   "cell_type": "markdown",
   "id": "c60d37fa",
   "metadata": {},
   "source": [
    "# Tests"
   ]
  },
  {
   "cell_type": "code",
   "execution_count": 318,
   "id": "81684382",
   "metadata": {},
   "outputs": [
    {
     "data": {
      "application/vnd.microsoft.datawrangler.viewer.v0+json": {
       "columns": [
        {
         "name": "index",
         "rawType": "int64",
         "type": "integer"
        },
        {
         "name": "ph",
         "rawType": "bool",
         "type": "boolean"
        },
        {
         "name": "fixed_acidity",
         "rawType": "bool",
         "type": "boolean"
        },
        {
         "name": "volatile_acidity",
         "rawType": "bool",
         "type": "boolean"
        },
        {
         "name": "citric_acid",
         "rawType": "bool",
         "type": "boolean"
        },
        {
         "name": "chlorides",
         "rawType": "bool",
         "type": "boolean"
        },
        {
         "name": "total_sulfur_dioxide",
         "rawType": "bool",
         "type": "boolean"
        },
        {
         "name": "free_sulfur_dioxide",
         "rawType": "bool",
         "type": "boolean"
        },
        {
         "name": "sulphates",
         "rawType": "bool",
         "type": "boolean"
        },
        {
         "name": "residual_sugar",
         "rawType": "bool",
         "type": "boolean"
        },
        {
         "name": "density",
         "rawType": "bool",
         "type": "boolean"
        },
        {
         "name": "alcohol",
         "rawType": "bool",
         "type": "boolean"
        },
        {
         "name": "outlier_cnt",
         "rawType": "int64",
         "type": "integer"
        }
       ],
       "conversionMethod": "pd.DataFrame",
       "ref": "22fd8c65-2b91-4a20-af19-0c5e590ad817",
       "rows": [
        [
         "0",
         "False",
         "False",
         "False",
         "False",
         "False",
         "False",
         "False",
         "False",
         "True",
         "False",
         "False",
         "1"
        ],
        [
         "1",
         "False",
         "False",
         "False",
         "False",
         "False",
         "False",
         "False",
         "False",
         "False",
         "False",
         "False",
         "0"
        ],
        [
         "2",
         "False",
         "False",
         "False",
         "False",
         "False",
         "False",
         "False",
         "False",
         "False",
         "False",
         "False",
         "0"
        ],
        [
         "3",
         "False",
         "False",
         "False",
         "False",
         "False",
         "False",
         "False",
         "False",
         "False",
         "False",
         "False",
         "0"
        ],
        [
         "6",
         "False",
         "False",
         "False",
         "False",
         "False",
         "False",
         "False",
         "False",
         "False",
         "False",
         "False",
         "0"
        ],
        [
         "9",
         "False",
         "False",
         "False",
         "False",
         "False",
         "False",
         "False",
         "False",
         "False",
         "False",
         "False",
         "0"
        ],
        [
         "10",
         "False",
         "False",
         "False",
         "False",
         "False",
         "False",
         "False",
         "False",
         "False",
         "False",
         "False",
         "0"
        ],
        [
         "11",
         "False",
         "False",
         "False",
         "False",
         "False",
         "False",
         "False",
         "False",
         "False",
         "False",
         "False",
         "0"
        ],
        [
         "12",
         "False",
         "False",
         "False",
         "False",
         "False",
         "False",
         "False",
         "False",
         "False",
         "False",
         "False",
         "0"
        ],
        [
         "13",
         "False",
         "False",
         "False",
         "False",
         "False",
         "False",
         "False",
         "False",
         "False",
         "False",
         "False",
         "0"
        ],
        [
         "14",
         "False",
         "False",
         "False",
         "True",
         "False",
         "False",
         "False",
         "False",
         "False",
         "False",
         "False",
         "1"
        ],
        [
         "15",
         "False",
         "False",
         "False",
         "False",
         "False",
         "False",
         "False",
         "False",
         "False",
         "False",
         "False",
         "0"
        ],
        [
         "16",
         "False",
         "False",
         "False",
         "True",
         "False",
         "False",
         "False",
         "False",
         "False",
         "False",
         "False",
         "1"
        ],
        [
         "17",
         "False",
         "False",
         "True",
         "False",
         "False",
         "False",
         "False",
         "False",
         "False",
         "False",
         "False",
         "1"
        ],
        [
         "18",
         "False",
         "False",
         "False",
         "False",
         "False",
         "False",
         "False",
         "False",
         "False",
         "False",
         "False",
         "0"
        ],
        [
         "19",
         "False",
         "False",
         "False",
         "False",
         "False",
         "False",
         "False",
         "False",
         "False",
         "False",
         "False",
         "0"
        ],
        [
         "21",
         "False",
         "False",
         "False",
         "False",
         "False",
         "False",
         "False",
         "False",
         "False",
         "False",
         "False",
         "0"
        ],
        [
         "22",
         "False",
         "False",
         "False",
         "False",
         "False",
         "False",
         "False",
         "False",
         "False",
         "False",
         "False",
         "0"
        ],
        [
         "23",
         "False",
         "False",
         "True",
         "False",
         "True",
         "False",
         "False",
         "False",
         "False",
         "False",
         "False",
         "2"
        ],
        [
         "24",
         "False",
         "False",
         "False",
         "False",
         "False",
         "False",
         "False",
         "False",
         "False",
         "False",
         "False",
         "0"
        ],
        [
         "25",
         "False",
         "False",
         "False",
         "False",
         "False",
         "False",
         "False",
         "False",
         "False",
         "False",
         "False",
         "0"
        ],
        [
         "26",
         "False",
         "False",
         "False",
         "False",
         "False",
         "False",
         "False",
         "False",
         "False",
         "False",
         "False",
         "0"
        ],
        [
         "27",
         "False",
         "False",
         "False",
         "False",
         "False",
         "False",
         "False",
         "False",
         "False",
         "False",
         "False",
         "0"
        ],
        [
         "28",
         "False",
         "False",
         "False",
         "False",
         "False",
         "False",
         "False",
         "False",
         "False",
         "False",
         "False",
         "0"
        ],
        [
         "29",
         "False",
         "False",
         "False",
         "False",
         "False",
         "False",
         "False",
         "False",
         "False",
         "False",
         "False",
         "0"
        ],
        [
         "30",
         "False",
         "False",
         "False",
         "False",
         "False",
         "False",
         "False",
         "False",
         "False",
         "False",
         "False",
         "0"
        ],
        [
         "31",
         "False",
         "False",
         "False",
         "False",
         "False",
         "False",
         "False",
         "False",
         "False",
         "False",
         "False",
         "0"
        ],
        [
         "32",
         "False",
         "False",
         "False",
         "False",
         "False",
         "False",
         "False",
         "False",
         "False",
         "False",
         "False",
         "0"
        ],
        [
         "33",
         "False",
         "False",
         "False",
         "False",
         "False",
         "False",
         "False",
         "False",
         "False",
         "False",
         "False",
         "0"
        ],
        [
         "34",
         "False",
         "False",
         "False",
         "False",
         "False",
         "False",
         "False",
         "False",
         "False",
         "False",
         "False",
         "0"
        ],
        [
         "35",
         "False",
         "False",
         "False",
         "False",
         "True",
         "False",
         "False",
         "False",
         "False",
         "False",
         "False",
         "1"
        ],
        [
         "36",
         "False",
         "False",
         "False",
         "False",
         "False",
         "False",
         "False",
         "False",
         "False",
         "False",
         "False",
         "0"
        ],
        [
         "37",
         "False",
         "False",
         "False",
         "False",
         "False",
         "False",
         "False",
         "False",
         "False",
         "False",
         "False",
         "0"
        ],
        [
         "38",
         "False",
         "False",
         "False",
         "False",
         "False",
         "False",
         "False",
         "False",
         "False",
         "False",
         "False",
         "0"
        ],
        [
         "40",
         "False",
         "False",
         "False",
         "False",
         "True",
         "False",
         "False",
         "False",
         "False",
         "False",
         "False",
         "1"
        ],
        [
         "41",
         "False",
         "False",
         "False",
         "False",
         "True",
         "False",
         "False",
         "False",
         "False",
         "False",
         "False",
         "1"
        ],
        [
         "42",
         "False",
         "False",
         "False",
         "False",
         "False",
         "False",
         "False",
         "False",
         "False",
         "False",
         "False",
         "0"
        ],
        [
         "43",
         "False",
         "False",
         "False",
         "False",
         "False",
         "False",
         "False",
         "False",
         "False",
         "False",
         "False",
         "0"
        ],
        [
         "44",
         "False",
         "False",
         "False",
         "False",
         "False",
         "False",
         "False",
         "False",
         "False",
         "False",
         "False",
         "0"
        ],
        [
         "45",
         "False",
         "False",
         "False",
         "False",
         "False",
         "False",
         "False",
         "False",
         "False",
         "False",
         "False",
         "0"
        ],
        [
         "46",
         "False",
         "False",
         "False",
         "False",
         "False",
         "False",
         "False",
         "False",
         "False",
         "False",
         "False",
         "0"
        ],
        [
         "47",
         "False",
         "False",
         "False",
         "False",
         "False",
         "False",
         "False",
         "False",
         "False",
         "False",
         "False",
         "0"
        ],
        [
         "49",
         "False",
         "False",
         "False",
         "False",
         "False",
         "False",
         "False",
         "False",
         "False",
         "False",
         "False",
         "0"
        ],
        [
         "50",
         "False",
         "False",
         "False",
         "False",
         "False",
         "False",
         "False",
         "False",
         "False",
         "False",
         "False",
         "0"
        ],
        [
         "51",
         "False",
         "False",
         "False",
         "False",
         "False",
         "False",
         "False",
         "False",
         "False",
         "False",
         "False",
         "0"
        ],
        [
         "52",
         "False",
         "False",
         "False",
         "False",
         "False",
         "False",
         "False",
         "False",
         "False",
         "False",
         "False",
         "0"
        ],
        [
         "53",
         "False",
         "False",
         "False",
         "False",
         "False",
         "False",
         "False",
         "False",
         "False",
         "False",
         "False",
         "0"
        ],
        [
         "54",
         "False",
         "False",
         "False",
         "True",
         "True",
         "False",
         "False",
         "False",
         "False",
         "False",
         "False",
         "2"
        ],
        [
         "55",
         "False",
         "False",
         "False",
         "False",
         "False",
         "False",
         "False",
         "False",
         "False",
         "False",
         "False",
         "0"
        ],
        [
         "56",
         "False",
         "False",
         "False",
         "False",
         "False",
         "False",
         "False",
         "False",
         "False",
         "False",
         "False",
         "0"
        ]
       ],
       "shape": {
        "columns": 12,
        "rows": 3961
       }
      },
      "text/html": [
       "<div>\n",
       "<style scoped>\n",
       "    .dataframe tbody tr th:only-of-type {\n",
       "        vertical-align: middle;\n",
       "    }\n",
       "\n",
       "    .dataframe tbody tr th {\n",
       "        vertical-align: top;\n",
       "    }\n",
       "\n",
       "    .dataframe thead th {\n",
       "        text-align: right;\n",
       "    }\n",
       "</style>\n",
       "<table border=\"1\" class=\"dataframe\">\n",
       "  <thead>\n",
       "    <tr style=\"text-align: right;\">\n",
       "      <th></th>\n",
       "      <th>ph</th>\n",
       "      <th>fixed_acidity</th>\n",
       "      <th>volatile_acidity</th>\n",
       "      <th>citric_acid</th>\n",
       "      <th>chlorides</th>\n",
       "      <th>total_sulfur_dioxide</th>\n",
       "      <th>free_sulfur_dioxide</th>\n",
       "      <th>sulphates</th>\n",
       "      <th>residual_sugar</th>\n",
       "      <th>density</th>\n",
       "      <th>alcohol</th>\n",
       "      <th>outlier_cnt</th>\n",
       "    </tr>\n",
       "  </thead>\n",
       "  <tbody>\n",
       "    <tr>\n",
       "      <th>0</th>\n",
       "      <td>False</td>\n",
       "      <td>False</td>\n",
       "      <td>False</td>\n",
       "      <td>False</td>\n",
       "      <td>False</td>\n",
       "      <td>False</td>\n",
       "      <td>False</td>\n",
       "      <td>False</td>\n",
       "      <td>True</td>\n",
       "      <td>False</td>\n",
       "      <td>False</td>\n",
       "      <td>1</td>\n",
       "    </tr>\n",
       "    <tr>\n",
       "      <th>1</th>\n",
       "      <td>False</td>\n",
       "      <td>False</td>\n",
       "      <td>False</td>\n",
       "      <td>False</td>\n",
       "      <td>False</td>\n",
       "      <td>False</td>\n",
       "      <td>False</td>\n",
       "      <td>False</td>\n",
       "      <td>False</td>\n",
       "      <td>False</td>\n",
       "      <td>False</td>\n",
       "      <td>0</td>\n",
       "    </tr>\n",
       "    <tr>\n",
       "      <th>2</th>\n",
       "      <td>False</td>\n",
       "      <td>False</td>\n",
       "      <td>False</td>\n",
       "      <td>False</td>\n",
       "      <td>False</td>\n",
       "      <td>False</td>\n",
       "      <td>False</td>\n",
       "      <td>False</td>\n",
       "      <td>False</td>\n",
       "      <td>False</td>\n",
       "      <td>False</td>\n",
       "      <td>0</td>\n",
       "    </tr>\n",
       "    <tr>\n",
       "      <th>3</th>\n",
       "      <td>False</td>\n",
       "      <td>False</td>\n",
       "      <td>False</td>\n",
       "      <td>False</td>\n",
       "      <td>False</td>\n",
       "      <td>False</td>\n",
       "      <td>False</td>\n",
       "      <td>False</td>\n",
       "      <td>False</td>\n",
       "      <td>False</td>\n",
       "      <td>False</td>\n",
       "      <td>0</td>\n",
       "    </tr>\n",
       "    <tr>\n",
       "      <th>6</th>\n",
       "      <td>False</td>\n",
       "      <td>False</td>\n",
       "      <td>False</td>\n",
       "      <td>False</td>\n",
       "      <td>False</td>\n",
       "      <td>False</td>\n",
       "      <td>False</td>\n",
       "      <td>False</td>\n",
       "      <td>False</td>\n",
       "      <td>False</td>\n",
       "      <td>False</td>\n",
       "      <td>0</td>\n",
       "    </tr>\n",
       "    <tr>\n",
       "      <th>...</th>\n",
       "      <td>...</td>\n",
       "      <td>...</td>\n",
       "      <td>...</td>\n",
       "      <td>...</td>\n",
       "      <td>...</td>\n",
       "      <td>...</td>\n",
       "      <td>...</td>\n",
       "      <td>...</td>\n",
       "      <td>...</td>\n",
       "      <td>...</td>\n",
       "      <td>...</td>\n",
       "      <td>...</td>\n",
       "    </tr>\n",
       "    <tr>\n",
       "      <th>4893</th>\n",
       "      <td>False</td>\n",
       "      <td>False</td>\n",
       "      <td>False</td>\n",
       "      <td>False</td>\n",
       "      <td>False</td>\n",
       "      <td>False</td>\n",
       "      <td>False</td>\n",
       "      <td>False</td>\n",
       "      <td>False</td>\n",
       "      <td>False</td>\n",
       "      <td>False</td>\n",
       "      <td>0</td>\n",
       "    </tr>\n",
       "    <tr>\n",
       "      <th>4894</th>\n",
       "      <td>False</td>\n",
       "      <td>False</td>\n",
       "      <td>False</td>\n",
       "      <td>False</td>\n",
       "      <td>False</td>\n",
       "      <td>False</td>\n",
       "      <td>False</td>\n",
       "      <td>False</td>\n",
       "      <td>False</td>\n",
       "      <td>False</td>\n",
       "      <td>False</td>\n",
       "      <td>0</td>\n",
       "    </tr>\n",
       "    <tr>\n",
       "      <th>4895</th>\n",
       "      <td>False</td>\n",
       "      <td>False</td>\n",
       "      <td>False</td>\n",
       "      <td>False</td>\n",
       "      <td>False</td>\n",
       "      <td>False</td>\n",
       "      <td>False</td>\n",
       "      <td>False</td>\n",
       "      <td>False</td>\n",
       "      <td>False</td>\n",
       "      <td>False</td>\n",
       "      <td>0</td>\n",
       "    </tr>\n",
       "    <tr>\n",
       "      <th>4896</th>\n",
       "      <td>False</td>\n",
       "      <td>False</td>\n",
       "      <td>False</td>\n",
       "      <td>False</td>\n",
       "      <td>False</td>\n",
       "      <td>False</td>\n",
       "      <td>False</td>\n",
       "      <td>False</td>\n",
       "      <td>False</td>\n",
       "      <td>False</td>\n",
       "      <td>False</td>\n",
       "      <td>0</td>\n",
       "    </tr>\n",
       "    <tr>\n",
       "      <th>4897</th>\n",
       "      <td>False</td>\n",
       "      <td>False</td>\n",
       "      <td>False</td>\n",
       "      <td>False</td>\n",
       "      <td>False</td>\n",
       "      <td>False</td>\n",
       "      <td>False</td>\n",
       "      <td>False</td>\n",
       "      <td>False</td>\n",
       "      <td>False</td>\n",
       "      <td>False</td>\n",
       "      <td>0</td>\n",
       "    </tr>\n",
       "  </tbody>\n",
       "</table>\n",
       "<p>3961 rows × 12 columns</p>\n",
       "</div>"
      ],
      "text/plain": [
       "         ph  fixed_acidity  volatile_acidity  citric_acid  chlorides  \\\n",
       "0     False          False             False        False      False   \n",
       "1     False          False             False        False      False   \n",
       "2     False          False             False        False      False   \n",
       "3     False          False             False        False      False   \n",
       "6     False          False             False        False      False   \n",
       "...     ...            ...               ...          ...        ...   \n",
       "4893  False          False             False        False      False   \n",
       "4894  False          False             False        False      False   \n",
       "4895  False          False             False        False      False   \n",
       "4896  False          False             False        False      False   \n",
       "4897  False          False             False        False      False   \n",
       "\n",
       "      total_sulfur_dioxide  free_sulfur_dioxide  sulphates  residual_sugar  \\\n",
       "0                    False                False      False            True   \n",
       "1                    False                False      False           False   \n",
       "2                    False                False      False           False   \n",
       "3                    False                False      False           False   \n",
       "6                    False                False      False           False   \n",
       "...                    ...                  ...        ...             ...   \n",
       "4893                 False                False      False           False   \n",
       "4894                 False                False      False           False   \n",
       "4895                 False                False      False           False   \n",
       "4896                 False                False      False           False   \n",
       "4897                 False                False      False           False   \n",
       "\n",
       "      density  alcohol  outlier_cnt  \n",
       "0       False    False            1  \n",
       "1       False    False            0  \n",
       "2       False    False            0  \n",
       "3       False    False            0  \n",
       "6       False    False            0  \n",
       "...       ...      ...          ...  \n",
       "4893    False    False            0  \n",
       "4894    False    False            0  \n",
       "4895    False    False            0  \n",
       "4896    False    False            0  \n",
       "4897    False    False            0  \n",
       "\n",
       "[3961 rows x 12 columns]"
      ]
     },
     "execution_count": 318,
     "metadata": {},
     "output_type": "execute_result"
    }
   ],
   "source": [
    "if 'outlier_cnt' in wine_w_is_outlier.columns:\n",
    "    wine_w_is_outlier = wine_w_is_outlier.drop(columns='outlier_cnt')    \n",
    "wine_w_is_outlier['outlier_cnt'] = wine_w_is_outlier.T.sum()\n",
    "wine_w_is_outlier"
   ]
  },
  {
   "cell_type": "code",
   "execution_count": 319,
   "id": "4ad28dd1",
   "metadata": {},
   "outputs": [
    {
     "data": {
      "text/plain": [
       "'a,b'"
      ]
     },
     "execution_count": 319,
     "metadata": {},
     "output_type": "execute_result"
    }
   ],
   "source": [
    "# TODO put function into separate file, maybe keep util folder somewhere\n",
    "def join_index_if_val_true(srs: pd.Series, sep=',') -> str:\n",
    "    '''\n",
    "    Join the index of a series to a string if value is True\n",
    "    '''\n",
    "    return sep.join((str(i) for i,v in srs.items() if v))\n",
    "\n",
    "test1 = pd.Series(data=[True, True, False], index=['a', 'b', 'c'])\n",
    "test2 = pd.Series(data=['True', 5, None], index=['a', 'b', 'c'])\n",
    "\n",
    "append_index_if_val_true(test1)\n",
    "append_index_if_val_true(test2)"
   ]
  },
  {
   "cell_type": "code",
   "execution_count": 320,
   "id": "39df3e81",
   "metadata": {},
   "outputs": [
    {
     "data": {
      "text/plain": [
       "volatile_acidity,citric_acid                                       33\n",
       "citric_acid,chlorides                                              29\n",
       "volatile_acidity,chlorides                                         12\n",
       "fixed_acidity,volatile_acidity                                      6\n",
       "total_sulfur_dioxide,free_sulfur_dioxide                            5\n",
       "free_sulfur_dioxide,sulphates                                       5\n",
       "residual_sugar,density                                              4\n",
       "fixed_acidity,citric_acid                                           4\n",
       "citric_acid,sulphates                                               4\n",
       "ph,citric_acid                                                      3\n",
       "ph,fixed_acidity                                                    3\n",
       "chlorides,residual_sugar                                            3\n",
       "ph,fixed_acidity,citric_acid                                        2\n",
       "fixed_acidity,total_sulfur_dioxide                                  2\n",
       "volatile_acidity,total_sulfur_dioxide                               2\n",
       "ph,sulphates                                                        2\n",
       "fixed_acidity,free_sulfur_dioxide                                   2\n",
       "citric_acid,chlorides,free_sulfur_dioxide                           1\n",
       "volatile_acidity,citric_acid,chlorides                              1\n",
       "ph,fixed_acidity,chlorides                                          1\n",
       "volatile_acidity,free_sulfur_dioxide                                1\n",
       "chlorides,free_sulfur_dioxide                                       1\n",
       "free_sulfur_dioxide,density                                         1\n",
       "chlorides,total_sulfur_dioxide                                      1\n",
       "fixed_acidity,volatile_acidity,sulphates                            1\n",
       "volatile_acidity,citric_acid,chlorides,residual_sugar,density       1\n",
       "ph,fixed_acidity,free_sulfur_dioxide,sulphates                      1\n",
       "citric_acid,total_sulfur_dioxide                                    1\n",
       "fixed_acidity,chlorides                                             1\n",
       "citric_acid,residual_sugar                                          1\n",
       "fixed_acidity,volatile_acidity,citric_acid,total_sulfur_dioxide     1\n",
       "fixed_acidity,sulphates                                             1\n",
       "fixed_acidity,volatile_acidity,citric_acid,sulphates                1\n",
       "volatile_acidity,citric_acid,sulphates                              1\n",
       "fixed_acidity,volatile_acidity,citric_acid                          1\n",
       "Name: count, dtype: int64"
      ]
     },
     "execution_count": 320,
     "metadata": {},
     "output_type": "execute_result"
    }
   ],
   "source": [
    "# analyse the combinations of quantities with outliers\n",
    "# NOTE Why? What does this tell us about the outliers? nuttin  \n",
    "outliers_analysis_crazy = wine_w_is_outlier.loc[wine_w_is_outlier.outlier_cnt>1, all_inputs].T.apply(append_index_if_val_true).value_counts()\n",
    "outliers_analysis_crazy"
   ]
  }
 ],
 "metadata": {
  "kernelspec": {
   "display_name": "base_data_analysis",
   "language": "python",
   "name": "python3"
  },
  "language_info": {
   "codemirror_mode": {
    "name": "ipython",
    "version": 3
   },
   "file_extension": ".py",
   "mimetype": "text/x-python",
   "name": "python",
   "nbconvert_exporter": "python",
   "pygments_lexer": "ipython3",
   "version": "3.12.3"
  }
 },
 "nbformat": 4,
 "nbformat_minor": 5
}
