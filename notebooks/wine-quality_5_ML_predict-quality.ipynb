{
 "cells": [
  {
   "cell_type": "markdown",
   "id": "731674a7",
   "metadata": {},
   "source": [
    "# Machine Learning - Predict Good Quality White Vinho Verde"
   ]
  },
  {
   "cell_type": "markdown",
   "id": "0adeafb2",
   "metadata": {},
   "source": [
    "In this notebook a machine learning model to predict the quality of white vinho verde wines is implemented and evaluated. \n",
    "\n",
    "The goal is to predict if a wine is high quality or not"
   ]
  },
  {
   "cell_type": "markdown",
   "id": "a462b166",
   "metadata": {},
   "source": [
    "# Import Packages and Functions"
   ]
  },
  {
   "cell_type": "code",
   "execution_count": null,
   "id": "e263352a",
   "metadata": {},
   "outputs": [],
   "source": [
    "import pandas as pd\n",
    "# import pingouin as pg\n",
    "import matplotlib.pyplot as plt\n",
    "import seaborn as sns\n",
    "import math\n",
    "import numpy as np\n",
    "\n",
    "from xgboost import XGBClassifier\n",
    "\n",
    "import sklearn\n",
    "from sklearn.preprocessing import (\n",
    "    OrdinalEncoder, LabelEncoder, \n",
    "    MinMaxScaler, RobustScaler, StandardScaler,\n",
    "    FunctionTransformer,\n",
    "    PolynomialFeatures\n",
    "    )\n",
    "from sklearn.model_selection import train_test_split, StratifiedKFold, ShuffleSplit, cross_val_score\n",
    "from sklearn.model_selection import GridSearchCV, RandomizedSearchCV\n",
    "from sklearn.compose import ColumnTransformer\n",
    "from sklearn.decomposition import PCA\n",
    "\n",
    "from sklearn.ensemble import RandomForestClassifier\n",
    "from sklearn.svm import SVC\n",
    "# from sklearn.linear_model import LogisticRegression\n",
    "# from sklearn.impute import SimpleImputer\n",
    "# from sklearn.model_selection import GridSearchCV\n",
    "from sklearn.pipeline import Pipeline as SklPipeline\n",
    "from sklearn.metrics import (\n",
    "    make_scorer,\n",
    "    accuracy_score, precision_score, recall_score, f1_score, \n",
    "    precision_recall_fscore_support,\n",
    "    classification_report, confusion_matrix, ConfusionMatrixDisplay, cohen_kappa_score\n",
    ")\n",
    "from sklearn.inspection import permutation_importance\n",
    "\n",
    "from imblearn.under_sampling import RandomUnderSampler\n",
    "from imblearn.over_sampling import SMOTE\n",
    "from imblearn.combine import SMOTEENN\n",
    "from imblearn.pipeline import Pipeline\n",
    "\n",
    "import shap\n",
    "\n",
    "# from skopt import BayesSearchCV\n",
    "\n",
    "# TODO checkout this pipeline library \n",
    "# from neuraxle.pipeline import Pipeline"
   ]
  },
  {
   "cell_type": "code",
   "execution_count": 337,
   "id": "83d3a7de",
   "metadata": {},
   "outputs": [],
   "source": [
    "%run ../src/constants.py"
   ]
  },
  {
   "cell_type": "markdown",
   "id": "945a9b2a",
   "metadata": {},
   "source": [
    "# Import and Pre-clean Data"
   ]
  },
  {
   "cell_type": "code",
   "execution_count": 338,
   "id": "392cb838",
   "metadata": {},
   "outputs": [],
   "source": [
    "# import white wine\n",
    "wine = pd.read_parquet('../data/processed/wine_w.parquet')"
   ]
  },
  {
   "cell_type": "code",
   "execution_count": 339,
   "id": "5a0449e3",
   "metadata": {},
   "outputs": [
    {
     "name": "stdout",
     "output_type": "stream",
     "text": [
      "<class 'pandas.core.frame.DataFrame'>\n",
      "Index: 3961 entries, 0 to 4897\n",
      "Data columns (total 21 columns):\n",
      " #   Column                               Non-Null Count  Dtype   \n",
      "---  ------                               --------------  -----   \n",
      " 0   ph                                   3961 non-null   float64 \n",
      " 1   fixed_acidity                        3961 non-null   float64 \n",
      " 2   volatile_acidity                     3961 non-null   float64 \n",
      " 3   citric_acid                          3961 non-null   float64 \n",
      " 4   chlorides                            3961 non-null   float64 \n",
      " 5   total_sulfur_dioxide                 3961 non-null   float64 \n",
      " 6   free_sulfur_dioxide                  3961 non-null   float64 \n",
      " 7   sulphates                            3961 non-null   float64 \n",
      " 8   residual_sugar                       3961 non-null   float64 \n",
      " 9   density                              3961 non-null   float64 \n",
      " 10  alcohol                              3961 non-null   float64 \n",
      " 11  quality                              3961 non-null   int64   \n",
      " 12  color                                3961 non-null   category\n",
      " 13  quality_label                        3961 non-null   category\n",
      " 14  total_sulfur_dioxide_above_eu_limit  3961 non-null   bool    \n",
      " 15  volatile_acid_above_eu_limit         3961 non-null   bool    \n",
      " 16  sulfur_dioxide_ratio                 3961 non-null   float64 \n",
      " 17  acidity_ratio                        3961 non-null   float64 \n",
      " 18  total_acidity                        3961 non-null   float64 \n",
      " 19  input_outlier_count                  3961 non-null   int64   \n",
      " 20  input_outliers_if                    3961 non-null   bool    \n",
      "dtypes: bool(3), category(2), float64(14), int64(2)\n",
      "memory usage: 545.7 KB\n"
     ]
    }
   ],
   "source": [
    "wine.info()"
   ]
  },
  {
   "cell_type": "markdown",
   "id": "5613fadd",
   "metadata": {},
   "source": [
    "## Config"
   ]
  },
  {
   "cell_type": "code",
   "execution_count": 520,
   "id": "6d24271e",
   "metadata": {},
   "outputs": [],
   "source": [
    "remove_outliers = True\n",
    "DO_SHAP_EXPLAINER = True\n",
    "DO_CROSS_VAL = False\n",
    "DO_GRIDSEARCH_RF = True\n",
    "DO_GRIDSEARCH_SVC = True\n",
    "\n",
    "features_removed = [\n",
    "    'color',\n",
    "    # 'fixed_acidity', 'volatile_acidity', 'citric_acid',\n",
    "    'total_acidity',\n",
    "    # 'total_sulfur_dioxide', \n",
    "    # 'free_sulfur_dioxide',\n",
    "    # 'sulphates',\n",
    "    # 'residual_sugar',\n",
    "    # 'ph',\n",
    "    # 'density',\n",
    "    'acidity_ratio',\n",
    "    'sulfur_dioxide_ratio',\n",
    "    'total_sulfur_dioxide_above_eu_limit', \n",
    "    'volatile_acid_above_eu_limit'\n",
    "    ]\n",
    "\n",
    "target, target_alt = 'quality_label', 'quality'\n",
    "# target, target_alt = target_alt, target\n",
    "features_removed.append(target_alt)"
   ]
  },
  {
   "cell_type": "markdown",
   "id": "6d320153",
   "metadata": {},
   "source": [
    "## Remove outliers\n",
    "\n",
    "Remove low quality outlier wines!"
   ]
  },
  {
   "cell_type": "code",
   "execution_count": 341,
   "id": "efd44223",
   "metadata": {},
   "outputs": [
    {
     "data": {
      "text/plain": [
       "(3331, 19)"
      ]
     },
     "execution_count": 341,
     "metadata": {},
     "output_type": "execute_result"
    }
   ],
   "source": [
    "MIN_Q_RATING = 7\n",
    "\n",
    "if remove_outliers:\n",
    "    outlier_mask = ((wine.input_outlier_count>=1) | wine.input_outliers_if) & (wine.quality<=MIN_Q_RATING)\n",
    "    # outlier_mask = ((wine.input_outlier_count>=1)) & (wine.quality<=MIN_Q_RATING)\n",
    "    wine = wine[~outlier_mask]\n",
    "wine = wine.drop(columns=['input_outlier_count', 'input_outliers_if'])\n",
    "wine.shape"
   ]
  },
  {
   "cell_type": "code",
   "execution_count": 342,
   "id": "17f6c1ec",
   "metadata": {},
   "outputs": [
    {
     "name": "stdout",
     "output_type": "stream",
     "text": [
      "630\n"
     ]
    }
   ],
   "source": [
    "if outlier_mask is not None:\n",
    "    print(sum(outlier_mask))"
   ]
  },
  {
   "cell_type": "markdown",
   "id": "540d2401",
   "metadata": {},
   "source": [
    "## Remove Features"
   ]
  },
  {
   "cell_type": "code",
   "execution_count": 343,
   "id": "b9fa18a7",
   "metadata": {},
   "outputs": [
    {
     "name": "stdout",
     "output_type": "stream",
     "text": [
      "selected features are:\n"
     ]
    },
    {
     "data": {
      "text/plain": [
       "['ph',\n",
       " 'fixed_acidity',\n",
       " 'volatile_acidity',\n",
       " 'citric_acid',\n",
       " 'chlorides',\n",
       " 'total_sulfur_dioxide',\n",
       " 'free_sulfur_dioxide',\n",
       " 'sulphates',\n",
       " 'residual_sugar',\n",
       " 'density',\n",
       " 'alcohol']"
      ]
     },
     "execution_count": 343,
     "metadata": {},
     "output_type": "execute_result"
    }
   ],
   "source": [
    "wine = wine.drop(columns=features_removed)\n",
    "\n",
    "features = [input for input in wine.columns if (input not in features_removed) and (input != target) and (input != target)]\n",
    "print('selected features are:')\n",
    "features"
   ]
  },
  {
   "cell_type": "markdown",
   "id": "c03f2ea7",
   "metadata": {},
   "source": [
    "## Analyse Input Data"
   ]
  },
  {
   "cell_type": "code",
   "execution_count": 344,
   "id": "6263e66a",
   "metadata": {},
   "outputs": [
    {
     "data": {
      "image/png": "[encoded data removed]",
      "text/plain": [
       "<Figure size 640x480 with 1 Axes>"
      ]
     },
     "metadata": {},
     "output_type": "display_data"
    }
   ],
   "source": [
    "if 'quality_label' in wine.columns:\n",
    "    sns.histplot(wine, x='quality_label', discrete=True);\n",
    "else:\n",
    "    sns.histplot(wine, x='quality', discrete=True);"
   ]
  },
  {
   "cell_type": "markdown",
   "id": "7475e1c8",
   "metadata": {},
   "source": [
    "# Transform Target"
   ]
  },
  {
   "cell_type": "code",
   "execution_count": 345,
   "id": "86fd823d",
   "metadata": {},
   "outputs": [],
   "source": [
    "# encode quality label\n",
    "if 'quality_label' in wine.columns:\n",
    "    # TODO is there another way to ensure order? seems kind of sloppy\n",
    "    categories_in_order = list(wine.quality_label.value_counts().sort_index().index) # such that number of labels can be changed \n",
    "    oe = OrdinalEncoder(categories=[categories_in_order]) # NOTE give the order in here; has to be an array of n features \n",
    "    wine['quality_label'] = oe.fit_transform(pd.DataFrame(wine['quality_label'])) # NOTE conversion to dataframe needed here, because that bastard requires a (n_samples, n_features) shape\n",
    "    qlabels = sorted(wine.quality_label.unique()) #[0.0, 2.0, 3.0]"
   ]
  },
  {
   "cell_type": "markdown",
   "id": "c6732fa0",
   "metadata": {},
   "source": [
    "# Split Data Set"
   ]
  },
  {
   "cell_type": "code",
   "execution_count": 346,
   "id": "ecd451fa",
   "metadata": {},
   "outputs": [],
   "source": [
    "# Split the data into training and testing sets\n",
    "# TODO move configuration to config file?\n",
    "TEST_SIZE = 0.20\n",
    "RANDOM_STATE = 42\n",
    "\n",
    "X = wine[features]\n",
    "if 'quality_label' in wine.columns:\n",
    "    y = wine.quality_label\n",
    "else:\n",
    "    y = wine.quality\n",
    "\n",
    "X_train, X_test, y_train, y_test = train_test_split(X, y, test_size=TEST_SIZE, random_state=RANDOM_STATE)"
   ]
  },
  {
   "cell_type": "code",
   "execution_count": 347,
   "id": "d129c775",
   "metadata": {},
   "outputs": [
    {
     "data": {
      "image/png": "[encoded data removed]",
      "text/plain": [
       "<Figure size 1200x600 with 3 Axes>"
      ]
     },
     "metadata": {},
     "output_type": "display_data"
    }
   ],
   "source": [
    "fig, ax = plt.subplots(1, 3, figsize=(12, 6), sharey=True, sharex=True)\n",
    "\n",
    "sns.histplot(y, discrete=True, ax=ax[0])\n",
    "sns.histplot(y_train, discrete=True, ax=ax[1])\n",
    "sns.histplot(y_test, discrete=True, ax=ax[2])\n",
    "\n",
    "ax[0].set_title('y')\n",
    "ax[1].set_title('y_train')\n",
    "ax[2].set_title('y_test')\n",
    "\n",
    "plt.tight_layout()"
   ]
  },
  {
   "cell_type": "code",
   "execution_count": 348,
   "id": "9bde2ebd",
   "metadata": {},
   "outputs": [
    {
     "data": {
      "text/plain": [
       "quality_label\n",
       "1.0    1243\n",
       "0.0     832\n",
       "2.0     479\n",
       "3.0     110\n",
       "Name: count, dtype: int64"
      ]
     },
     "execution_count": 348,
     "metadata": {},
     "output_type": "execute_result"
    }
   ],
   "source": [
    "quality_label_vcounts = y_train.value_counts()\n",
    "quality_label_vcounts"
   ]
  },
  {
   "cell_type": "markdown",
   "id": "69d4766f",
   "metadata": {},
   "source": [
    "# Machine Learning"
   ]
  },
  {
   "cell_type": "code",
   "execution_count": null,
   "id": "b24c4a77",
   "metadata": {},
   "outputs": [],
   "source": [
    "# configure sampling\n",
    "\n",
    "def calc_undersampling_startegy(y):\n",
    "    '''\n",
    "    calculate undersampling strategy for wine quality label\n",
    "      - undersample majority class to 80%\n",
    "      - undersample other classes to minority class\n",
    "      - keep minority class\n",
    "    '''\n",
    "    UNDERSAMPLING_FAC_MAJ_CLASS=0.8\n",
    "    # quality_label_vcounts = y.value_counts()\n",
    "    unique, counts = np.unique(y, return_counts=True)\n",
    "    quality_label_vcounts = dict(zip(unique,counts))\n",
    "    return {\n",
    "        0: quality_label_vcounts[2], #min(quality_label_vcounts[0], quality_label_vcounts[2]),\n",
    "        1: int(np.floor(UNDERSAMPLING_FAC_MAJ_CLASS*quality_label_vcounts[1])),\n",
    "        2: quality_label_vcounts[2],\n",
    "        3: quality_label_vcounts[3]\n",
    "        }\n",
    "\n",
    "undersampling_strategy = calc_undersampling_startegy\n",
    "# undersampling_strategy = 'auto'\n",
    "oversampling_strategy = 'auto'"
   ]
  },
  {
   "cell_type": "code",
   "execution_count": 472,
   "id": "de33b7bf",
   "metadata": {},
   "outputs": [
    {
     "data": {
      "text/html": [
       "<style>#sk-container-id-38 {\n",
       "  /* Definition of color scheme common for light and dark mode */\n",
       "  --sklearn-color-text: #000;\n",
       "  --sklearn-color-text-muted: #666;\n",
       "  --sklearn-color-line: gray;\n",
       "  /* Definition of color scheme for unfitted estimators */\n",
       "  --sklearn-color-unfitted-level-0: #fff5e6;\n",
       "  --sklearn-color-unfitted-level-1: #f6e4d2;\n",
       "  --sklearn-color-unfitted-level-2: #ffe0b3;\n",
       "  --sklearn-color-unfitted-level-3: chocolate;\n",
       "  /* Definition of color scheme for fitted estimators */\n",
       "  --sklearn-color-fitted-level-0: #f0f8ff;\n",
       "  --sklearn-color-fitted-level-1: #d4ebff;\n",
       "  --sklearn-color-fitted-level-2: #b3dbfd;\n",
       "  --sklearn-color-fitted-level-3: cornflowerblue;\n",
       "\n",
       "  /* Specific color for light theme */\n",
       "  --sklearn-color-text-on-default-background: var(--sg-text-color, var(--theme-code-foreground, var(--jp-content-font-color1, black)));\n",
       "  --sklearn-color-background: var(--sg-background-color, var(--theme-background, var(--jp-layout-color0, white)));\n",
       "  --sklearn-color-border-box: var(--sg-text-color, var(--theme-code-foreground, var(--jp-content-font-color1, black)));\n",
       "  --sklearn-color-icon: #696969;\n",
       "\n",
       "  @media (prefers-color-scheme: dark) {\n",
       "    /* Redefinition of color scheme for dark theme */\n",
       "    --sklearn-color-text-on-default-background: var(--sg-text-color, var(--theme-code-foreground, var(--jp-content-font-color1, white)));\n",
       "    --sklearn-color-background: var(--sg-background-color, var(--theme-background, var(--jp-layout-color0, #111)));\n",
       "    --sklearn-color-border-box: var(--sg-text-color, var(--theme-code-foreground, var(--jp-content-font-color1, white)));\n",
       "    --sklearn-color-icon: #878787;\n",
       "  }\n",
       "}\n",
       "\n",
       "#sk-container-id-38 {\n",
       "  color: var(--sklearn-color-text);\n",
       "}\n",
       "\n",
       "#sk-container-id-38 pre {\n",
       "  padding: 0;\n",
       "}\n",
       "\n",
       "#sk-container-id-38 input.sk-hidden--visually {\n",
       "  border: 0;\n",
       "  clip: rect(1px 1px 1px 1px);\n",
       "  clip: rect(1px, 1px, 1px, 1px);\n",
       "  height: 1px;\n",
       "  margin: -1px;\n",
       "  overflow: hidden;\n",
       "  padding: 0;\n",
       "  position: absolute;\n",
       "  width: 1px;\n",
       "}\n",
       "\n",
       "#sk-container-id-38 div.sk-dashed-wrapped {\n",
       "  border: 1px dashed var(--sklearn-color-line);\n",
       "  margin: 0 0.4em 0.5em 0.4em;\n",
       "  box-sizing: border-box;\n",
       "  padding-bottom: 0.4em;\n",
       "  background-color: var(--sklearn-color-background);\n",
       "}\n",
       "\n",
       "#sk-container-id-38 div.sk-container {\n",
       "  /* jupyter's `normalize.less` sets `[hidden] { display: none; }`\n",
       "     but bootstrap.min.css set `[hidden] { display: none !important; }`\n",
       "     so we also need the `!important` here to be able to override the\n",
       "     default hidden behavior on the sphinx rendered scikit-learn.org.\n",
       "     See: https://github.com/scikit-learn/scikit-learn/issues/21755 */\n",
       "  display: inline-block !important;\n",
       "  position: relative;\n",
       "}\n",
       "\n",
       "#sk-container-id-38 div.sk-text-repr-fallback {\n",
       "  display: none;\n",
       "}\n",
       "\n",
       "div.sk-parallel-item,\n",
       "div.sk-serial,\n",
       "div.sk-item {\n",
       "  /* draw centered vertical line to link estimators */\n",
       "  background-image: linear-gradient(var(--sklearn-color-text-on-default-background), var(--sklearn-color-text-on-default-background));\n",
       "  background-size: 2px 100%;\n",
       "  background-repeat: no-repeat;\n",
       "  background-position: center center;\n",
       "}\n",
       "\n",
       "/* Parallel-specific style estimator block */\n",
       "\n",
       "#sk-container-id-38 div.sk-parallel-item::after {\n",
       "  content: \"\";\n",
       "  width: 100%;\n",
       "  border-bottom: 2px solid var(--sklearn-color-text-on-default-background);\n",
       "  flex-grow: 1;\n",
       "}\n",
       "\n",
       "#sk-container-id-38 div.sk-parallel {\n",
       "  display: flex;\n",
       "  align-items: stretch;\n",
       "  justify-content: center;\n",
       "  background-color: var(--sklearn-color-background);\n",
       "  position: relative;\n",
       "}\n",
       "\n",
       "#sk-container-id-38 div.sk-parallel-item {\n",
       "  display: flex;\n",
       "  flex-direction: column;\n",
       "}\n",
       "\n",
       "#sk-container-id-38 div.sk-parallel-item:first-child::after {\n",
       "  align-self: flex-end;\n",
       "  width: 50%;\n",
       "}\n",
       "\n",
       "#sk-container-id-38 div.sk-parallel-item:last-child::after {\n",
       "  align-self: flex-start;\n",
       "  width: 50%;\n",
       "}\n",
       "\n",
       "#sk-container-id-38 div.sk-parallel-item:only-child::after {\n",
       "  width: 0;\n",
       "}\n",
       "\n",
       "/* Serial-specific style estimator block */\n",
       "\n",
       "#sk-container-id-38 div.sk-serial {\n",
       "  display: flex;\n",
       "  flex-direction: column;\n",
       "  align-items: center;\n",
       "  background-color: var(--sklearn-color-background);\n",
       "  padding-right: 1em;\n",
       "  padding-left: 1em;\n",
       "}\n",
       "\n",
       "\n",
       "/* Toggleable style: style used for estimator/Pipeline/ColumnTransformer box that is\n",
       "clickable and can be expanded/collapsed.\n",
       "- Pipeline and ColumnTransformer use this feature and define the default style\n",
       "- Estimators will overwrite some part of the style using the `sk-estimator` class\n",
       "*/\n",
       "\n",
       "/* Pipeline and ColumnTransformer style (default) */\n",
       "\n",
       "#sk-container-id-38 div.sk-toggleable {\n",
       "  /* Default theme specific background. It is overwritten whether we have a\n",
       "  specific estimator or a Pipeline/ColumnTransformer */\n",
       "  background-color: var(--sklearn-color-background);\n",
       "}\n",
       "\n",
       "/* Toggleable label */\n",
       "#sk-container-id-38 label.sk-toggleable__label {\n",
       "  cursor: pointer;\n",
       "  display: flex;\n",
       "  width: 100%;\n",
       "  margin-bottom: 0;\n",
       "  padding: 0.5em;\n",
       "  box-sizing: border-box;\n",
       "  text-align: center;\n",
       "  align-items: start;\n",
       "  justify-content: space-between;\n",
       "  gap: 0.5em;\n",
       "}\n",
       "\n",
       "#sk-container-id-38 label.sk-toggleable__label .caption {\n",
       "  font-size: 0.6rem;\n",
       "  font-weight: lighter;\n",
       "  color: var(--sklearn-color-text-muted);\n",
       "}\n",
       "\n",
       "#sk-container-id-38 label.sk-toggleable__label-arrow:before {\n",
       "  /* Arrow on the left of the label */\n",
       "  content: \"▸\";\n",
       "  float: left;\n",
       "  margin-right: 0.25em;\n",
       "  color: var(--sklearn-color-icon);\n",
       "}\n",
       "\n",
       "#sk-container-id-38 label.sk-toggleable__label-arrow:hover:before {\n",
       "  color: var(--sklearn-color-text);\n",
       "}\n",
       "\n",
       "/* Toggleable content - dropdown */\n",
       "\n",
       "#sk-container-id-38 div.sk-toggleable__content {\n",
       "  max-height: 0;\n",
       "  max-width: 0;\n",
       "  overflow: hidden;\n",
       "  text-align: left;\n",
       "  /* unfitted */\n",
       "  background-color: var(--sklearn-color-unfitted-level-0);\n",
       "}\n",
       "\n",
       "#sk-container-id-38 div.sk-toggleable__content.fitted {\n",
       "  /* fitted */\n",
       "  background-color: var(--sklearn-color-fitted-level-0);\n",
       "}\n",
       "\n",
       "#sk-container-id-38 div.sk-toggleable__content pre {\n",
       "  margin: 0.2em;\n",
       "  border-radius: 0.25em;\n",
       "  color: var(--sklearn-color-text);\n",
       "  /* unfitted */\n",
       "  background-color: var(--sklearn-color-unfitted-level-0);\n",
       "}\n",
       "\n",
       "#sk-container-id-38 div.sk-toggleable__content.fitted pre {\n",
       "  /* unfitted */\n",
       "  background-color: var(--sklearn-color-fitted-level-0);\n",
       "}\n",
       "\n",
       "#sk-container-id-38 input.sk-toggleable__control:checked~div.sk-toggleable__content {\n",
       "  /* Expand drop-down */\n",
       "  max-height: 200px;\n",
       "  max-width: 100%;\n",
       "  overflow: auto;\n",
       "}\n",
       "\n",
       "#sk-container-id-38 input.sk-toggleable__control:checked~label.sk-toggleable__label-arrow:before {\n",
       "  content: \"▾\";\n",
       "}\n",
       "\n",
       "/* Pipeline/ColumnTransformer-specific style */\n",
       "\n",
       "#sk-container-id-38 div.sk-label input.sk-toggleable__control:checked~label.sk-toggleable__label {\n",
       "  color: var(--sklearn-color-text);\n",
       "  background-color: var(--sklearn-color-unfitted-level-2);\n",
       "}\n",
       "\n",
       "#sk-container-id-38 div.sk-label.fitted input.sk-toggleable__control:checked~label.sk-toggleable__label {\n",
       "  background-color: var(--sklearn-color-fitted-level-2);\n",
       "}\n",
       "\n",
       "/* Estimator-specific style */\n",
       "\n",
       "/* Colorize estimator box */\n",
       "#sk-container-id-38 div.sk-estimator input.sk-toggleable__control:checked~label.sk-toggleable__label {\n",
       "  /* unfitted */\n",
       "  background-color: var(--sklearn-color-unfitted-level-2);\n",
       "}\n",
       "\n",
       "#sk-container-id-38 div.sk-estimator.fitted input.sk-toggleable__control:checked~label.sk-toggleable__label {\n",
       "  /* fitted */\n",
       "  background-color: var(--sklearn-color-fitted-level-2);\n",
       "}\n",
       "\n",
       "#sk-container-id-38 div.sk-label label.sk-toggleable__label,\n",
       "#sk-container-id-38 div.sk-label label {\n",
       "  /* The background is the default theme color */\n",
       "  color: var(--sklearn-color-text-on-default-background);\n",
       "}\n",
       "\n",
       "/* On hover, darken the color of the background */\n",
       "#sk-container-id-38 div.sk-label:hover label.sk-toggleable__label {\n",
       "  color: var(--sklearn-color-text);\n",
       "  background-color: var(--sklearn-color-unfitted-level-2);\n",
       "}\n",
       "\n",
       "/* Label box, darken color on hover, fitted */\n",
       "#sk-container-id-38 div.sk-label.fitted:hover label.sk-toggleable__label.fitted {\n",
       "  color: var(--sklearn-color-text);\n",
       "  background-color: var(--sklearn-color-fitted-level-2);\n",
       "}\n",
       "\n",
       "/* Estimator label */\n",
       "\n",
       "#sk-container-id-38 div.sk-label label {\n",
       "  font-family: monospace;\n",
       "  font-weight: bold;\n",
       "  display: inline-block;\n",
       "  line-height: 1.2em;\n",
       "}\n",
       "\n",
       "#sk-container-id-38 div.sk-label-container {\n",
       "  text-align: center;\n",
       "}\n",
       "\n",
       "/* Estimator-specific */\n",
       "#sk-container-id-38 div.sk-estimator {\n",
       "  font-family: monospace;\n",
       "  border: 1px dotted var(--sklearn-color-border-box);\n",
       "  border-radius: 0.25em;\n",
       "  box-sizing: border-box;\n",
       "  margin-bottom: 0.5em;\n",
       "  /* unfitted */\n",
       "  background-color: var(--sklearn-color-unfitted-level-0);\n",
       "}\n",
       "\n",
       "#sk-container-id-38 div.sk-estimator.fitted {\n",
       "  /* fitted */\n",
       "  background-color: var(--sklearn-color-fitted-level-0);\n",
       "}\n",
       "\n",
       "/* on hover */\n",
       "#sk-container-id-38 div.sk-estimator:hover {\n",
       "  /* unfitted */\n",
       "  background-color: var(--sklearn-color-unfitted-level-2);\n",
       "}\n",
       "\n",
       "#sk-container-id-38 div.sk-estimator.fitted:hover {\n",
       "  /* fitted */\n",
       "  background-color: var(--sklearn-color-fitted-level-2);\n",
       "}\n",
       "\n",
       "/* Specification for estimator info (e.g. \"i\" and \"?\") */\n",
       "\n",
       "/* Common style for \"i\" and \"?\" */\n",
       "\n",
       ".sk-estimator-doc-link,\n",
       "a:link.sk-estimator-doc-link,\n",
       "a:visited.sk-estimator-doc-link {\n",
       "  float: right;\n",
       "  font-size: smaller;\n",
       "  line-height: 1em;\n",
       "  font-family: monospace;\n",
       "  background-color: var(--sklearn-color-background);\n",
       "  border-radius: 1em;\n",
       "  height: 1em;\n",
       "  width: 1em;\n",
       "  text-decoration: none !important;\n",
       "  margin-left: 0.5em;\n",
       "  text-align: center;\n",
       "  /* unfitted */\n",
       "  border: var(--sklearn-color-unfitted-level-1) 1pt solid;\n",
       "  color: var(--sklearn-color-unfitted-level-1);\n",
       "}\n",
       "\n",
       ".sk-estimator-doc-link.fitted,\n",
       "a:link.sk-estimator-doc-link.fitted,\n",
       "a:visited.sk-estimator-doc-link.fitted {\n",
       "  /* fitted */\n",
       "  border: var(--sklearn-color-fitted-level-1) 1pt solid;\n",
       "  color: var(--sklearn-color-fitted-level-1);\n",
       "}\n",
       "\n",
       "/* On hover */\n",
       "div.sk-estimator:hover .sk-estimator-doc-link:hover,\n",
       ".sk-estimator-doc-link:hover,\n",
       "div.sk-label-container:hover .sk-estimator-doc-link:hover,\n",
       ".sk-estimator-doc-link:hover {\n",
       "  /* unfitted */\n",
       "  background-color: var(--sklearn-color-unfitted-level-3);\n",
       "  color: var(--sklearn-color-background);\n",
       "  text-decoration: none;\n",
       "}\n",
       "\n",
       "div.sk-estimator.fitted:hover .sk-estimator-doc-link.fitted:hover,\n",
       ".sk-estimator-doc-link.fitted:hover,\n",
       "div.sk-label-container:hover .sk-estimator-doc-link.fitted:hover,\n",
       ".sk-estimator-doc-link.fitted:hover {\n",
       "  /* fitted */\n",
       "  background-color: var(--sklearn-color-fitted-level-3);\n",
       "  color: var(--sklearn-color-background);\n",
       "  text-decoration: none;\n",
       "}\n",
       "\n",
       "/* Span, style for the box shown on hovering the info icon */\n",
       ".sk-estimator-doc-link span {\n",
       "  display: none;\n",
       "  z-index: 9999;\n",
       "  position: relative;\n",
       "  font-weight: normal;\n",
       "  right: .2ex;\n",
       "  padding: .5ex;\n",
       "  margin: .5ex;\n",
       "  width: min-content;\n",
       "  min-width: 20ex;\n",
       "  max-width: 50ex;\n",
       "  color: var(--sklearn-color-text);\n",
       "  box-shadow: 2pt 2pt 4pt #999;\n",
       "  /* unfitted */\n",
       "  background: var(--sklearn-color-unfitted-level-0);\n",
       "  border: .5pt solid var(--sklearn-color-unfitted-level-3);\n",
       "}\n",
       "\n",
       ".sk-estimator-doc-link.fitted span {\n",
       "  /* fitted */\n",
       "  background: var(--sklearn-color-fitted-level-0);\n",
       "  border: var(--sklearn-color-fitted-level-3);\n",
       "}\n",
       "\n",
       ".sk-estimator-doc-link:hover span {\n",
       "  display: block;\n",
       "}\n",
       "\n",
       "/* \"?\"-specific style due to the `<a>` HTML tag */\n",
       "\n",
       "#sk-container-id-38 a.estimator_doc_link {\n",
       "  float: right;\n",
       "  font-size: 1rem;\n",
       "  line-height: 1em;\n",
       "  font-family: monospace;\n",
       "  background-color: var(--sklearn-color-background);\n",
       "  border-radius: 1rem;\n",
       "  height: 1rem;\n",
       "  width: 1rem;\n",
       "  text-decoration: none;\n",
       "  /* unfitted */\n",
       "  color: var(--sklearn-color-unfitted-level-1);\n",
       "  border: var(--sklearn-color-unfitted-level-1) 1pt solid;\n",
       "}\n",
       "\n",
       "#sk-container-id-38 a.estimator_doc_link.fitted {\n",
       "  /* fitted */\n",
       "  border: var(--sklearn-color-fitted-level-1) 1pt solid;\n",
       "  color: var(--sklearn-color-fitted-level-1);\n",
       "}\n",
       "\n",
       "/* On hover */\n",
       "#sk-container-id-38 a.estimator_doc_link:hover {\n",
       "  /* unfitted */\n",
       "  background-color: var(--sklearn-color-unfitted-level-3);\n",
       "  color: var(--sklearn-color-background);\n",
       "  text-decoration: none;\n",
       "}\n",
       "\n",
       "#sk-container-id-38 a.estimator_doc_link.fitted:hover {\n",
       "  /* fitted */\n",
       "  background-color: var(--sklearn-color-fitted-level-3);\n",
       "}\n",
       "</style><div id=\"sk-container-id-38\" class=\"sk-top-container\"><div class=\"sk-text-repr-fallback\"><pre>Pipeline(steps=[(&#x27;scale&#x27;, RobustScaler()),\n",
       "                (&#x27;interactions&#x27;,\n",
       "                 PolynomialFeatures(include_bias=False, interaction_only=True)),\n",
       "                (&#x27;drop_cols&#x27;,\n",
       "                 ColumnTransformer(remainder=&#x27;passthrough&#x27;,\n",
       "                                   transformers=[(&#x27;column_dropper&#x27;, &#x27;drop&#x27;,\n",
       "                                                  array([&#x27;chlorides density&#x27;, &#x27;chlorides free_sulfur_dioxide&#x27;,\n",
       "       &#x27;chlorides residual_sugar&#x27;, &#x27;chlorides sulphates&#x27;,\n",
       "       &#x27;chlorides total_sulfur_dioxide&#x27;, &#x27;...\n",
       "       &#x27;volatile_acidity residual_sugar&#x27;, &#x27;volatile_acidity sulphates&#x27;,\n",
       "       &#x27;volatile_acidity total_sulfur_dioxide&#x27;], dtype=&#x27;&lt;U40&#x27;))])),\n",
       "                (&#x27;undersampling&#x27;,\n",
       "                 RandomUnderSampler(random_state=42,\n",
       "                                    sampling_strategy=&lt;function calc_undersampling_startegy at 0x0000016999103380&gt;)),\n",
       "                (&#x27;oversampling&#x27;, SMOTE(random_state=42)),\n",
       "                (&#x27;classifier&#x27;,\n",
       "                 RandomForestClassifier(n_jobs=-1, random_state=42))])</pre><b>In a Jupyter environment, please rerun this cell to show the HTML representation or trust the notebook. <br />On GitHub, the HTML representation is unable to render, please try loading this page with nbviewer.org.</b></div><div class=\"sk-container\" hidden><div class=\"sk-item sk-dashed-wrapped\"><div class=\"sk-label-container\"><div class=\"sk-label  sk-toggleable\"><input class=\"sk-toggleable__control sk-hidden--visually\" id=\"sk-estimator-id-384\" type=\"checkbox\" ><label for=\"sk-estimator-id-384\" class=\"sk-toggleable__label  sk-toggleable__label-arrow\"><div><div>Pipeline</div></div><div><span class=\"sk-estimator-doc-link \">i<span>Not fitted</span></span></div></label><div class=\"sk-toggleable__content \"><pre>Pipeline(steps=[(&#x27;scale&#x27;, RobustScaler()),\n",
       "                (&#x27;interactions&#x27;,\n",
       "                 PolynomialFeatures(include_bias=False, interaction_only=True)),\n",
       "                (&#x27;drop_cols&#x27;,\n",
       "                 ColumnTransformer(remainder=&#x27;passthrough&#x27;,\n",
       "                                   transformers=[(&#x27;column_dropper&#x27;, &#x27;drop&#x27;,\n",
       "                                                  array([&#x27;chlorides density&#x27;, &#x27;chlorides free_sulfur_dioxide&#x27;,\n",
       "       &#x27;chlorides residual_sugar&#x27;, &#x27;chlorides sulphates&#x27;,\n",
       "       &#x27;chlorides total_sulfur_dioxide&#x27;, &#x27;...\n",
       "       &#x27;volatile_acidity residual_sugar&#x27;, &#x27;volatile_acidity sulphates&#x27;,\n",
       "       &#x27;volatile_acidity total_sulfur_dioxide&#x27;], dtype=&#x27;&lt;U40&#x27;))])),\n",
       "                (&#x27;undersampling&#x27;,\n",
       "                 RandomUnderSampler(random_state=42,\n",
       "                                    sampling_strategy=&lt;function calc_undersampling_startegy at 0x0000016999103380&gt;)),\n",
       "                (&#x27;oversampling&#x27;, SMOTE(random_state=42)),\n",
       "                (&#x27;classifier&#x27;,\n",
       "                 RandomForestClassifier(n_jobs=-1, random_state=42))])</pre></div> </div></div><div class=\"sk-serial\"><div class=\"sk-item\"><div class=\"sk-estimator  sk-toggleable\"><input class=\"sk-toggleable__control sk-hidden--visually\" id=\"sk-estimator-id-385\" type=\"checkbox\" ><label for=\"sk-estimator-id-385\" class=\"sk-toggleable__label  sk-toggleable__label-arrow\"><div><div>RobustScaler</div></div><div><a class=\"sk-estimator-doc-link \" rel=\"noreferrer\" target=\"_blank\" href=\"https://scikit-learn.org/1.6/modules/generated/sklearn.preprocessing.RobustScaler.html\">?<span>Documentation for RobustScaler</span></a></div></label><div class=\"sk-toggleable__content \"><pre>RobustScaler()</pre></div> </div></div><div class=\"sk-item\"><div class=\"sk-estimator  sk-toggleable\"><input class=\"sk-toggleable__control sk-hidden--visually\" id=\"sk-estimator-id-386\" type=\"checkbox\" ><label for=\"sk-estimator-id-386\" class=\"sk-toggleable__label  sk-toggleable__label-arrow\"><div><div>PolynomialFeatures</div></div><div><a class=\"sk-estimator-doc-link \" rel=\"noreferrer\" target=\"_blank\" href=\"https://scikit-learn.org/1.6/modules/generated/sklearn.preprocessing.PolynomialFeatures.html\">?<span>Documentation for PolynomialFeatures</span></a></div></label><div class=\"sk-toggleable__content \"><pre>PolynomialFeatures(include_bias=False, interaction_only=True)</pre></div> </div></div><div class=\"sk-item sk-dashed-wrapped\"><div class=\"sk-label-container\"><div class=\"sk-label  sk-toggleable\"><input class=\"sk-toggleable__control sk-hidden--visually\" id=\"sk-estimator-id-387\" type=\"checkbox\" ><label for=\"sk-estimator-id-387\" class=\"sk-toggleable__label  sk-toggleable__label-arrow\"><div><div>drop_cols: ColumnTransformer</div></div><div><a class=\"sk-estimator-doc-link \" rel=\"noreferrer\" target=\"_blank\" href=\"https://scikit-learn.org/1.6/modules/generated/sklearn.compose.ColumnTransformer.html\">?<span>Documentation for drop_cols: ColumnTransformer</span></a></div></label><div class=\"sk-toggleable__content \"><pre>ColumnTransformer(remainder=&#x27;passthrough&#x27;,\n",
       "                  transformers=[(&#x27;column_dropper&#x27;, &#x27;drop&#x27;,\n",
       "                                 array([&#x27;chlorides density&#x27;, &#x27;chlorides free_sulfur_dioxide&#x27;,\n",
       "       &#x27;chlorides residual_sugar&#x27;, &#x27;chlorides sulphates&#x27;,\n",
       "       &#x27;chlorides total_sulfur_dioxide&#x27;, &#x27;citric_acid alcohol&#x27;,\n",
       "       &#x27;citric_acid chlorides&#x27;, &#x27;citric_acid density&#x27;,\n",
       "       &#x27;citric_acid free_sulfur_dioxide&#x27;, &#x27;citric_acid residual_sugar&#x27;,\n",
       "       &#x27;citric...\n",
       "       &#x27;sulphates residual_sugar&#x27;, &#x27;total_sulfur_dioxide density&#x27;,\n",
       "       &#x27;total_sulfur_dioxide free_sulfur_dioxide&#x27;,\n",
       "       &#x27;total_sulfur_dioxide residual_sugar&#x27;,\n",
       "       &#x27;total_sulfur_dioxide sulphates&#x27;, &#x27;volatile_acidity chlorides&#x27;,\n",
       "       &#x27;volatile_acidity citric_acid&#x27;,\n",
       "       &#x27;volatile_acidity free_sulfur_dioxide&#x27;,\n",
       "       &#x27;volatile_acidity residual_sugar&#x27;, &#x27;volatile_acidity sulphates&#x27;,\n",
       "       &#x27;volatile_acidity total_sulfur_dioxide&#x27;], dtype=&#x27;&lt;U40&#x27;))])</pre></div> </div></div><div class=\"sk-parallel\"><div class=\"sk-parallel-item\"><div class=\"sk-item\"><div class=\"sk-label-container\"><div class=\"sk-label  sk-toggleable\"><input class=\"sk-toggleable__control sk-hidden--visually\" id=\"sk-estimator-id-388\" type=\"checkbox\" ><label for=\"sk-estimator-id-388\" class=\"sk-toggleable__label  sk-toggleable__label-arrow\"><div><div>column_dropper</div></div></label><div class=\"sk-toggleable__content \"><pre>[&#x27;chlorides density&#x27; &#x27;chlorides free_sulfur_dioxide&#x27;\n",
       " &#x27;chlorides residual_sugar&#x27; &#x27;chlorides sulphates&#x27;\n",
       " &#x27;chlorides total_sulfur_dioxide&#x27; &#x27;citric_acid alcohol&#x27;\n",
       " &#x27;citric_acid chlorides&#x27; &#x27;citric_acid density&#x27;\n",
       " &#x27;citric_acid free_sulfur_dioxide&#x27; &#x27;citric_acid residual_sugar&#x27;\n",
       " &#x27;citric_acid sulphates&#x27; &#x27;citric_acid total_sulfur_dioxide&#x27;\n",
       " &#x27;fixed_acidity alcohol&#x27; &#x27;fixed_acidity chlorides&#x27;\n",
       " &#x27;fixed_acidity citric_acid&#x27; &#x27;fixed_acidity density&#x27;\n",
       " &#x27;fixed_acidity residual_sugar&#x27; &#x27;fixed_acidity sulphates&#x27;\n",
       " &#x27;fixed_acidity total_sulfur_dioxide&#x27; &#x27;fixed_acidity volatile_acidity&#x27;\n",
       " &#x27;free_sulfur_dioxide alcohol&#x27; &#x27;free_sulfur_dioxide residual_sugar&#x27;\n",
       " &#x27;free_sulfur_dioxide sulphates&#x27; &#x27;ph chlorides&#x27; &#x27;ph citric_acid&#x27;\n",
       " &#x27;ph free_sulfur_dioxide&#x27; &#x27;ph total_sulfur_dioxide&#x27; &#x27;ph volatile_acidity&#x27;\n",
       " &#x27;sulphates density&#x27; &#x27;sulphates residual_sugar&#x27;\n",
       " &#x27;total_sulfur_dioxide density&#x27; &#x27;total_sulfur_dioxide free_sulfur_dioxide&#x27;\n",
       " &#x27;total_sulfur_dioxide residual_sugar&#x27; &#x27;total_sulfur_dioxide sulphates&#x27;\n",
       " &#x27;volatile_acidity chlorides&#x27; &#x27;volatile_acidity citric_acid&#x27;\n",
       " &#x27;volatile_acidity free_sulfur_dioxide&#x27; &#x27;volatile_acidity residual_sugar&#x27;\n",
       " &#x27;volatile_acidity sulphates&#x27; &#x27;volatile_acidity total_sulfur_dioxide&#x27;]</pre></div> </div></div><div class=\"sk-serial\"><div class=\"sk-item\"><div class=\"sk-estimator  sk-toggleable\"><input class=\"sk-toggleable__control sk-hidden--visually\" id=\"sk-estimator-id-389\" type=\"checkbox\" ><label for=\"sk-estimator-id-389\" class=\"sk-toggleable__label  sk-toggleable__label-arrow\"><div><div>drop</div></div></label><div class=\"sk-toggleable__content \"><pre>drop</pre></div> </div></div></div></div></div><div class=\"sk-parallel-item\"><div class=\"sk-item\"><div class=\"sk-label-container\"><div class=\"sk-label  sk-toggleable\"><input class=\"sk-toggleable__control sk-hidden--visually\" id=\"sk-estimator-id-390\" type=\"checkbox\" ><label for=\"sk-estimator-id-390\" class=\"sk-toggleable__label  sk-toggleable__label-arrow\"><div><div>remainder</div></div></label><div class=\"sk-toggleable__content \"><pre></pre></div> </div></div><div class=\"sk-serial\"><div class=\"sk-item\"><div class=\"sk-estimator  sk-toggleable\"><input class=\"sk-toggleable__control sk-hidden--visually\" id=\"sk-estimator-id-391\" type=\"checkbox\" ><label for=\"sk-estimator-id-391\" class=\"sk-toggleable__label  sk-toggleable__label-arrow\"><div><div>passthrough</div></div></label><div class=\"sk-toggleable__content \"><pre>passthrough</pre></div> </div></div></div></div></div></div></div><div class=\"sk-item\"><div class=\"sk-estimator  sk-toggleable\"><input class=\"sk-toggleable__control sk-hidden--visually\" id=\"sk-estimator-id-392\" type=\"checkbox\" ><label for=\"sk-estimator-id-392\" class=\"sk-toggleable__label  sk-toggleable__label-arrow\"><div><div>RandomUnderSampler</div></div></label><div class=\"sk-toggleable__content \"><pre>RandomUnderSampler(random_state=42,\n",
       "                   sampling_strategy=&lt;function calc_undersampling_startegy at 0x0000016999103380&gt;)</pre></div> </div></div><div class=\"sk-item\"><div class=\"sk-estimator  sk-toggleable\"><input class=\"sk-toggleable__control sk-hidden--visually\" id=\"sk-estimator-id-393\" type=\"checkbox\" ><label for=\"sk-estimator-id-393\" class=\"sk-toggleable__label  sk-toggleable__label-arrow\"><div><div>SMOTE</div></div></label><div class=\"sk-toggleable__content \"><pre>SMOTE(random_state=42)</pre></div> </div></div><div class=\"sk-item\"><div class=\"sk-estimator  sk-toggleable\"><input class=\"sk-toggleable__control sk-hidden--visually\" id=\"sk-estimator-id-394\" type=\"checkbox\" ><label for=\"sk-estimator-id-394\" class=\"sk-toggleable__label  sk-toggleable__label-arrow\"><div><div>RandomForestClassifier</div></div><div><a class=\"sk-estimator-doc-link \" rel=\"noreferrer\" target=\"_blank\" href=\"https://scikit-learn.org/1.6/modules/generated/sklearn.ensemble.RandomForestClassifier.html\">?<span>Documentation for RandomForestClassifier</span></a></div></label><div class=\"sk-toggleable__content \"><pre>RandomForestClassifier(n_jobs=-1, random_state=42)</pre></div> </div></div></div></div></div></div>"
      ],
      "text/plain": [
       "Pipeline(steps=[('scale', RobustScaler()),\n",
       "                ('interactions',\n",
       "                 PolynomialFeatures(include_bias=False, interaction_only=True)),\n",
       "                ('drop_cols',\n",
       "                 ColumnTransformer(remainder='passthrough',\n",
       "                                   transformers=[('column_dropper', 'drop',\n",
       "                                                  array(['chlorides density', 'chlorides free_sulfur_dioxide',\n",
       "       'chlorides residual_sugar', 'chlorides sulphates',\n",
       "       'chlorides total_sulfur_dioxide', '...\n",
       "       'volatile_acidity residual_sugar', 'volatile_acidity sulphates',\n",
       "       'volatile_acidity total_sulfur_dioxide'], dtype='<U40'))])),\n",
       "                ('undersampling',\n",
       "                 RandomUnderSampler(random_state=42,\n",
       "                                    sampling_strategy=<function calc_undersampling_startegy at 0x0000016999103380>)),\n",
       "                ('oversampling', SMOTE(random_state=42)),\n",
       "                ('classifier',\n",
       "                 RandomForestClassifier(n_jobs=-1, random_state=42))])"
      ]
     },
     "execution_count": 472,
     "metadata": {},
     "output_type": "execute_result"
    }
   ],
   "source": [
    "# Build Pipeline\n",
    "\n",
    "# log scale features with high skew\n",
    "features_to_log_scale = ['volatile_acidity', 'residual_sugar', 'chlorides', 'free_sulfur_dioxide']\n",
    "features_remaining = [f for f in features if f not in features_to_log_scale]\n",
    "\n",
    "# Create log preprocessor\n",
    "preprocessor_log = ColumnTransformer(\n",
    "    transformers=[\n",
    "        ('log', FunctionTransformer(np.log1p), features_to_log_scale),\n",
    "        ('passthrough_remaining', 'passthrough', features_remaining)\n",
    "    ],\n",
    "    remainder='passthrough',\n",
    "    verbose_feature_names_out=False\n",
    ")\n",
    "# preprocessor_log.set_params(verbose_feature_names_out=False)\n"
   ]
  },
  {
   "cell_type": "code",
   "execution_count": null,
   "id": "704f4a5c",
   "metadata": {},
   "outputs": [],
   "source": [
    "\n",
    "# dropping interactions\n",
    "columns_to_drop = ['volatile_acidity chlorides', 'free_sulfur_dioxide residual_sugar', 'total_sulfur_dioxide residual_sugar',\n",
    "                   'citric_acid total_sulfur_dioxide', 'volatile_acidity total_sulfur_dioxide', 'total_sulfur_dioxide free_sulfur_dioxide']\n",
    "                   \n",
    "columns_to_drop.extend(['sulphates density', 'fixed_acidity residual_sugar',\n",
    "       'citric_acid residual_sugar', 'fixed_acidity alcohol',\n",
    "       'volatile_acidity residual_sugar', 'fixed_acidity sulphates',\n",
    "       'fixed_acidity chlorides', 'ph chlorides',\n",
    "       'citric_acid sulphates', 'chlorides residual_sugar',\n",
    "       'ph free_sulfur_dioxide', 'citric_acid chlorides',\n",
    "       'ph total_sulfur_dioxide', 'total_sulfur_dioxide sulphates',\n",
    "       'chlorides free_sulfur_dioxide', 'citric_acid density',\n",
    "       'fixed_acidity density', 'volatile_acidity citric_acid',\n",
    "       'volatile_acidity free_sulfur_dioxide', 'chlorides sulphates'])\n",
    "\n",
    "columns_to_drop.extend(['ph volatile_acidity',\n",
    "       'chlorides density', 'chlorides total_sulfur_dioxide',\n",
    "       'fixed_acidity total_sulfur_dioxide',\n",
    "       'total_sulfur_dioxide density', 'free_sulfur_dioxide sulphates',\n",
    "       'fixed_acidity citric_acid', 'sulphates residual_sugar',\n",
    "       'citric_acid alcohol', 'citric_acid free_sulfur_dioxide',\n",
    "       'ph citric_acid', 'fixed_acidity volatile_acidity',\n",
    "       'free_sulfur_dioxide alcohol', 'volatile_acidity sulphates'])\n",
    "\n",
    "columns_to_drop = np.unique(columns_to_drop)\n",
    "\n",
    "preprocessor_drop = ColumnTransformer(\n",
    "    transformers=[\n",
    "        ('column_dropper', 'drop', columns_to_drop)\n",
    "    ],\n",
    "    remainder='passthrough'\n",
    ")\n"
   ]
  },
  {
   "cell_type": "markdown",
   "id": "f6236e89",
   "metadata": {},
   "source": [
    "## Random Forest Classifier"
   ]
  },
  {
   "cell_type": "code",
   "execution_count": null,
   "id": "14fd819e",
   "metadata": {},
   "outputs": [],
   "source": [
    "\n",
    "pipe = Pipeline(steps=[\n",
    "    # ('preprocessor_log', preprocessor_log), # does not make a big difference\n",
    "    ('scale', RobustScaler()),\n",
    "    ('interactions', PolynomialFeatures(interaction_only=True, include_bias=False)),\n",
    "    # ('pca', PCA(n_components=20)),\n",
    "    ('drop_cols', preprocessor_drop),\n",
    "    ('undersampling', RandomUnderSampler(sampling_strategy=undersampling_strategy, random_state=RANDOM_STATE)),\n",
    "    ('oversampling', SMOTE(sampling_strategy=oversampling_strategy, random_state=RANDOM_STATE)),\n",
    "    # ('combinedsampling', SMOTEENN(sampling_strategy=oversampling_strategy, random_state=RANDOM_STATE)),\n",
    "    (\"classifier\", RandomForestClassifier(random_state=RANDOM_STATE, n_jobs=-1))\n",
    "    ])\n",
    "\n",
    "pipe.set_output(transform='pandas')\n",
    "\n",
    "pipe"
   ]
  },
  {
   "cell_type": "code",
   "execution_count": null,
   "id": "ae84e644",
   "metadata": {},
   "outputs": [
    {
     "ename": "TypeError",
     "evalue": "unhashable type: 'dict'",
     "output_type": "error",
     "traceback": [
      "\u001b[31m---------------------------------------------------------------------------\u001b[39m",
      "\u001b[31mTypeError\u001b[39m                                 Traceback (most recent call last)",
      "\u001b[36mCell\u001b[39m\u001b[36m \u001b[39m\u001b[32mIn[474]\u001b[39m\u001b[32m, line 48\u001b[39m\n\u001b[32m     45\u001b[39m \u001b[38;5;66;03m# Fit GridSearchCV to the training data\u001b[39;00m\n\u001b[32m     46\u001b[39m grid_search_rf.fit(X_train, y_train)\n\u001b[32m---> \u001b[39m\u001b[32m48\u001b[39m \u001b[38;5;28;01mif\u001b[39;00m \u001b[43mbest_params_rf\u001b[49m\u001b[43m \u001b[49m\u001b[38;5;129;43;01min\u001b[39;49;00m\u001b[43m \u001b[49m\u001b[38;5;28;43mglobals\u001b[39;49m\u001b[43m(\u001b[49m\u001b[43m)\u001b[49m:\n\u001b[32m     49\u001b[39m     best_params_rf_prev = best_params_rf\n\u001b[32m     50\u001b[39m     best_score_rf_prev = best_score_rf_prev\n",
      "\u001b[31mTypeError\u001b[39m: unhashable type: 'dict'"
     ]
    }
   ],
   "source": [
    "# Hyperparameter tuning for RandomForestClassifier\n",
    "\n",
    "# best params form previous runs\n",
    "best_params_rf = {'classifier__criterion': 'gini', \n",
    "                  'classifier__max_depth': None, \n",
    "                  'classifier__min_samples_leaf': 1, \n",
    "                  'classifier__min_samples_split': 3, \n",
    "                  'classifier__n_estimators': 200\n",
    "                  }\n",
    "\n",
    "if DO_GRIDSEARCH_RF:\n",
    "    param_grid_rf = {\n",
    "        'classifier__n_estimators': [100, 200, 500], # 1000\n",
    "        'classifier__max_depth': [None, 1000], # None\n",
    "        'classifier__min_samples_split': [2, 3, 5], # 2\n",
    "        'classifier__min_samples_leaf': [1, 3, 5], # 1\n",
    "        'classifier__criterion': ['gini']\n",
    "    }\n",
    "\n",
    "    # scorer = make_scorer(accuracy_score)\n",
    "    # scorer = make_scorer(lambda y_test, y_pred: f1_score(y_test, y_pred, average='weighted'))\n",
    "    scorer = make_scorer(lambda y_true, y_pred: recall_score(y_test, y_pred, average='weighted'))\n",
    "\n",
    "    cv = StratifiedKFold(n_splits=3)\n",
    "\n",
    "    grid_search_rf = GridSearchCV(pipe, param_grid_rf, cv=cv, scoring=scorer)\n",
    "\n",
    "    grid_search_rf.fit(X_train, y_train)\n",
    "\n",
    "    if best_params_rf:\n",
    "        best_params_rf_prev = best_params_rf\n",
    "        best_score_rf_prev = best_score_rf\n",
    "        print(\"Previous best parameters:\", best_params_rf_prev)\n",
    "        print(\"Previous best score:\", best_score_rf_prev)\n",
    "         \n",
    "    # Get the best parameters and the best score\n",
    "    best_params_rf = grid_search_rf.best_params_\n",
    "    best_score_rf = grid_search_rf.best_score_\n",
    "\n",
    "    print(\"Best parameters:\", best_params_rf)\n",
    "    print(\"Best score:\", best_score_rf)"
   ]
  },
  {
   "cell_type": "code",
   "execution_count": 479,
   "id": "b3ff5648",
   "metadata": {},
   "outputs": [],
   "source": [
    "# predict\n",
    "pipe[-1].set_params(**{key.replace('classifier__',''): val for key,val in best_params_rf.items()})\n",
    "pipe[-1].set_params(oob_score=True)\n",
    "pipe.fit(X_train, y_train)\n",
    "y_pred = pipe.predict(X_test)"
   ]
  },
  {
   "cell_type": "markdown",
   "id": "b96ce2ab",
   "metadata": {},
   "source": [
    "## SVC"
   ]
  },
  {
   "cell_type": "code",
   "execution_count": null,
   "id": "875e616c",
   "metadata": {},
   "outputs": [
    {
     "data": {
      "text/html": [
       "<style>#sk-container-id-40 {\n",
       "  /* Definition of color scheme common for light and dark mode */\n",
       "  --sklearn-color-text: #000;\n",
       "  --sklearn-color-text-muted: #666;\n",
       "  --sklearn-color-line: gray;\n",
       "  /* Definition of color scheme for unfitted estimators */\n",
       "  --sklearn-color-unfitted-level-0: #fff5e6;\n",
       "  --sklearn-color-unfitted-level-1: #f6e4d2;\n",
       "  --sklearn-color-unfitted-level-2: #ffe0b3;\n",
       "  --sklearn-color-unfitted-level-3: chocolate;\n",
       "  /* Definition of color scheme for fitted estimators */\n",
       "  --sklearn-color-fitted-level-0: #f0f8ff;\n",
       "  --sklearn-color-fitted-level-1: #d4ebff;\n",
       "  --sklearn-color-fitted-level-2: #b3dbfd;\n",
       "  --sklearn-color-fitted-level-3: cornflowerblue;\n",
       "\n",
       "  /* Specific color for light theme */\n",
       "  --sklearn-color-text-on-default-background: var(--sg-text-color, var(--theme-code-foreground, var(--jp-content-font-color1, black)));\n",
       "  --sklearn-color-background: var(--sg-background-color, var(--theme-background, var(--jp-layout-color0, white)));\n",
       "  --sklearn-color-border-box: var(--sg-text-color, var(--theme-code-foreground, var(--jp-content-font-color1, black)));\n",
       "  --sklearn-color-icon: #696969;\n",
       "\n",
       "  @media (prefers-color-scheme: dark) {\n",
       "    /* Redefinition of color scheme for dark theme */\n",
       "    --sklearn-color-text-on-default-background: var(--sg-text-color, var(--theme-code-foreground, var(--jp-content-font-color1, white)));\n",
       "    --sklearn-color-background: var(--sg-background-color, var(--theme-background, var(--jp-layout-color0, #111)));\n",
       "    --sklearn-color-border-box: var(--sg-text-color, var(--theme-code-foreground, var(--jp-content-font-color1, white)));\n",
       "    --sklearn-color-icon: #878787;\n",
       "  }\n",
       "}\n",
       "\n",
       "#sk-container-id-40 {\n",
       "  color: var(--sklearn-color-text);\n",
       "}\n",
       "\n",
       "#sk-container-id-40 pre {\n",
       "  padding: 0;\n",
       "}\n",
       "\n",
       "#sk-container-id-40 input.sk-hidden--visually {\n",
       "  border: 0;\n",
       "  clip: rect(1px 1px 1px 1px);\n",
       "  clip: rect(1px, 1px, 1px, 1px);\n",
       "  height: 1px;\n",
       "  margin: -1px;\n",
       "  overflow: hidden;\n",
       "  padding: 0;\n",
       "  position: absolute;\n",
       "  width: 1px;\n",
       "}\n",
       "\n",
       "#sk-container-id-40 div.sk-dashed-wrapped {\n",
       "  border: 1px dashed var(--sklearn-color-line);\n",
       "  margin: 0 0.4em 0.5em 0.4em;\n",
       "  box-sizing: border-box;\n",
       "  padding-bottom: 0.4em;\n",
       "  background-color: var(--sklearn-color-background);\n",
       "}\n",
       "\n",
       "#sk-container-id-40 div.sk-container {\n",
       "  /* jupyter's `normalize.less` sets `[hidden] { display: none; }`\n",
       "     but bootstrap.min.css set `[hidden] { display: none !important; }`\n",
       "     so we also need the `!important` here to be able to override the\n",
       "     default hidden behavior on the sphinx rendered scikit-learn.org.\n",
       "     See: https://github.com/scikit-learn/scikit-learn/issues/21755 */\n",
       "  display: inline-block !important;\n",
       "  position: relative;\n",
       "}\n",
       "\n",
       "#sk-container-id-40 div.sk-text-repr-fallback {\n",
       "  display: none;\n",
       "}\n",
       "\n",
       "div.sk-parallel-item,\n",
       "div.sk-serial,\n",
       "div.sk-item {\n",
       "  /* draw centered vertical line to link estimators */\n",
       "  background-image: linear-gradient(var(--sklearn-color-text-on-default-background), var(--sklearn-color-text-on-default-background));\n",
       "  background-size: 2px 100%;\n",
       "  background-repeat: no-repeat;\n",
       "  background-position: center center;\n",
       "}\n",
       "\n",
       "/* Parallel-specific style estimator block */\n",
       "\n",
       "#sk-container-id-40 div.sk-parallel-item::after {\n",
       "  content: \"\";\n",
       "  width: 100%;\n",
       "  border-bottom: 2px solid var(--sklearn-color-text-on-default-background);\n",
       "  flex-grow: 1;\n",
       "}\n",
       "\n",
       "#sk-container-id-40 div.sk-parallel {\n",
       "  display: flex;\n",
       "  align-items: stretch;\n",
       "  justify-content: center;\n",
       "  background-color: var(--sklearn-color-background);\n",
       "  position: relative;\n",
       "}\n",
       "\n",
       "#sk-container-id-40 div.sk-parallel-item {\n",
       "  display: flex;\n",
       "  flex-direction: column;\n",
       "}\n",
       "\n",
       "#sk-container-id-40 div.sk-parallel-item:first-child::after {\n",
       "  align-self: flex-end;\n",
       "  width: 50%;\n",
       "}\n",
       "\n",
       "#sk-container-id-40 div.sk-parallel-item:last-child::after {\n",
       "  align-self: flex-start;\n",
       "  width: 50%;\n",
       "}\n",
       "\n",
       "#sk-container-id-40 div.sk-parallel-item:only-child::after {\n",
       "  width: 0;\n",
       "}\n",
       "\n",
       "/* Serial-specific style estimator block */\n",
       "\n",
       "#sk-container-id-40 div.sk-serial {\n",
       "  display: flex;\n",
       "  flex-direction: column;\n",
       "  align-items: center;\n",
       "  background-color: var(--sklearn-color-background);\n",
       "  padding-right: 1em;\n",
       "  padding-left: 1em;\n",
       "}\n",
       "\n",
       "\n",
       "/* Toggleable style: style used for estimator/Pipeline/ColumnTransformer box that is\n",
       "clickable and can be expanded/collapsed.\n",
       "- Pipeline and ColumnTransformer use this feature and define the default style\n",
       "- Estimators will overwrite some part of the style using the `sk-estimator` class\n",
       "*/\n",
       "\n",
       "/* Pipeline and ColumnTransformer style (default) */\n",
       "\n",
       "#sk-container-id-40 div.sk-toggleable {\n",
       "  /* Default theme specific background. It is overwritten whether we have a\n",
       "  specific estimator or a Pipeline/ColumnTransformer */\n",
       "  background-color: var(--sklearn-color-background);\n",
       "}\n",
       "\n",
       "/* Toggleable label */\n",
       "#sk-container-id-40 label.sk-toggleable__label {\n",
       "  cursor: pointer;\n",
       "  display: flex;\n",
       "  width: 100%;\n",
       "  margin-bottom: 0;\n",
       "  padding: 0.5em;\n",
       "  box-sizing: border-box;\n",
       "  text-align: center;\n",
       "  align-items: start;\n",
       "  justify-content: space-between;\n",
       "  gap: 0.5em;\n",
       "}\n",
       "\n",
       "#sk-container-id-40 label.sk-toggleable__label .caption {\n",
       "  font-size: 0.6rem;\n",
       "  font-weight: lighter;\n",
       "  color: var(--sklearn-color-text-muted);\n",
       "}\n",
       "\n",
       "#sk-container-id-40 label.sk-toggleable__label-arrow:before {\n",
       "  /* Arrow on the left of the label */\n",
       "  content: \"▸\";\n",
       "  float: left;\n",
       "  margin-right: 0.25em;\n",
       "  color: var(--sklearn-color-icon);\n",
       "}\n",
       "\n",
       "#sk-container-id-40 label.sk-toggleable__label-arrow:hover:before {\n",
       "  color: var(--sklearn-color-text);\n",
       "}\n",
       "\n",
       "/* Toggleable content - dropdown */\n",
       "\n",
       "#sk-container-id-40 div.sk-toggleable__content {\n",
       "  max-height: 0;\n",
       "  max-width: 0;\n",
       "  overflow: hidden;\n",
       "  text-align: left;\n",
       "  /* unfitted */\n",
       "  background-color: var(--sklearn-color-unfitted-level-0);\n",
       "}\n",
       "\n",
       "#sk-container-id-40 div.sk-toggleable__content.fitted {\n",
       "  /* fitted */\n",
       "  background-color: var(--sklearn-color-fitted-level-0);\n",
       "}\n",
       "\n",
       "#sk-container-id-40 div.sk-toggleable__content pre {\n",
       "  margin: 0.2em;\n",
       "  border-radius: 0.25em;\n",
       "  color: var(--sklearn-color-text);\n",
       "  /* unfitted */\n",
       "  background-color: var(--sklearn-color-unfitted-level-0);\n",
       "}\n",
       "\n",
       "#sk-container-id-40 div.sk-toggleable__content.fitted pre {\n",
       "  /* unfitted */\n",
       "  background-color: var(--sklearn-color-fitted-level-0);\n",
       "}\n",
       "\n",
       "#sk-container-id-40 input.sk-toggleable__control:checked~div.sk-toggleable__content {\n",
       "  /* Expand drop-down */\n",
       "  max-height: 200px;\n",
       "  max-width: 100%;\n",
       "  overflow: auto;\n",
       "}\n",
       "\n",
       "#sk-container-id-40 input.sk-toggleable__control:checked~label.sk-toggleable__label-arrow:before {\n",
       "  content: \"▾\";\n",
       "}\n",
       "\n",
       "/* Pipeline/ColumnTransformer-specific style */\n",
       "\n",
       "#sk-container-id-40 div.sk-label input.sk-toggleable__control:checked~label.sk-toggleable__label {\n",
       "  color: var(--sklearn-color-text);\n",
       "  background-color: var(--sklearn-color-unfitted-level-2);\n",
       "}\n",
       "\n",
       "#sk-container-id-40 div.sk-label.fitted input.sk-toggleable__control:checked~label.sk-toggleable__label {\n",
       "  background-color: var(--sklearn-color-fitted-level-2);\n",
       "}\n",
       "\n",
       "/* Estimator-specific style */\n",
       "\n",
       "/* Colorize estimator box */\n",
       "#sk-container-id-40 div.sk-estimator input.sk-toggleable__control:checked~label.sk-toggleable__label {\n",
       "  /* unfitted */\n",
       "  background-color: var(--sklearn-color-unfitted-level-2);\n",
       "}\n",
       "\n",
       "#sk-container-id-40 div.sk-estimator.fitted input.sk-toggleable__control:checked~label.sk-toggleable__label {\n",
       "  /* fitted */\n",
       "  background-color: var(--sklearn-color-fitted-level-2);\n",
       "}\n",
       "\n",
       "#sk-container-id-40 div.sk-label label.sk-toggleable__label,\n",
       "#sk-container-id-40 div.sk-label label {\n",
       "  /* The background is the default theme color */\n",
       "  color: var(--sklearn-color-text-on-default-background);\n",
       "}\n",
       "\n",
       "/* On hover, darken the color of the background */\n",
       "#sk-container-id-40 div.sk-label:hover label.sk-toggleable__label {\n",
       "  color: var(--sklearn-color-text);\n",
       "  background-color: var(--sklearn-color-unfitted-level-2);\n",
       "}\n",
       "\n",
       "/* Label box, darken color on hover, fitted */\n",
       "#sk-container-id-40 div.sk-label.fitted:hover label.sk-toggleable__label.fitted {\n",
       "  color: var(--sklearn-color-text);\n",
       "  background-color: var(--sklearn-color-fitted-level-2);\n",
       "}\n",
       "\n",
       "/* Estimator label */\n",
       "\n",
       "#sk-container-id-40 div.sk-label label {\n",
       "  font-family: monospace;\n",
       "  font-weight: bold;\n",
       "  display: inline-block;\n",
       "  line-height: 1.2em;\n",
       "}\n",
       "\n",
       "#sk-container-id-40 div.sk-label-container {\n",
       "  text-align: center;\n",
       "}\n",
       "\n",
       "/* Estimator-specific */\n",
       "#sk-container-id-40 div.sk-estimator {\n",
       "  font-family: monospace;\n",
       "  border: 1px dotted var(--sklearn-color-border-box);\n",
       "  border-radius: 0.25em;\n",
       "  box-sizing: border-box;\n",
       "  margin-bottom: 0.5em;\n",
       "  /* unfitted */\n",
       "  background-color: var(--sklearn-color-unfitted-level-0);\n",
       "}\n",
       "\n",
       "#sk-container-id-40 div.sk-estimator.fitted {\n",
       "  /* fitted */\n",
       "  background-color: var(--sklearn-color-fitted-level-0);\n",
       "}\n",
       "\n",
       "/* on hover */\n",
       "#sk-container-id-40 div.sk-estimator:hover {\n",
       "  /* unfitted */\n",
       "  background-color: var(--sklearn-color-unfitted-level-2);\n",
       "}\n",
       "\n",
       "#sk-container-id-40 div.sk-estimator.fitted:hover {\n",
       "  /* fitted */\n",
       "  background-color: var(--sklearn-color-fitted-level-2);\n",
       "}\n",
       "\n",
       "/* Specification for estimator info (e.g. \"i\" and \"?\") */\n",
       "\n",
       "/* Common style for \"i\" and \"?\" */\n",
       "\n",
       ".sk-estimator-doc-link,\n",
       "a:link.sk-estimator-doc-link,\n",
       "a:visited.sk-estimator-doc-link {\n",
       "  float: right;\n",
       "  font-size: smaller;\n",
       "  line-height: 1em;\n",
       "  font-family: monospace;\n",
       "  background-color: var(--sklearn-color-background);\n",
       "  border-radius: 1em;\n",
       "  height: 1em;\n",
       "  width: 1em;\n",
       "  text-decoration: none !important;\n",
       "  margin-left: 0.5em;\n",
       "  text-align: center;\n",
       "  /* unfitted */\n",
       "  border: var(--sklearn-color-unfitted-level-1) 1pt solid;\n",
       "  color: var(--sklearn-color-unfitted-level-1);\n",
       "}\n",
       "\n",
       ".sk-estimator-doc-link.fitted,\n",
       "a:link.sk-estimator-doc-link.fitted,\n",
       "a:visited.sk-estimator-doc-link.fitted {\n",
       "  /* fitted */\n",
       "  border: var(--sklearn-color-fitted-level-1) 1pt solid;\n",
       "  color: var(--sklearn-color-fitted-level-1);\n",
       "}\n",
       "\n",
       "/* On hover */\n",
       "div.sk-estimator:hover .sk-estimator-doc-link:hover,\n",
       ".sk-estimator-doc-link:hover,\n",
       "div.sk-label-container:hover .sk-estimator-doc-link:hover,\n",
       ".sk-estimator-doc-link:hover {\n",
       "  /* unfitted */\n",
       "  background-color: var(--sklearn-color-unfitted-level-3);\n",
       "  color: var(--sklearn-color-background);\n",
       "  text-decoration: none;\n",
       "}\n",
       "\n",
       "div.sk-estimator.fitted:hover .sk-estimator-doc-link.fitted:hover,\n",
       ".sk-estimator-doc-link.fitted:hover,\n",
       "div.sk-label-container:hover .sk-estimator-doc-link.fitted:hover,\n",
       ".sk-estimator-doc-link.fitted:hover {\n",
       "  /* fitted */\n",
       "  background-color: var(--sklearn-color-fitted-level-3);\n",
       "  color: var(--sklearn-color-background);\n",
       "  text-decoration: none;\n",
       "}\n",
       "\n",
       "/* Span, style for the box shown on hovering the info icon */\n",
       ".sk-estimator-doc-link span {\n",
       "  display: none;\n",
       "  z-index: 9999;\n",
       "  position: relative;\n",
       "  font-weight: normal;\n",
       "  right: .2ex;\n",
       "  padding: .5ex;\n",
       "  margin: .5ex;\n",
       "  width: min-content;\n",
       "  min-width: 20ex;\n",
       "  max-width: 50ex;\n",
       "  color: var(--sklearn-color-text);\n",
       "  box-shadow: 2pt 2pt 4pt #999;\n",
       "  /* unfitted */\n",
       "  background: var(--sklearn-color-unfitted-level-0);\n",
       "  border: .5pt solid var(--sklearn-color-unfitted-level-3);\n",
       "}\n",
       "\n",
       ".sk-estimator-doc-link.fitted span {\n",
       "  /* fitted */\n",
       "  background: var(--sklearn-color-fitted-level-0);\n",
       "  border: var(--sklearn-color-fitted-level-3);\n",
       "}\n",
       "\n",
       ".sk-estimator-doc-link:hover span {\n",
       "  display: block;\n",
       "}\n",
       "\n",
       "/* \"?\"-specific style due to the `<a>` HTML tag */\n",
       "\n",
       "#sk-container-id-40 a.estimator_doc_link {\n",
       "  float: right;\n",
       "  font-size: 1rem;\n",
       "  line-height: 1em;\n",
       "  font-family: monospace;\n",
       "  background-color: var(--sklearn-color-background);\n",
       "  border-radius: 1rem;\n",
       "  height: 1rem;\n",
       "  width: 1rem;\n",
       "  text-decoration: none;\n",
       "  /* unfitted */\n",
       "  color: var(--sklearn-color-unfitted-level-1);\n",
       "  border: var(--sklearn-color-unfitted-level-1) 1pt solid;\n",
       "}\n",
       "\n",
       "#sk-container-id-40 a.estimator_doc_link.fitted {\n",
       "  /* fitted */\n",
       "  border: var(--sklearn-color-fitted-level-1) 1pt solid;\n",
       "  color: var(--sklearn-color-fitted-level-1);\n",
       "}\n",
       "\n",
       "/* On hover */\n",
       "#sk-container-id-40 a.estimator_doc_link:hover {\n",
       "  /* unfitted */\n",
       "  background-color: var(--sklearn-color-unfitted-level-3);\n",
       "  color: var(--sklearn-color-background);\n",
       "  text-decoration: none;\n",
       "}\n",
       "\n",
       "#sk-container-id-40 a.estimator_doc_link.fitted:hover {\n",
       "  /* fitted */\n",
       "  background-color: var(--sklearn-color-fitted-level-3);\n",
       "}\n",
       "</style><div id=\"sk-container-id-40\" class=\"sk-top-container\"><div class=\"sk-text-repr-fallback\"><pre>Pipeline(steps=[(&#x27;scaler&#x27;, RobustScaler()),\n",
       "                (&#x27;interactions&#x27;,\n",
       "                 PolynomialFeatures(include_bias=False, interaction_only=True)),\n",
       "                (&#x27;drop_cols&#x27;,\n",
       "                 ColumnTransformer(remainder=&#x27;passthrough&#x27;,\n",
       "                                   transformers=[(&#x27;column_dropper&#x27;, &#x27;drop&#x27;,\n",
       "                                                  array([&#x27;chlorides density&#x27;, &#x27;chlorides free_sulfur_dioxide&#x27;,\n",
       "       &#x27;chlorides residual_sugar&#x27;, &#x27;chlorides sulphates&#x27;,\n",
       "       &#x27;chlorides total_sulfur_dioxide&#x27;,...\n",
       "       &#x27;volatile_acidity free_sulfur_dioxide&#x27;,\n",
       "       &#x27;volatile_acidity residual_sugar&#x27;, &#x27;volatile_acidity sulphates&#x27;,\n",
       "       &#x27;volatile_acidity total_sulfur_dioxide&#x27;], dtype=&#x27;&lt;U40&#x27;))])),\n",
       "                (&#x27;undersampling&#x27;,\n",
       "                 RandomUnderSampler(random_state=42,\n",
       "                                    sampling_strategy=&lt;function calc_undersampling_startegy at 0x0000016999103380&gt;)),\n",
       "                (&#x27;oversampling&#x27;, SMOTE(random_state=42)),\n",
       "                (&#x27;classifier&#x27;, SVC(random_state=42))])</pre><b>In a Jupyter environment, please rerun this cell to show the HTML representation or trust the notebook. <br />On GitHub, the HTML representation is unable to render, please try loading this page with nbviewer.org.</b></div><div class=\"sk-container\" hidden><div class=\"sk-item sk-dashed-wrapped\"><div class=\"sk-label-container\"><div class=\"sk-label  sk-toggleable\"><input class=\"sk-toggleable__control sk-hidden--visually\" id=\"sk-estimator-id-406\" type=\"checkbox\" ><label for=\"sk-estimator-id-406\" class=\"sk-toggleable__label  sk-toggleable__label-arrow\"><div><div>Pipeline</div></div><div><span class=\"sk-estimator-doc-link \">i<span>Not fitted</span></span></div></label><div class=\"sk-toggleable__content \"><pre>Pipeline(steps=[(&#x27;scaler&#x27;, RobustScaler()),\n",
       "                (&#x27;interactions&#x27;,\n",
       "                 PolynomialFeatures(include_bias=False, interaction_only=True)),\n",
       "                (&#x27;drop_cols&#x27;,\n",
       "                 ColumnTransformer(remainder=&#x27;passthrough&#x27;,\n",
       "                                   transformers=[(&#x27;column_dropper&#x27;, &#x27;drop&#x27;,\n",
       "                                                  array([&#x27;chlorides density&#x27;, &#x27;chlorides free_sulfur_dioxide&#x27;,\n",
       "       &#x27;chlorides residual_sugar&#x27;, &#x27;chlorides sulphates&#x27;,\n",
       "       &#x27;chlorides total_sulfur_dioxide&#x27;,...\n",
       "       &#x27;volatile_acidity free_sulfur_dioxide&#x27;,\n",
       "       &#x27;volatile_acidity residual_sugar&#x27;, &#x27;volatile_acidity sulphates&#x27;,\n",
       "       &#x27;volatile_acidity total_sulfur_dioxide&#x27;], dtype=&#x27;&lt;U40&#x27;))])),\n",
       "                (&#x27;undersampling&#x27;,\n",
       "                 RandomUnderSampler(random_state=42,\n",
       "                                    sampling_strategy=&lt;function calc_undersampling_startegy at 0x0000016999103380&gt;)),\n",
       "                (&#x27;oversampling&#x27;, SMOTE(random_state=42)),\n",
       "                (&#x27;classifier&#x27;, SVC(random_state=42))])</pre></div> </div></div><div class=\"sk-serial\"><div class=\"sk-item\"><div class=\"sk-estimator  sk-toggleable\"><input class=\"sk-toggleable__control sk-hidden--visually\" id=\"sk-estimator-id-407\" type=\"checkbox\" ><label for=\"sk-estimator-id-407\" class=\"sk-toggleable__label  sk-toggleable__label-arrow\"><div><div>RobustScaler</div></div><div><a class=\"sk-estimator-doc-link \" rel=\"noreferrer\" target=\"_blank\" href=\"https://scikit-learn.org/1.6/modules/generated/sklearn.preprocessing.RobustScaler.html\">?<span>Documentation for RobustScaler</span></a></div></label><div class=\"sk-toggleable__content \"><pre>RobustScaler()</pre></div> </div></div><div class=\"sk-item\"><div class=\"sk-estimator  sk-toggleable\"><input class=\"sk-toggleable__control sk-hidden--visually\" id=\"sk-estimator-id-408\" type=\"checkbox\" ><label for=\"sk-estimator-id-408\" class=\"sk-toggleable__label  sk-toggleable__label-arrow\"><div><div>PolynomialFeatures</div></div><div><a class=\"sk-estimator-doc-link \" rel=\"noreferrer\" target=\"_blank\" href=\"https://scikit-learn.org/1.6/modules/generated/sklearn.preprocessing.PolynomialFeatures.html\">?<span>Documentation for PolynomialFeatures</span></a></div></label><div class=\"sk-toggleable__content \"><pre>PolynomialFeatures(include_bias=False, interaction_only=True)</pre></div> </div></div><div class=\"sk-item sk-dashed-wrapped\"><div class=\"sk-label-container\"><div class=\"sk-label  sk-toggleable\"><input class=\"sk-toggleable__control sk-hidden--visually\" id=\"sk-estimator-id-409\" type=\"checkbox\" ><label for=\"sk-estimator-id-409\" class=\"sk-toggleable__label  sk-toggleable__label-arrow\"><div><div>drop_cols: ColumnTransformer</div></div><div><a class=\"sk-estimator-doc-link \" rel=\"noreferrer\" target=\"_blank\" href=\"https://scikit-learn.org/1.6/modules/generated/sklearn.compose.ColumnTransformer.html\">?<span>Documentation for drop_cols: ColumnTransformer</span></a></div></label><div class=\"sk-toggleable__content \"><pre>ColumnTransformer(remainder=&#x27;passthrough&#x27;,\n",
       "                  transformers=[(&#x27;column_dropper&#x27;, &#x27;drop&#x27;,\n",
       "                                 array([&#x27;chlorides density&#x27;, &#x27;chlorides free_sulfur_dioxide&#x27;,\n",
       "       &#x27;chlorides residual_sugar&#x27;, &#x27;chlorides sulphates&#x27;,\n",
       "       &#x27;chlorides total_sulfur_dioxide&#x27;, &#x27;citric_acid alcohol&#x27;,\n",
       "       &#x27;citric_acid chlorides&#x27;, &#x27;citric_acid density&#x27;,\n",
       "       &#x27;citric_acid free_sulfur_dioxide&#x27;, &#x27;citric_acid residual_sugar&#x27;,\n",
       "       &#x27;citric...\n",
       "       &#x27;sulphates residual_sugar&#x27;, &#x27;total_sulfur_dioxide density&#x27;,\n",
       "       &#x27;total_sulfur_dioxide free_sulfur_dioxide&#x27;,\n",
       "       &#x27;total_sulfur_dioxide residual_sugar&#x27;,\n",
       "       &#x27;total_sulfur_dioxide sulphates&#x27;, &#x27;volatile_acidity chlorides&#x27;,\n",
       "       &#x27;volatile_acidity citric_acid&#x27;,\n",
       "       &#x27;volatile_acidity free_sulfur_dioxide&#x27;,\n",
       "       &#x27;volatile_acidity residual_sugar&#x27;, &#x27;volatile_acidity sulphates&#x27;,\n",
       "       &#x27;volatile_acidity total_sulfur_dioxide&#x27;], dtype=&#x27;&lt;U40&#x27;))])</pre></div> </div></div><div class=\"sk-parallel\"><div class=\"sk-parallel-item\"><div class=\"sk-item\"><div class=\"sk-label-container\"><div class=\"sk-label  sk-toggleable\"><input class=\"sk-toggleable__control sk-hidden--visually\" id=\"sk-estimator-id-410\" type=\"checkbox\" ><label for=\"sk-estimator-id-410\" class=\"sk-toggleable__label  sk-toggleable__label-arrow\"><div><div>column_dropper</div></div></label><div class=\"sk-toggleable__content \"><pre>[&#x27;chlorides density&#x27; &#x27;chlorides free_sulfur_dioxide&#x27;\n",
       " &#x27;chlorides residual_sugar&#x27; &#x27;chlorides sulphates&#x27;\n",
       " &#x27;chlorides total_sulfur_dioxide&#x27; &#x27;citric_acid alcohol&#x27;\n",
       " &#x27;citric_acid chlorides&#x27; &#x27;citric_acid density&#x27;\n",
       " &#x27;citric_acid free_sulfur_dioxide&#x27; &#x27;citric_acid residual_sugar&#x27;\n",
       " &#x27;citric_acid sulphates&#x27; &#x27;citric_acid total_sulfur_dioxide&#x27;\n",
       " &#x27;fixed_acidity alcohol&#x27; &#x27;fixed_acidity chlorides&#x27;\n",
       " &#x27;fixed_acidity citric_acid&#x27; &#x27;fixed_acidity density&#x27;\n",
       " &#x27;fixed_acidity residual_sugar&#x27; &#x27;fixed_acidity sulphates&#x27;\n",
       " &#x27;fixed_acidity total_sulfur_dioxide&#x27; &#x27;fixed_acidity volatile_acidity&#x27;\n",
       " &#x27;free_sulfur_dioxide alcohol&#x27; &#x27;free_sulfur_dioxide residual_sugar&#x27;\n",
       " &#x27;free_sulfur_dioxide sulphates&#x27; &#x27;ph chlorides&#x27; &#x27;ph citric_acid&#x27;\n",
       " &#x27;ph free_sulfur_dioxide&#x27; &#x27;ph total_sulfur_dioxide&#x27; &#x27;ph volatile_acidity&#x27;\n",
       " &#x27;sulphates density&#x27; &#x27;sulphates residual_sugar&#x27;\n",
       " &#x27;total_sulfur_dioxide density&#x27; &#x27;total_sulfur_dioxide free_sulfur_dioxide&#x27;\n",
       " &#x27;total_sulfur_dioxide residual_sugar&#x27; &#x27;total_sulfur_dioxide sulphates&#x27;\n",
       " &#x27;volatile_acidity chlorides&#x27; &#x27;volatile_acidity citric_acid&#x27;\n",
       " &#x27;volatile_acidity free_sulfur_dioxide&#x27; &#x27;volatile_acidity residual_sugar&#x27;\n",
       " &#x27;volatile_acidity sulphates&#x27; &#x27;volatile_acidity total_sulfur_dioxide&#x27;]</pre></div> </div></div><div class=\"sk-serial\"><div class=\"sk-item\"><div class=\"sk-estimator  sk-toggleable\"><input class=\"sk-toggleable__control sk-hidden--visually\" id=\"sk-estimator-id-411\" type=\"checkbox\" ><label for=\"sk-estimator-id-411\" class=\"sk-toggleable__label  sk-toggleable__label-arrow\"><div><div>drop</div></div></label><div class=\"sk-toggleable__content \"><pre>drop</pre></div> </div></div></div></div></div><div class=\"sk-parallel-item\"><div class=\"sk-item\"><div class=\"sk-label-container\"><div class=\"sk-label  sk-toggleable\"><input class=\"sk-toggleable__control sk-hidden--visually\" id=\"sk-estimator-id-412\" type=\"checkbox\" ><label for=\"sk-estimator-id-412\" class=\"sk-toggleable__label  sk-toggleable__label-arrow\"><div><div>remainder</div></div></label><div class=\"sk-toggleable__content \"><pre>[&#x27;ph&#x27;, &#x27;fixed_acidity&#x27;, &#x27;volatile_acidity&#x27;, &#x27;citric_acid&#x27;, &#x27;chlorides&#x27;, &#x27;total_sulfur_dioxide&#x27;, &#x27;free_sulfur_dioxide&#x27;, &#x27;sulphates&#x27;, &#x27;residual_sugar&#x27;, &#x27;density&#x27;, &#x27;alcohol&#x27;, &#x27;ph fixed_acidity&#x27;, &#x27;ph sulphates&#x27;, &#x27;ph residual_sugar&#x27;, &#x27;ph density&#x27;, &#x27;ph alcohol&#x27;, &#x27;fixed_acidity free_sulfur_dioxide&#x27;, &#x27;volatile_acidity density&#x27;, &#x27;volatile_acidity alcohol&#x27;, &#x27;chlorides alcohol&#x27;, &#x27;total_sulfur_dioxide alcohol&#x27;, &#x27;free_sulfur_dioxide density&#x27;, &#x27;sulphates alcohol&#x27;, &#x27;residual_sugar density&#x27;, &#x27;residual_sugar alcohol&#x27;, &#x27;density alcohol&#x27;]</pre></div> </div></div><div class=\"sk-serial\"><div class=\"sk-item\"><div class=\"sk-estimator  sk-toggleable\"><input class=\"sk-toggleable__control sk-hidden--visually\" id=\"sk-estimator-id-413\" type=\"checkbox\" ><label for=\"sk-estimator-id-413\" class=\"sk-toggleable__label  sk-toggleable__label-arrow\"><div><div>passthrough</div></div></label><div class=\"sk-toggleable__content \"><pre>passthrough</pre></div> </div></div></div></div></div></div></div><div class=\"sk-item\"><div class=\"sk-estimator  sk-toggleable\"><input class=\"sk-toggleable__control sk-hidden--visually\" id=\"sk-estimator-id-414\" type=\"checkbox\" ><label for=\"sk-estimator-id-414\" class=\"sk-toggleable__label  sk-toggleable__label-arrow\"><div><div>RandomUnderSampler</div></div></label><div class=\"sk-toggleable__content \"><pre>RandomUnderSampler(random_state=42,\n",
       "                   sampling_strategy=&lt;function calc_undersampling_startegy at 0x0000016999103380&gt;)</pre></div> </div></div><div class=\"sk-item\"><div class=\"sk-estimator  sk-toggleable\"><input class=\"sk-toggleable__control sk-hidden--visually\" id=\"sk-estimator-id-415\" type=\"checkbox\" ><label for=\"sk-estimator-id-415\" class=\"sk-toggleable__label  sk-toggleable__label-arrow\"><div><div>SMOTE</div></div></label><div class=\"sk-toggleable__content \"><pre>SMOTE(random_state=42)</pre></div> </div></div><div class=\"sk-item\"><div class=\"sk-estimator  sk-toggleable\"><input class=\"sk-toggleable__control sk-hidden--visually\" id=\"sk-estimator-id-416\" type=\"checkbox\" ><label for=\"sk-estimator-id-416\" class=\"sk-toggleable__label  sk-toggleable__label-arrow\"><div><div>SVC</div></div><div><a class=\"sk-estimator-doc-link \" rel=\"noreferrer\" target=\"_blank\" href=\"https://scikit-learn.org/1.6/modules/generated/sklearn.svm.SVC.html\">?<span>Documentation for SVC</span></a></div></label><div class=\"sk-toggleable__content \"><pre>SVC(random_state=42)</pre></div> </div></div></div></div></div></div>"
      ],
      "text/plain": [
       "Pipeline(steps=[('scaler', RobustScaler()),\n",
       "                ('interactions',\n",
       "                 PolynomialFeatures(include_bias=False, interaction_only=True)),\n",
       "                ('drop_cols',\n",
       "                 ColumnTransformer(remainder='passthrough',\n",
       "                                   transformers=[('column_dropper', 'drop',\n",
       "                                                  array(['chlorides density', 'chlorides free_sulfur_dioxide',\n",
       "       'chlorides residual_sugar', 'chlorides sulphates',\n",
       "       'chlorides total_sulfur_dioxide',...\n",
       "       'volatile_acidity free_sulfur_dioxide',\n",
       "       'volatile_acidity residual_sugar', 'volatile_acidity sulphates',\n",
       "       'volatile_acidity total_sulfur_dioxide'], dtype='<U40'))])),\n",
       "                ('undersampling',\n",
       "                 RandomUnderSampler(random_state=42,\n",
       "                                    sampling_strategy=<function calc_undersampling_startegy at 0x0000016999103380>)),\n",
       "                ('oversampling', SMOTE(random_state=42)),\n",
       "                ('classifier', SVC(random_state=42))])"
      ]
     },
     "execution_count": 522,
     "metadata": {},
     "output_type": "execute_result"
    }
   ],
   "source": [
    "# Build Pipeline SVC\n",
    "pipe_svc = Pipeline(steps=[\n",
    "    (\"scaler\", RobustScaler()),\n",
    "    ('interactions', PolynomialFeatures(interaction_only=True, include_bias=False)),\n",
    "    ('drop_cols', preprocessor_drop),\n",
    "    ('undersampling', RandomUnderSampler(sampling_strategy=undersampling_strategy, random_state=RANDOM_STATE)),\n",
    "    ('oversampling', SMOTE(sampling_strategy=oversampling_strategy, random_state=RANDOM_STATE)),\n",
    "    ('classifier', SVC(random_state=RANDOM_STATE))\n",
    "    ])\n",
    "\n",
    "pipe_svc.set_output(transform='pandas')\n",
    "\n",
    "pipe_svc"
   ]
  },
  {
   "cell_type": "code",
   "execution_count": 523,
   "id": "64661373",
   "metadata": {},
   "outputs": [
    {
     "name": "stderr",
     "output_type": "stream",
     "text": [
      "c:\\Users\\olive\\anaconda3\\envs\\base_data_analysis\\Lib\\site-packages\\sklearn\\svm\\_base.py:305: ConvergenceWarning: Solver terminated early (max_iter=1000).  Consider pre-processing your data with StandardScaler or MinMaxScaler.\n",
      "  warnings.warn(\n",
      "c:\\Users\\olive\\anaconda3\\envs\\base_data_analysis\\Lib\\site-packages\\sklearn\\svm\\_base.py:305: ConvergenceWarning: Solver terminated early (max_iter=1000).  Consider pre-processing your data with StandardScaler or MinMaxScaler.\n",
      "  warnings.warn(\n",
      "c:\\Users\\olive\\anaconda3\\envs\\base_data_analysis\\Lib\\site-packages\\sklearn\\svm\\_base.py:305: ConvergenceWarning: Solver terminated early (max_iter=1000).  Consider pre-processing your data with StandardScaler or MinMaxScaler.\n",
      "  warnings.warn(\n",
      "c:\\Users\\olive\\anaconda3\\envs\\base_data_analysis\\Lib\\site-packages\\sklearn\\svm\\_base.py:305: ConvergenceWarning: Solver terminated early (max_iter=1000).  Consider pre-processing your data with StandardScaler or MinMaxScaler.\n",
      "  warnings.warn(\n",
      "c:\\Users\\olive\\anaconda3\\envs\\base_data_analysis\\Lib\\site-packages\\sklearn\\svm\\_base.py:305: ConvergenceWarning: Solver terminated early (max_iter=1000).  Consider pre-processing your data with StandardScaler or MinMaxScaler.\n",
      "  warnings.warn(\n",
      "c:\\Users\\olive\\anaconda3\\envs\\base_data_analysis\\Lib\\site-packages\\sklearn\\svm\\_base.py:305: ConvergenceWarning: Solver terminated early (max_iter=1000).  Consider pre-processing your data with StandardScaler or MinMaxScaler.\n",
      "  warnings.warn(\n",
      "c:\\Users\\olive\\anaconda3\\envs\\base_data_analysis\\Lib\\site-packages\\sklearn\\svm\\_base.py:305: ConvergenceWarning: Solver terminated early (max_iter=1000).  Consider pre-processing your data with StandardScaler or MinMaxScaler.\n",
      "  warnings.warn(\n",
      "c:\\Users\\olive\\anaconda3\\envs\\base_data_analysis\\Lib\\site-packages\\sklearn\\svm\\_base.py:305: ConvergenceWarning: Solver terminated early (max_iter=1000).  Consider pre-processing your data with StandardScaler or MinMaxScaler.\n",
      "  warnings.warn(\n",
      "c:\\Users\\olive\\anaconda3\\envs\\base_data_analysis\\Lib\\site-packages\\sklearn\\svm\\_base.py:305: ConvergenceWarning: Solver terminated early (max_iter=1000).  Consider pre-processing your data with StandardScaler or MinMaxScaler.\n",
      "  warnings.warn(\n",
      "c:\\Users\\olive\\anaconda3\\envs\\base_data_analysis\\Lib\\site-packages\\sklearn\\svm\\_base.py:305: ConvergenceWarning: Solver terminated early (max_iter=1000).  Consider pre-processing your data with StandardScaler or MinMaxScaler.\n",
      "  warnings.warn(\n",
      "c:\\Users\\olive\\anaconda3\\envs\\base_data_analysis\\Lib\\site-packages\\sklearn\\svm\\_base.py:305: ConvergenceWarning: Solver terminated early (max_iter=5000).  Consider pre-processing your data with StandardScaler or MinMaxScaler.\n",
      "  warnings.warn(\n",
      "c:\\Users\\olive\\anaconda3\\envs\\base_data_analysis\\Lib\\site-packages\\sklearn\\svm\\_base.py:305: ConvergenceWarning: Solver terminated early (max_iter=5000).  Consider pre-processing your data with StandardScaler or MinMaxScaler.\n",
      "  warnings.warn(\n",
      "c:\\Users\\olive\\anaconda3\\envs\\base_data_analysis\\Lib\\site-packages\\sklearn\\svm\\_base.py:305: ConvergenceWarning: Solver terminated early (max_iter=5000).  Consider pre-processing your data with StandardScaler or MinMaxScaler.\n",
      "  warnings.warn(\n",
      "c:\\Users\\olive\\anaconda3\\envs\\base_data_analysis\\Lib\\site-packages\\sklearn\\svm\\_base.py:305: ConvergenceWarning: Solver terminated early (max_iter=5000).  Consider pre-processing your data with StandardScaler or MinMaxScaler.\n",
      "  warnings.warn(\n",
      "c:\\Users\\olive\\anaconda3\\envs\\base_data_analysis\\Lib\\site-packages\\sklearn\\svm\\_base.py:305: ConvergenceWarning: Solver terminated early (max_iter=5000).  Consider pre-processing your data with StandardScaler or MinMaxScaler.\n",
      "  warnings.warn(\n",
      "c:\\Users\\olive\\anaconda3\\envs\\base_data_analysis\\Lib\\site-packages\\sklearn\\svm\\_base.py:305: ConvergenceWarning: Solver terminated early (max_iter=1000).  Consider pre-processing your data with StandardScaler or MinMaxScaler.\n",
      "  warnings.warn(\n",
      "c:\\Users\\olive\\anaconda3\\envs\\base_data_analysis\\Lib\\site-packages\\sklearn\\svm\\_base.py:305: ConvergenceWarning: Solver terminated early (max_iter=1000).  Consider pre-processing your data with StandardScaler or MinMaxScaler.\n",
      "  warnings.warn(\n",
      "c:\\Users\\olive\\anaconda3\\envs\\base_data_analysis\\Lib\\site-packages\\sklearn\\svm\\_base.py:305: ConvergenceWarning: Solver terminated early (max_iter=1000).  Consider pre-processing your data with StandardScaler or MinMaxScaler.\n",
      "  warnings.warn(\n",
      "c:\\Users\\olive\\anaconda3\\envs\\base_data_analysis\\Lib\\site-packages\\sklearn\\svm\\_base.py:305: ConvergenceWarning: Solver terminated early (max_iter=1000).  Consider pre-processing your data with StandardScaler or MinMaxScaler.\n",
      "  warnings.warn(\n",
      "c:\\Users\\olive\\anaconda3\\envs\\base_data_analysis\\Lib\\site-packages\\sklearn\\svm\\_base.py:305: ConvergenceWarning: Solver terminated early (max_iter=1000).  Consider pre-processing your data with StandardScaler or MinMaxScaler.\n",
      "  warnings.warn(\n",
      "c:\\Users\\olive\\anaconda3\\envs\\base_data_analysis\\Lib\\site-packages\\sklearn\\svm\\_base.py:305: ConvergenceWarning: Solver terminated early (max_iter=5000).  Consider pre-processing your data with StandardScaler or MinMaxScaler.\n",
      "  warnings.warn(\n",
      "c:\\Users\\olive\\anaconda3\\envs\\base_data_analysis\\Lib\\site-packages\\sklearn\\svm\\_base.py:305: ConvergenceWarning: Solver terminated early (max_iter=5000).  Consider pre-processing your data with StandardScaler or MinMaxScaler.\n",
      "  warnings.warn(\n",
      "c:\\Users\\olive\\anaconda3\\envs\\base_data_analysis\\Lib\\site-packages\\sklearn\\svm\\_base.py:305: ConvergenceWarning: Solver terminated early (max_iter=5000).  Consider pre-processing your data with StandardScaler or MinMaxScaler.\n",
      "  warnings.warn(\n",
      "c:\\Users\\olive\\anaconda3\\envs\\base_data_analysis\\Lib\\site-packages\\sklearn\\svm\\_base.py:305: ConvergenceWarning: Solver terminated early (max_iter=5000).  Consider pre-processing your data with StandardScaler or MinMaxScaler.\n",
      "  warnings.warn(\n",
      "c:\\Users\\olive\\anaconda3\\envs\\base_data_analysis\\Lib\\site-packages\\sklearn\\svm\\_base.py:305: ConvergenceWarning: Solver terminated early (max_iter=5000).  Consider pre-processing your data with StandardScaler or MinMaxScaler.\n",
      "  warnings.warn(\n"
     ]
    },
    {
     "name": "stdout",
     "output_type": "stream",
     "text": [
      "Best parameters for RandomForestClassifier: {'classifier__C': 10, 'classifier__degree': 3, 'classifier__gamma': 'scale', 'classifier__kernel': 'rbf', 'classifier__max_iter': 1000}\n",
      "Best score: 0.4897080593916203\n"
     ]
    },
    {
     "name": "stderr",
     "output_type": "stream",
     "text": [
      "c:\\Users\\olive\\anaconda3\\envs\\base_data_analysis\\Lib\\site-packages\\sklearn\\svm\\_base.py:305: ConvergenceWarning: Solver terminated early (max_iter=1000).  Consider pre-processing your data with StandardScaler or MinMaxScaler.\n",
      "  warnings.warn(\n"
     ]
    }
   ],
   "source": [
    "# Hyperparameter tuning\n",
    "best_params_svc = {\n",
    "    'classifier__C': 5.0, \n",
    "    'classifier__degree': 3, \n",
    "    'classifier__gamma': 'scale', \n",
    "    'classifier__kernel': 'rbf', \n",
    "    'classifier__max_iter': 5000\n",
    "    }\n",
    "\n",
    "if DO_GRIDSEARCH_SVC:\n",
    "    # Define the parameter grid\n",
    "    param_grid_svc = {\n",
    "        'classifier__C': [5.0, 10, 20],\n",
    "        'classifier__max_iter': [1000, 5000],\n",
    "        'classifier__degree': [3],\n",
    "        'classifier__gamma': ['scale'],\n",
    "        'classifier__kernel': ['rbf'],\n",
    "    }\n",
    "\n",
    "    # Create a scorer object from your custom function\n",
    "    # scorer = make_scorer(f1_score_class_high)\n",
    "    # scorer = make_scorer(accuracy_score)\n",
    "    scorer = make_scorer(lambda y_true, y_pred: f1_score(y_true, y_pred, average='weighted'))\n",
    "    scorer = make_scorer(lambda y_true, y_pred: f1_score(y_true, y_pred, average='weighted'))\n",
    "\n",
    "    cv = StratifiedKFold(n_splits=5)\n",
    "\n",
    "    grid_search_svc = GridSearchCV(pipe_svc, param_grid_svc, cv=cv, scoring=scorer)\n",
    "\n",
    "    # Fit GridSearchCV to the training data\n",
    "    grid_search_svc.fit(X_train, y_train)\n",
    "\n",
    "    # Get the best parameters and the best score\n",
    "    best_params_svc = grid_search_svc.best_params_\n",
    "    best_score_svc = grid_search_svc.best_score_\n",
    "\n",
    "    print(\"Best parameters for RandomForestClassifier:\", best_params_svc)\n",
    "    print(\"Best score:\", best_score_svc)"
   ]
  },
  {
   "cell_type": "code",
   "execution_count": 524,
   "id": "3167d92a",
   "metadata": {},
   "outputs": [
    {
     "name": "stderr",
     "output_type": "stream",
     "text": [
      "c:\\Users\\olive\\anaconda3\\envs\\base_data_analysis\\Lib\\site-packages\\sklearn\\svm\\_base.py:305: ConvergenceWarning: Solver terminated early (max_iter=1000).  Consider pre-processing your data with StandardScaler or MinMaxScaler.\n",
      "  warnings.warn(\n"
     ]
    }
   ],
   "source": [
    "pipe_svc[-1].set_params(**{key.replace('classifier__',''): val for key,val in best_params_svc.items()})\n",
    "pipe_svc.fit(X_train, y_train)\n",
    "y_pred_svc = pipe_svc.predict(X_test)"
   ]
  },
  {
   "cell_type": "code",
   "execution_count": 525,
   "id": "1abf0e67",
   "metadata": {},
   "outputs": [
    {
     "data": {
      "image/png": "[encoded data removed]",
      "text/plain": [
       "<Figure size 640x480 with 2 Axes>"
      ]
     },
     "metadata": {},
     "output_type": "display_data"
    }
   ],
   "source": [
    "# confusion matrix\n",
    "cm = confusion_matrix(y_test, y_pred_svc)\n",
    "if target == 'quality_label':\n",
    "    ConfusionMatrixDisplay(cm, display_labels=categories_in_order).plot()\n",
    "else:\n",
    "    ConfusionMatrixDisplay(cm, display_labels=[3,4,5,6,7,8]).plot()"
   ]
  },
  {
   "cell_type": "code",
   "execution_count": 526,
   "id": "b41d5281",
   "metadata": {},
   "outputs": [
    {
     "name": "stdout",
     "output_type": "stream",
     "text": [
      "              precision    recall  f1-score   support\n",
      "\n",
      "         0.0      0.577     0.550     0.563       218\n",
      "         1.0      0.530     0.451     0.487       315\n",
      "         2.0      0.363     0.565     0.442       108\n",
      "         3.0      0.130     0.115     0.122        26\n",
      "\n",
      "    accuracy                          0.489       667\n",
      "   macro avg      0.400     0.420     0.404       667\n",
      "weighted avg      0.503     0.489     0.491       667\n",
      "\n"
     ]
    }
   ],
   "source": [
    "print(classification_report(y_test, y_pred_svc, digits=3))"
   ]
  },
  {
   "cell_type": "markdown",
   "id": "d7d2bc9a",
   "metadata": {},
   "source": [
    "SVC could not reach the same scoring as random forest"
   ]
  },
  {
   "cell_type": "markdown",
   "id": "f92d9374",
   "metadata": {},
   "source": [
    "# Evaluate"
   ]
  },
  {
   "cell_type": "markdown",
   "id": "dd75daac",
   "metadata": {},
   "source": [
    "## Baseline"
   ]
  },
  {
   "cell_type": "code",
   "execution_count": 480,
   "id": "b458bcac",
   "metadata": {},
   "outputs": [
    {
     "name": "stdout",
     "output_type": "stream",
     "text": [
      "Baseline probability that a produced wine might be high quality is 23.03%\n",
      "Baseline accuracy therefore is () 76.97%\n"
     ]
    }
   ],
   "source": [
    "# fraction of high quality labeled wines\n",
    "probs_quality_label = wine.quality_label.value_counts() / wine.quality_label.sum()\n",
    "prob_high_quality = probs_quality_label[2]+probs_quality_label[3]\n",
    "print(f'Baseline probability that a produced wine might be high quality is {prob_high_quality:.2%}')\n",
    "print(f'Baseline accuracy therefore is () {1-prob_high_quality:.2%}')"
   ]
  },
  {
   "cell_type": "markdown",
   "id": "b7d1e43b",
   "metadata": {},
   "source": [
    "## Model evaluation"
   ]
  },
  {
   "cell_type": "code",
   "execution_count": null,
   "id": "351c5acf",
   "metadata": {},
   "outputs": [],
   "source": [
    "pd.DataFrame()"
   ]
  },
  {
   "cell_type": "code",
   "execution_count": 536,
   "id": "101c61e5",
   "metadata": {},
   "outputs": [
    {
     "name": "stdout",
     "output_type": "stream",
     "text": [
      "Training Score      0.897147\n",
      "OOB Score           0.800050\n",
      "Validation Score    0.547226\n",
      "dtype: float64\n"
     ]
    },
    {
     "data": {
      "text/plain": [
       "<Axes: >"
      ]
     },
     "execution_count": 536,
     "metadata": {},
     "output_type": "execute_result"
    },
    {
     "data": {
      "image/png": "[encoded data removed]",
      "text/plain": [
       "<Figure size 640x480 with 1 Axes>"
      ]
     },
     "metadata": {},
     "output_type": "display_data"
    }
   ],
   "source": [
    "scores_overfitting = pd.Series({\n",
    "    'Training Score':pipe.score(X_train, y_train), \n",
    "    'OOB Score':pipe[-1].oob_score_, \n",
    "    'Validation Score':pipe.score(X_test, y_test)}\n",
    "    )\n",
    "print(scores_overfitting)\n",
    "\n",
    "sns.barplot(scores_overfitting)"
   ]
  },
  {
   "cell_type": "markdown",
   "id": "51de6d71",
   "metadata": {},
   "source": [
    "Overfitting might be present:\n",
    "- Trainings and validation score are widely different.\n",
    "- However, OOB score is quite high, meaning it performs ok on unseen data, and it is quite close to the Training Score. "
   ]
  },
  {
   "cell_type": "code",
   "execution_count": 537,
   "id": "2be6caf4",
   "metadata": {},
   "outputs": [
    {
     "data": {
      "text/plain": [
       "0.5472263868065967"
      ]
     },
     "execution_count": 537,
     "metadata": {},
     "output_type": "execute_result"
    }
   ],
   "source": [
    "# accuracy score\n",
    "# pipe.score(X_test, y_test)\n",
    "accuracy = accuracy_score(y_test, y_pred)\n",
    "accuracy"
   ]
  },
  {
   "cell_type": "code",
   "execution_count": 483,
   "id": "6f408425",
   "metadata": {},
   "outputs": [
    {
     "name": "stdout",
     "output_type": "stream",
     "text": [
      "f1score 0.0 \t 0.5894206549118388\n",
      "f1score 1.0 \t 0.5709677419354838\n",
      "f1score 2.0 \t 0.4827586206896552\n",
      "f1score 3.0 \t 0.2857142857142857\n"
     ]
    }
   ],
   "source": [
    "precision, recall, f1score, support = precision_recall_fscore_support(y_test, y_pred, labels=qlabels)\n",
    "for qlabel, f1 in zip(qlabels, f1score):\n",
    "    print('f1score', qlabel, '\\t', f1)"
   ]
  },
  {
   "cell_type": "code",
   "execution_count": 538,
   "id": "9cdf7585",
   "metadata": {},
   "outputs": [
    {
     "data": {
      "image/png": "[encoded data removed]",
      "text/plain": [
       "<Figure size 640x480 with 2 Axes>"
      ]
     },
     "metadata": {},
     "output_type": "display_data"
    }
   ],
   "source": [
    "# confusion matrix\n",
    "cm = confusion_matrix(y_test, y_pred)\n",
    "if target == 'quality_label':\n",
    "    ConfusionMatrixDisplay(cm, display_labels=categories_in_order).plot()\n",
    "else:\n",
    "    ConfusionMatrixDisplay(cm, display_labels=[3,4,5,6,7,8]).plot()"
   ]
  },
  {
   "cell_type": "code",
   "execution_count": 558,
   "id": "020ec99f",
   "metadata": {},
   "outputs": [
    {
     "data": {
      "image/png": "[encoded data removed]",
      "text/plain": [
       "<Figure size 400x400 with 3 Axes>"
      ]
     },
     "metadata": {},
     "output_type": "display_data"
    },
    {
     "name": "stdout",
     "output_type": "stream",
     "text": [
      "Recall per class: {'Low': np.float64(0.536697247706422), 'Medium': np.float64(0.5619047619047619), 'High': np.float64(0.5833333333333334), 'Except.': np.float64(0.3076923076923077)}\n"
     ]
    },
    {
     "data": {
      "text/plain": [
       "<Figure size 640x480 with 0 Axes>"
      ]
     },
     "metadata": {},
     "output_type": "display_data"
    }
   ],
   "source": [
    "# Assuming you have your true labels (y_test) and predicted labels (y_pred)\n",
    "# Example data (replace with your actual data)\n",
    "class_names = ['Low', 'Medium', 'High', 'Except.']  # Replace with your actual class names\n",
    "\n",
    "# 2. Create a DataFrame for the Confusion Matrix (for better labeling)\n",
    "cm_df = pd.DataFrame(cm, index=class_names, columns=class_names)\n",
    "\n",
    "# 3. Create the Joint Plot\n",
    "fig = plt.figure(figsize=(4, 4))\n",
    "gs = fig.add_gridspec(2, 2, width_ratios=(4, 1), height_ratios=(1, 4),\n",
    "                      left=0.1, right=0.9, bottom=0.1, top=0.9,\n",
    "                      wspace=0.05, hspace=0.05)\n",
    "\n",
    "# Main plot: Confusion Matrix\n",
    "ax_main = fig.add_subplot(gs[1, 0])\n",
    "sns.heatmap(cm_df, annot=True, fmt='d', cmap='Blues', cbar=False, ax=ax_main)\n",
    "ax_main.set_xlabel('Predicted')\n",
    "ax_main.set_ylabel('True')\n",
    "# ax_main.set_title('Confusion Matrix')\n",
    "\n",
    "# Top plot: Histogram of Predicted Labels\n",
    "ax_top = fig.add_subplot(gs[0, 0], sharex=ax_main)\n",
    "sns.histplot(np.array(y_pred)+0.5, discrete=True, ax=ax_top, color='skyblue')\n",
    "ax_top.set_ylabel('')\n",
    "# ax_top.set_yticklabels([])\n",
    "# ax_top.set_xticks([])\n",
    "ax_top.set_yticks([])\n",
    "ax_top.tick_params(axis='x', labelbottom=False)\n",
    "\n",
    "# Right plot: Histogram of True Labels\n",
    "ax_right = fig.add_subplot(gs[1, 1], sharey=ax_main)\n",
    "sns.histplot(y=np.array(y_test)+0.5, discrete=True, ax=ax_right, color='lightcoral', orientation='horizontal')\n",
    "ax_right.set_xlabel('')\n",
    "# ax_right.set_xticklabels([])\n",
    "# ax_right.set_yticks([])\n",
    "# ax_right.set_xticks([])\n",
    "ax_right.tick_params(axis='y', labelleft=False)\n",
    "\n",
    "plt.suptitle('Confusion Matrix and Label Distributions', y=0.95)\n",
    "plt.show()\n",
    "\n",
    "# To specifically highlight high recall:\n",
    "# Calculate recall for each class\n",
    "recall = np.diag(cm) / np.sum(cm, axis=1)\n",
    "print(\"Recall per class:\", dict(zip(class_names, recall)))\n",
    "\n",
    "sns.despine(ax=ax_right)\n",
    "sns.despine(ax=ax_top, top=True, right=True)\n",
    "plt.tight_layout()"
   ]
  },
  {
   "cell_type": "code",
   "execution_count": 539,
   "id": "6f6efc75",
   "metadata": {},
   "outputs": [
    {
     "name": "stdout",
     "output_type": "stream",
     "text": [
      "              precision    recall  f1-score   support\n",
      "\n",
      "         0.0      0.654     0.537     0.589       218\n",
      "         1.0      0.580     0.562     0.571       315\n",
      "         2.0      0.412     0.583     0.483       108\n",
      "         3.0      0.267     0.308     0.286        26\n",
      "\n",
      "    accuracy                          0.547       667\n",
      "   macro avg      0.478     0.497     0.482       667\n",
      "weighted avg      0.565     0.547     0.552       667\n",
      "\n"
     ]
    }
   ],
   "source": [
    "# classification report\n",
    "# TODO where do you want to go? what are the requirements?\n",
    "print(classification_report(y_test, y_pred, digits=3))"
   ]
  },
  {
   "cell_type": "code",
   "execution_count": 575,
   "id": "375e15a8",
   "metadata": {},
   "outputs": [
    {
     "name": "stderr",
     "output_type": "stream",
     "text": [
      "C:\\Users\\olive\\AppData\\Local\\Temp\\ipykernel_21556\\809984286.py:6: UserWarning: set_ticklabels() should only be used with a fixed number of ticks, i.e. after set_ticks() or using a FixedLocator.\n",
      "  ax.set_xticklabels(['Low', 'Medium', 'High', 'Exceptionel'])\n"
     ]
    },
    {
     "data": {
      "image/png": "[encoded data removed]",
      "text/plain": [
       "<Figure size 400x200 with 1 Axes>"
      ]
     },
     "metadata": {},
     "output_type": "display_data"
    }
   ],
   "source": [
    "recall = recall_score(y_test, y_pred, labels=[0.,1.,2.,3.], average=None)\n",
    "\n",
    "fig, ax = plt.subplots(1, 1, figsize=(4,2))\n",
    "ax = sns.barplot(recall)\n",
    "# ax.set_xticklabels({0:'Low', 1:'Medium', 2:'High', 3:'Exceptionel'})\n",
    "ax.set_xticklabels(['Low', 'Medium', 'High', 'Exceptionel'])\n",
    "ax.set_ylabel('Recall')\n",
    "\n",
    "quality_label_colors = {\n",
    "    'low'          :'blue',\n",
    "    'medium'       :'green',\n",
    "    'high'         :'orange',\n",
    "    'exceptionel'  :'gold'\n",
    "    }\n",
    "\n",
    "for bars in ax.containers:\n",
    "    for bar, color in zip(bars, quality_label_colors.values()):\n",
    "        bar.set_facecolor(color)"
   ]
  },
  {
   "cell_type": "code",
   "execution_count": 540,
   "id": "1bb370fa",
   "metadata": {},
   "outputs": [
    {
     "data": {
      "text/plain": [
       "np.float64(0.3113084981264188)"
      ]
     },
     "execution_count": 540,
     "metadata": {},
     "output_type": "execute_result"
    }
   ],
   "source": [
    "# cohen kappa\n",
    "cohen_kappa = cohen_kappa_score(y_test, y_pred)\n",
    "cohen_kappa"
   ]
  },
  {
   "cell_type": "markdown",
   "id": "f7457446",
   "metadata": {},
   "source": [
    "How to interpret Cohen Kappa:\n",
    "- \\>= 0.75: good\n",
    "- 0.40 - 0.60: OK \n",
    "- < 0.40: fair, be sceptical\n",
    "- 0: Random\n",
    "- <0: worse than random "
   ]
  },
  {
   "cell_type": "markdown",
   "id": "89772c78",
   "metadata": {},
   "source": [
    "## Feature Importances\n",
    "\n",
    "Compare feature importances to correlations to quality: the ranking should be kind of similar, otherwise the model might rely on noisy data."
   ]
  },
  {
   "cell_type": "code",
   "execution_count": 438,
   "id": "4e95203b",
   "metadata": {},
   "outputs": [],
   "source": [
    "# # Access the components\n",
    "# components = pipe[2].components_\n",
    "# feature_names_in = pipe[1].get_feature_names_out()\n",
    "\n",
    "# # Create a DataFrame to visualize the component loadings\n",
    "# components_df = pd.DataFrame(components, columns=feature_names_in, index=[f'PC{i+1}' for i in range(pipe[2].n_components_)])\n",
    "# components_df"
   ]
  },
  {
   "cell_type": "code",
   "execution_count": 439,
   "id": "2feacdca",
   "metadata": {},
   "outputs": [],
   "source": [
    "# Volatile Acidity, Citric Acid, Chlorides, Sulphates, Total Sulfur Dioxide, Free Sulfur Dioxide, Residual Sugar"
   ]
  },
  {
   "cell_type": "code",
   "execution_count": 504,
   "id": "aa36434c",
   "metadata": {},
   "outputs": [
    {
     "name": "stdout",
     "output_type": "stream",
     "text": [
      "sulphates * alcohol                    0.039826\n",
      "residual_sugar                         0.038833\n",
      "free_sulfur_dioxide                    0.038515\n",
      "chlorides * alcohol                    0.037778\n",
      "ph * sulphates                         0.037140\n",
      "citric_acid                            0.035652\n",
      "fixed_acidity * free_sulfur_dioxide    0.035195\n",
      "ph * fixed_acidity                     0.034987\n",
      "ph * residual_sugar                    0.034872\n",
      "fixed_acidity                          0.034711\n",
      "ph                                     0.033397\n",
      "volatile_acidity * density             0.033261\n",
      "residual_sugar * density               0.033145\n",
      "free_sulfur_dioxide * density          0.032252\n",
      "sulphates                              0.031965\n",
      "ph * alcohol                           0.031945\n",
      "residual_sugar * alcohol               0.031731\n",
      "total_sulfur_dioxide * alcohol         0.031630\n",
      "density * alcohol                      0.030537\n",
      "ph * density                           0.027976\n",
      "dtype: float64\n"
     ]
    },
    {
     "data": {
      "image/png": "[encoded data removed]",
      "text/plain": [
       "<Figure size 1200x1600 with 1 Axes>"
      ]
     },
     "metadata": {},
     "output_type": "display_data"
    }
   ],
   "source": [
    "# feature importances\n",
    "model = pipe.named_steps['classifier']\n",
    "if hasattr(model, 'feature_importances_'):\n",
    "    if len(model.feature_importances_) == len(X.columns):\n",
    "        feature_importances = pd.Series(model.feature_importances_, index=X.columns).sort_values(ascending=False)\n",
    "    else: \n",
    "        feature_names = [name.replace('remainder__','').replace(' ',' * ') for name in pipe[2].get_feature_names_out()]\n",
    "        feature_importances = pd.Series(model.feature_importances_, index=feature_names).sort_values(ascending=False)\n",
    "    print(feature_importances.tail(20))\n",
    "\n",
    "    fig, ax = plt.subplots(1,1,figsize=(12,16))\n",
    "\n",
    "    sns.barplot(feature_importances, orient='h', ax=ax)\n",
    "    plt.tight_layout()"
   ]
  },
  {
   "cell_type": "code",
   "execution_count": 508,
   "id": "53c2091c",
   "metadata": {},
   "outputs": [
    {
     "name": "stdout",
     "output_type": "stream",
     "text": [
      "n_interactions 15\n",
      "Index(['volatile_acidity * alcohol', 'sulphates * alcohol',\n",
      "       'chlorides * alcohol', 'ph * sulphates',\n",
      "       'fixed_acidity * free_sulfur_dioxide', 'ph * fixed_acidity',\n",
      "       'ph * residual_sugar', 'volatile_acidity * density',\n",
      "       'residual_sugar * density', 'free_sulfur_dioxide * density',\n",
      "       'ph * alcohol', 'residual_sugar * alcohol',\n",
      "       'total_sulfur_dioxide * alcohol', 'density * alcohol', 'ph * density'],\n",
      "      dtype='object')\n"
     ]
    },
    {
     "name": "stderr",
     "output_type": "stream",
     "text": [
      "<>:1: SyntaxWarning: invalid escape sequence '\\*'\n",
      "<>:2: SyntaxWarning: invalid escape sequence '\\*'\n",
      "<>:1: SyntaxWarning: invalid escape sequence '\\*'\n",
      "<>:2: SyntaxWarning: invalid escape sequence '\\*'\n",
      "C:\\Users\\olive\\AppData\\Local\\Temp\\ipykernel_21556\\2688485411.py:1: SyntaxWarning: invalid escape sequence '\\*'\n",
      "  feature_importances_interactions = feature_importances[feature_importances.index.str.contains(\"\\*\")]\n",
      "C:\\Users\\olive\\AppData\\Local\\Temp\\ipykernel_21556\\2688485411.py:2: SyntaxWarning: invalid escape sequence '\\*'\n",
      "  feature_importances_main = feature_importances[~feature_importances.index.str.contains(\"\\*\")]\n"
     ]
    }
   ],
   "source": [
    "feature_importances_interactions = feature_importances[feature_importances.index.str.contains(\"\\*\")]\n",
    "feature_importances_main = feature_importances[~feature_importances.index.str.contains(\"\\*\")]\n",
    "\n",
    "n_interactions = len(feature_importances_interactions)\n",
    "print('n_interactions', n_interactions)\n",
    "print(feature_importances_interactions.tail(20).index)"
   ]
  },
  {
   "cell_type": "code",
   "execution_count": 512,
   "id": "66a42f45",
   "metadata": {},
   "outputs": [
    {
     "data": {
      "image/png": "[encoded data removed]",
      "text/plain": [
       "<Figure size 800x600 with 2 Axes>"
      ]
     },
     "metadata": {},
     "output_type": "display_data"
    }
   ],
   "source": [
    "fig, ax = plt.subplots(2, 1, figsize=(8,6), sharex=True)\n",
    "sns.barplot(feature_importances_main, orient='h', ax=ax[0])\n",
    "sns.barplot(feature_importances_interactions, orient='h', ax=ax[1])\n",
    "plt.tight_layout()"
   ]
  },
  {
   "cell_type": "markdown",
   "id": "11b15745",
   "metadata": {},
   "source": [
    "### Permutation Feature Importances\n",
    "\n",
    "- Impact of individual feature permutations on predictions. \n",
    "- This method involves randomly shuffling a single feature's values and measuring the resulting performance decrease (e.g., accuracy, F1-score). "
   ]
  },
  {
   "cell_type": "code",
   "execution_count": null,
   "id": "016db619",
   "metadata": {},
   "outputs": [
    {
     "name": "stdout",
     "output_type": "stream",
     "text": [
      "                 Feature  Permutation Importance\n",
      "10               alcohol                0.076312\n",
      "2       volatile_acidity                0.052474\n",
      "0                     ph                0.039130\n",
      "9                density                0.035082\n",
      "6    free_sulfur_dioxide                0.025637\n",
      "8         residual_sugar                0.023238\n",
      "4              chlorides                0.013943\n",
      "5   total_sulfur_dioxide                0.011394\n",
      "1          fixed_acidity                0.009595\n",
      "7              sulphates                0.008996\n",
      "3            citric_acid                0.000450\n"
     ]
    },
    {
     "data": {
      "image/png": "[encoded data removed]",
      "text/plain": [
       "<Figure size 640x480 with 1 Axes>"
      ]
     },
     "metadata": {},
     "output_type": "display_data"
    }
   ],
   "source": [
    "# Permutation feature importance\n",
    "result = permutation_importance(pipe, X_test, y_test, n_repeats=10, random_state=0, n_jobs=-1)\n",
    "perm_imp_df = pd.DataFrame({\n",
    "    'Feature': features, \n",
    "    'Permutation Importance': result.importances_mean}).sort_values('Permutation Importance', ascending=False)\n",
    "\n",
    "print(perm_imp_df)\n",
    "sns.barplot(perm_imp_df, y='Feature', x='Permutation Importance', orient='h');\n",
    "\n",
    "# TODO color bars\n",
    "# for bars in a.containers:\n",
    "#     for bar, color in zip(bars, colors):\n",
    "#     bar.set_facecolor(color)"
   ]
  },
  {
   "cell_type": "markdown",
   "id": "42256408",
   "metadata": {},
   "source": [
    "### Comments on Feature Importances\n",
    "- As expected from oenologists alcohol is by far the most important feature. It is seen as the carrier for aroma and indicates a complete possibly good fermentation process.\n",
    "- The following importances do not vary too much, i.e. each feature is almost equally important.\n",
    "- The model heavily relies on the following features in order:\n",
    "  - density, which is measure for sweetness and aroma.  \n",
    "  - volatile acidity as a measure of aging \n",
    "  - ph the content of acids\n",
    "  - total and free sulfur dioxide as a measure of age\n",
    "  - residual sugar whcih determines the sweetness of wines\n",
    "  - sulphates which are preservatives\n",
    "  - chlorides for saltiness\n",
    "  - fixed acidity\n",
    "  - citric acid"
   ]
  },
  {
   "cell_type": "markdown",
   "id": "df9c7344",
   "metadata": {},
   "source": [
    "The permutation on feature importances shows a different and more pronounced order of features than the built-in feature importances: \n",
    "- The model heavily relies on Alcohol, Volatile Acidity, Free Sulfur Dioxide;\n",
    "- It strongly relies on Density, Chlorides, Total Sulfur Dioxide.\n",
    "- Interestingly Fixed \n",
    "- Citric Acid are the least important as well.\n",
    "- pH is even negative.\n",
    "\n",
    "The result is closer to the correlation matrix result.\n",
    "\n",
    "- Volatile Acidity and Free Sulfur Dioxide are more important than shown by the other methods.\n",
    "Most surprisingly:\n",
    "- "
   ]
  },
  {
   "attachments": {
    "image.png": {
     "image/png": "[encoded data removed]"
    }
   },
   "cell_type": "markdown",
   "id": "afeba460",
   "metadata": {},
   "source": [
    "### Comparison to Correlation Matrix \n",
    "- The model quite different from the correlation matrix.\n",
    "  - Similarities: The dominant features are alcohol, density, \n",
    "  - Differences: \n",
    "    - It more strongly relies on Volatile Acidity and Free Sulfur Dioxide, less on Density to predict quality.\n",
    "- Conclusions / Possibilities\n",
    "  - Observation underlines non-linear, correlated nature of the problem.\n",
    "  - Might hint to overfitting: The model pays more attention to the possibly noisy data: free sulfur dioxide and Volatile Acidity.\n",
    "\n",
    "![image.png](attachment:image.png)"
   ]
  },
  {
   "cell_type": "markdown",
   "id": "622b4fcb",
   "metadata": {},
   "source": [
    "### SHAP Feature Importances\n",
    "\n",
    "Currently not running! Too complicated for now."
   ]
  },
  {
   "cell_type": "code",
   "execution_count": 370,
   "id": "d5ce45b0",
   "metadata": {},
   "outputs": [],
   "source": [
    "# # # SHAP Explainer\n",
    "# # TODO the thing does not work: evaluation of pipeline for some reason not possible; problem: undersampling, oversampling\n",
    "# #   tried to separate the preprocessor from the pipeline and hand the transformed X,y to the explainer \n",
    "# # if  DO_SHAP_EXPLAINER:\n",
    "# scaler = pipe[0]\n",
    "# # X_train_transformed, y_train_transformed = preprocessor.fit_resample(X_train, y_train)\n",
    "# X_test_transformed = scaler.transform(X_test)\n",
    "# explainer = shap.Explainer(pipe[-1]) # Transform training data\n",
    "# # explainer = shap.TreeExplainer(pipe[-1], X_test_transformed) # Transform training data\n",
    "# shap_values = explainer(X_test) \n",
    "\n",
    "#     # pipeline_predict: is somehow very slow\n",
    "#     # explainer = shap.Explainer(pipe.predict, X_train)\n",
    "#     # shap_values = explainer(X_test)\n",
    "\n",
    "#     # does not exist yet\n",
    "#     # explainer = shap.PipelineExplainer(pipe, X_train)\n",
    "#     # shap_values = explainer_pipeline(X_test)\n",
    "\n",
    "#     # Waterfall plot for the first observation\n",
    "\n",
    "# shap.plots.waterfall(shap_values[0, 0])"
   ]
  },
  {
   "cell_type": "markdown",
   "id": "628e3637",
   "metadata": {},
   "source": [
    "## Collinearity"
   ]
  },
  {
   "cell_type": "code",
   "execution_count": 393,
   "id": "4961b98d",
   "metadata": {},
   "outputs": [
    {
     "name": "stdout",
     "output_type": "stream",
     "text": [
      "                 Feature          VIF\n",
      "8         residual_sugar     3.776187\n",
      "4              chlorides     9.275162\n",
      "6    free_sulfur_dioxide    11.413290\n",
      "2       volatile_acidity    14.483400\n",
      "3            citric_acid    16.801042\n",
      "7              sulphates    25.604246\n",
      "5   total_sulfur_dioxide    27.118595\n",
      "1          fixed_acidity   107.460709\n",
      "10               alcohol   135.040555\n",
      "0                     ph   633.223506\n",
      "9                density  1142.056044\n"
     ]
    }
   ],
   "source": [
    "# Calculate VIF for each feature\n",
    "from statsmodels.stats.outliers_influence import variance_inflation_factor\n",
    "\n",
    "vif_data = pd.DataFrame()\n",
    "vif_data[\"Feature\"] = X_train.columns\n",
    "vif_data[\"VIF\"] = [variance_inflation_factor(X_train.values, i) for i in range(X_train.shape[1])]\n",
    "\n",
    "print(vif_data.sort_values('VIF'))"
   ]
  },
  {
   "cell_type": "markdown",
   "id": "ed6c14f0",
   "metadata": {},
   "source": [
    "The high VIF numbers indicate that features are strongly related:\n",
    "- Density has by far the highest VIF, which is not surprising, since all quantities are somehow related to density.\n",
    "- The same for pH and acids; and alcohol. "
   ]
  },
  {
   "cell_type": "markdown",
   "id": "8883c6fd",
   "metadata": {},
   "source": [
    "## Condition number"
   ]
  },
  {
   "cell_type": "code",
   "execution_count": 394,
   "id": "279a8f53",
   "metadata": {},
   "outputs": [
    {
     "name": "stdout",
     "output_type": "stream",
     "text": [
      "Condition Number: 9518.773463486099\n",
      "Condition Number: 20.466346470634978\n"
     ]
    }
   ],
   "source": [
    "from numpy.linalg import cond\n",
    "\n",
    "# Calculate the condition number\n",
    "condition_number = cond(X_train)\n",
    "print(f\"Condition Number: {condition_number}\")\n",
    "\n",
    "condition_number = cond(pipe[:-3].transform(X_train))\n",
    "print(f\"Condition Number: {condition_number}\")"
   ]
  },
  {
   "cell_type": "markdown",
   "id": "a5952d35",
   "metadata": {},
   "source": [
    "## Cross Validation"
   ]
  },
  {
   "cell_type": "code",
   "execution_count": 395,
   "id": "db6a69c6",
   "metadata": {},
   "outputs": [],
   "source": [
    "def print_cross_val_scores(scores):\n",
    "    print(\"\\nCross-validation scores:\", scores)\n",
    "    print(\"Mean accuracy:\", np.mean(scores))\n",
    "    print(\"Standard deviation of accuracy:\", np.std(scores))\n",
    "    return None"
   ]
  },
  {
   "cell_type": "code",
   "execution_count": null,
   "id": "96a03686",
   "metadata": {},
   "outputs": [
    {
     "name": "stdout",
     "output_type": "stream",
     "text": [
      "\n",
      "Cross-validation scores: [0.48875562 0.50900901 0.54054054 0.5015015  0.51051051]\n",
      "Mean accuracy: 0.5100634367500934\n",
      "Standard deviation of accuracy: 0.017073343227599916\n",
      "\n",
      "Cross-validation scores: [0.48875562 0.50900901 0.54054054 0.5015015  0.51051051]\n",
      "Mean accuracy: 0.5100634367500934\n",
      "Standard deviation of accuracy: 0.017073343227599916\n"
     ]
    }
   ],
   "source": [
    "# Stratified k fold\n",
    "DO_CROSS_VAL=True\n",
    "if DO_CROSS_VAL:\n",
    "    sk_folds = StratifiedKFold(n_splits = 5)#, shuffle=False, random_state=RANDOM_STATE)\n",
    "    f1_weighted = cross_val_score(pipe, X, y, cv=sk_folds, scoring='f1_weighted', n_jobs=-1)\n",
    "    accuracy = cross_val_score(pipe, X, y, cv=sk_folds, scoring='accuracy', n_jobs=-1)\n",
    "    print_cross_val_scores(f1_weighted)\n",
    "    print_cross_val_scores(accuracy)"
   ]
  },
  {
   "cell_type": "code",
   "execution_count": 376,
   "id": "00867795",
   "metadata": {},
   "outputs": [
    {
     "name": "stdout",
     "output_type": "stream",
     "text": [
      "\n",
      "Cross-validation scores: [0.556 0.519 0.504 0.528 0.553 0.531 0.487 0.559 0.562 0.557]\n",
      "Mean accuracy: 0.5356000000000001\n",
      "Standard deviation of accuracy: 0.02477175811281874\n"
     ]
    }
   ],
   "source": [
    "# Repeated Random Test-Train Splits\n",
    "if DO_CROSS_VAL:\n",
    "    kfold2 = ShuffleSplit(n_splits=10, test_size=0.30, random_state=100)\n",
    "    scores = cross_val_score(pipe, X, y, cv=kfold2)\n",
    "    print_cross_val_scores(scores)"
   ]
  },
  {
   "cell_type": "markdown",
   "id": "89d1bf44",
   "metadata": {},
   "source": [
    "* The accuracy from cross validation is lower than the above calculated accuracy. Reasons could be: \n",
    "  * class imbalance \n",
    "  * overfitting\n",
    "* The standard deviation is low, indicating that the model is well fitted and might not be overfitted."
   ]
  },
  {
   "cell_type": "markdown",
   "id": "03e4d6e6",
   "metadata": {},
   "source": [
    "# Notes\n",
    "\n",
    "## Open Questions / Tasks\n",
    "- Which model to use? Other models that might be useful:\n",
    "  - random forest\n",
    "  - gradient boosting tree\n",
    "  - neural network\n",
    "- How to tune the model? Hyperparameter Tuning later on\n",
    "- EDA: What's the connection? Can another feature be thrown out in order to improve the ML result?\n",
    "\n",
    "## Requirements\n",
    "\n",
    "### What does the user want?\n",
    "* A process to simply determine if the produced wine might be high quality or not.\n",
    "* A simple process could look like this:\n",
    "  * Measure the basic properties (they might have to measured anyways)\n",
    "    * residual sugar, ph, density, total sulfur dioxide, fixed and volatile acidity, alcohol\n",
    "  * If possible, measure the more advanced features: citric acid, chlorides, free sulfur dioxides, sulphates\n",
    "  * Use the model to infer possible quality rating.\n",
    "  * Compare the result with the taste of the wine to omit false negative, possibly invite a taster.\n",
    "  * If good then set the price and marketing strategy appropriately \n",
    "\n",
    "### How to setup the model?\n",
    "\n",
    "1. As many high quality wines predicted correctly, because the quality shall be determined as accurate as possible\n",
    "   1. accuracy: the model should be as accurate as possible\n",
    "   2. recall: wine that is actually high quality should be predicted as high quality\n",
    "   3. high f1-score: \n",
    "   4. precision: \n",
    "2. Reduce low quality wine creep, i.e. low quality wine predicted as high quality wine.\n",
    "   1. high f1-score for low quality: \n",
    "3. Accuracy as high as possible."
   ]
  },
  {
   "cell_type": "markdown",
   "id": "5e0fd334",
   "metadata": {},
   "source": [
    "## Results\n",
    "\n",
    "* Tune Target **Quality Label**\n",
    "  * With the original quality label definition no high quality wine could be predicted correctly.\n",
    "  * The high quality wine group is too small!\n",
    "  * Oversampling and Undersampling further improves the model, see below.\n",
    "  * Test with more quality levels, in order to emphasize the high quality features:\n",
    "    * Good result according to confusion matrix, although accuracy is significantly lower.\n",
    "    * Pros: Exceptional wines can be classified ok manner.\n",
    "    * Cons: Low precision on exceptional wines.\n",
    "    * Conlcusion: \n",
    "      * not enough high quality data to predict high quality wines\n",
    "      * stick to 3 labels for now\n",
    "    * Stack another model on top to differentiate between high and exceptional?\n",
    "* **Model selection**: compare SVC and RandomForest\n",
    "  * overall RandomForest yields better results\n",
    "  * however SVC is great on recall for high quality\n",
    "  * can the algorithms be combined? yes! stacking\n",
    "* Which is the appropriate **scaling method**?\n",
    "  * Compare RobustScaler and MinMaxScaler\n",
    "  * Result: RobustScaler is slightly better for determining high quality wines\n",
    "  * What is the influence of the outliers? Removing Outliers before and after\n",
    "* **Dealing with outliers**\n",
    "  * Remove all outliers\n",
    "    * better confusion matrix: Less bad wine is predicted as higher quality; medium wine is more balanced. \n",
    "    * lower accuracy score, but better precision, recall, precision. \n",
    "  * Remove low quality outliers: Improvement for all scores\n",
    "    * best result with quality <= 6\n",
    "    * skew and kurtosis can be reduced with outlier removal.\n",
    "  * Remove low quality outliers and outliers determined by IsolationForest:\n",
    "    * best result with quality <= 7: this seems a bit random!\n",
    "    * improvement of the result!\n",
    "  * What happens if the high quality outliers are only used for training or testing? \n",
    "* **Oversampling and Undersampling**\n",
    "  * smearing of the confusion matrix\n",
    "  * leads to slighty lower accuracy, but higher f1 scores for low and high quality\n",
    "  * major improvement for high quality!\n",
    "  * With and without outliers? \n",
    "  * What about scaling?\n",
    "* **Feature selection**\n",
    "  * What is the influence of the other steps on this topic? \n",
    "  * **Overall result**: Until now, the best results were achieved when all original features are kept.\n",
    "    * It seems that all features play a kind of crucial role in this classification problem!\n",
    "    * Why is this? Although the correlation matrix indicates that collinearity effects might be present, it seems that non-linear effects are more important. This underlines the non-linear, interdependent nature of this problem and calls for machine learning models.\n",
    "  * Remove features with the lowest impact on quality (citric acid, sulphates, free sulfur dioxide): makes it worse!\n",
    "  * Remove features which are strongly correlated to each other in order to omit collinearity effects:\n",
    "    * alcohol, density, residual sugar are strongly correlated\n",
    "    * remove residual sugar: no improvement\n",
    "    * remove ph, because it's kind of similar to the acids, it may represent acids that are not yet included; it could simplify model interpretation: no improvement, only a slight difference \n",
    "    * remove acids: no improvement\n",
    "    * remove small values with little spread depending on histogram because the introduce noise, which are sulphates: no improvement \n",
    "  * Remove features with high VIF scores: no improvement\n",
    "  * Remove features by applying PCA: Did not yield a better result, because it's a non-linear problem!\n",
    "  * Summarize features and replace others\n",
    "    * sulfur dioxide ratio of free sulfur dioxide or both sulfur dioxide quantities: did not improve the result\n",
    "    * acid ratio instead: looked promising, but no improvement\n",
    "    * total acid instead of acids: no improvement; the quantity is mainly driven by Fixed Acid and the features of the other acids are lost \n",
    "    * residual sugar * density * alcohol: did not make sense until; proper normalization is necessary\n",
    "* Use **Quality instead of Quality Label**\n",
    "  * similar results to modified quality label\n",
    "  * low quality wines are predicted to be higher quality; high quality wines tend to be rated with lower quality. \n",
    "    * Cut off very low quality wines? \n",
    "    * What to do about imbalance in data set?\n",
    "      * Oversamplig does not work here (before it has not really changed the confusion matrix).\n",
    "      * Use cross validation to check for overfitting effects\n",
    "* **Cross validation**\n",
    "  * What is the result of cross validation? What is used for? What does validation exactly mean? Cross validation yields an interesting result: normally the model performs better in cross validation, however, in this case this is not the case.\n",
    "* **Feature interactions**\n",
    "  * Included Feature Interaction Terms in order to get rid of the the noisy stuff (volatile acidity, chlorides) and investigate model complexity.\n",
    "  * Trimming\n",
    "    * with PCA: no improvement\n",
    "    * backward elimination: remove the least important interactions\n",
    "  * With the previously optimzed parameters: no improvement, which shows that I might be caught in overfitting already\n",
    "  * Did I overcome Overfitting and create real features?\n",
    "    * grid search hints to this: reasonable parameters, no slipping away\n",
    "  * What is \n",
    "* **Log-Scaling of features**\n",
    "  * also did not change anything\n",
    "  * actually i should repeat the gridsearch!"
   ]
  },
  {
   "cell_type": "markdown",
   "id": "8d4d2e56",
   "metadata": {},
   "source": [
    "# Presentation\n",
    "\n",
    "1. Introduction slide\n",
    "2. Agenda\n",
    "3. EDA\n",
    "4. Machine Learning\n",
    "   2. Configuration and Tuning: What was done and why? The road to the model\n",
    "      1. Model: RandomForestClassifier vs SVM (vs ???)\n",
    "      2. Scaling: RobustScaler vs MinMaxScaler\n",
    "      3. Imbalanced data: Undersampling, Oversampling\n",
    "      4. Cross validation: What does the std tell us about the model?\n",
    "   3. What about the outliers?\n",
    "      1. I removed the low quality outliers.\n",
    "      2. Improvement of the model: Accuracy decreased slightly, \n",
    "   4. What was achieved? Is the model a good classification machine for the winery?\n",
    "      1. Resulting confusion matrix\n",
    "   5. Is the model a good classification machine for the winery?\n",
    "      1. Up to now high quality wine can be predicted pretty well.\n",
    "      2. Is more data needed? "
   ]
  },
  {
   "cell_type": "markdown",
   "id": "6117a571",
   "metadata": {},
   "source": []
  }
 ],
 "metadata": {
  "kernelspec": {
   "display_name": "base_data_analysis",
   "language": "python",
   "name": "python3"
  },
  "language_info": {
   "codemirror_mode": {
    "name": "ipython",
    "version": 3
   },
   "file_extension": ".py",
   "mimetype": "text/x-python",
   "name": "python",
   "nbconvert_exporter": "python",
   "pygments_lexer": "ipython3",
   "version": "3.12.3"
  }
 },
 "nbformat": 4,
 "nbformat_minor": 5
}
