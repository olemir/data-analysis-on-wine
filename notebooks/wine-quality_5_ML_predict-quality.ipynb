{
 "cells": [
  {
   "cell_type": "markdown",
   "id": "731674a7",
   "metadata": {},
   "source": [
    "# Machine Learning - Predict Good Quality White Vinho Verde"
   ]
  },
  {
   "cell_type": "markdown",
   "id": "0adeafb2",
   "metadata": {},
   "source": [
    "Considerations\n",
    "- How to simplify the data set?\n",
    "  - drop fixed acidity, volatile acidity, citric acid\n",
    "    - reason: they are more or less visible in pH\n",
    "  - drop citric acid\n",
    "    - it only very weakly correlates to quality ...\n",
    "    - but it weakly links acidity to density, chlorides and sulfur dioxides, which are big quality indicators!\n",
    "    - conclusions\n",
    "      - Do I need those \"links\"?\n",
    "      - see what happens if you add/remove citric acid, in general: a strongly correlated quantity\n",
    "  - drop fixed acidity, volatile acidity, replace by ratio.\n",
    "      - maybe keep or transform fixed and volatile acidity, since they have a big correlation with alcohol which is the major quality indicator\n",
    "  - Drop sulphates: they don't have a great effect on quality or on other quantities, except for a weak correlation to total sulfur dioxide and pH.\n",
    "  - Drop Free Sulfur Dioxide and create Sulfur Dioxide ratio as new feature instead\n",
    "    - Total and Free Sulfur Dioxide are similar.\n",
    "    - Free Sulfur Dioxide is only weakly linked to quality.\n",
    "    - Repeat EDA!\n",
    "  - Drop Residual Sugar?\n",
    "    - It is included in density.\n",
    "    - It weakly balances pH.\n",
    "  - What to do with density? Is this quantity useful for the analysis? \n",
    "    - It strongly correlates with Residual Sugar and Alcohol. \n",
    "    - It is a major quality indicator for a reason."
   ]
  },
  {
   "cell_type": "markdown",
   "id": "a462b166",
   "metadata": {},
   "source": []
  },
  {
   "cell_type": "code",
   "execution_count": null,
   "id": "cfb4c6e2",
   "metadata": {
    "vscode": {
     "languageId": "plaintext"
    }
   },
   "outputs": [],
   "source": []
  }
 ],
 "metadata": {
  "language_info": {
   "name": "python"
  }
 },
 "nbformat": 4,
 "nbformat_minor": 5
}
