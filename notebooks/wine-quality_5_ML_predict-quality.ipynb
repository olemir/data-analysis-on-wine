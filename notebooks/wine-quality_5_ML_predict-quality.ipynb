{
 "cells": [
  {
   "cell_type": "markdown",
   "id": "731674a7",
   "metadata": {},
   "source": [
    "# Machine Learning - Predict Good Quality White Vinho Verde"
   ]
  },
  {
   "cell_type": "markdown",
   "id": "0adeafb2",
   "metadata": {},
   "source": [
    "In this notebook a machine learning model to predict the quality of white vinho verde wines is implemented and evaluated. \n",
    "\n",
    "The goal is to predict if a wine is high quality or not"
   ]
  },
  {
   "cell_type": "markdown",
   "id": "a462b166",
   "metadata": {},
   "source": [
    "# Import Packages and Functions"
   ]
  },
  {
   "cell_type": "code",
   "execution_count": 1286,
   "id": "e263352a",
   "metadata": {},
   "outputs": [],
   "source": [
    "import pandas as pd\n",
    "# import pingouin as pg\n",
    "import matplotlib.pyplot as plt\n",
    "import seaborn as sns\n",
    "import math\n",
    "import numpy as np\n",
    "\n",
    "\n",
    "from xgboost import XGBClassifier \n",
    "\n",
    "import sklearn\n",
    "from sklearn.preprocessing import OrdinalEncoder, LabelEncoder, MinMaxScaler, RobustScaler, StandardScaler\n",
    "from sklearn.model_selection import train_test_split, StratifiedKFold, ShuffleSplit, cross_val_score\n",
    "from sklearn.compose import ColumnTransformer\n",
    "from sklearn.ensemble import RandomForestClassifier\n",
    "from sklearn.svm import SVC\n",
    "from sklearn.linear_model import LogisticRegression\n",
    "# from sklearn.impute import SimpleImputer\n",
    "# from sklearn.model_selection import GridSearchCV\n",
    "# from sklearn.pipeline import Pipeline\n",
    "from sklearn.metrics import (\n",
    "    accuracy_score, precision_score, recall_score, f1_score, \n",
    "    precision_recall_fscore_support,\n",
    "    classification_report, confusion_matrix, ConfusionMatrixDisplay, cohen_kappa_score\n",
    ")\n",
    "from sklearn.inspection import permutation_importance\n",
    "\n",
    "from imblearn.under_sampling import RandomUnderSampler\n",
    "from imblearn.over_sampling import SMOTE\n",
    "from imblearn.combine import SMOTEENN\n",
    "from imblearn.pipeline import Pipeline\n",
    "\n",
    "import shap\n",
    "\n",
    "# TODO checkout this pipeline library \n",
    "# from neuraxle.pipeline import Pipeline"
   ]
  },
  {
   "cell_type": "code",
   "execution_count": 1287,
   "id": "83d3a7de",
   "metadata": {},
   "outputs": [],
   "source": [
    "%run ../src/constants.py"
   ]
  },
  {
   "cell_type": "markdown",
   "id": "945a9b2a",
   "metadata": {},
   "source": [
    "# Import and Pre-clean Data"
   ]
  },
  {
   "cell_type": "code",
   "execution_count": 1288,
   "id": "392cb838",
   "metadata": {},
   "outputs": [],
   "source": [
    "# import white wine\n",
    "wine = pd.read_parquet('../data/processed/wine_w.parquet')"
   ]
  },
  {
   "cell_type": "code",
   "execution_count": 1289,
   "id": "5a0449e3",
   "metadata": {},
   "outputs": [
    {
     "name": "stdout",
     "output_type": "stream",
     "text": [
      "<class 'pandas.core.frame.DataFrame'>\n",
      "Index: 3961 entries, 0 to 4897\n",
      "Data columns (total 21 columns):\n",
      " #   Column                               Non-Null Count  Dtype   \n",
      "---  ------                               --------------  -----   \n",
      " 0   ph                                   3961 non-null   float64 \n",
      " 1   fixed_acidity                        3961 non-null   float64 \n",
      " 2   volatile_acidity                     3961 non-null   float64 \n",
      " 3   citric_acid                          3961 non-null   float64 \n",
      " 4   chlorides                            3961 non-null   float64 \n",
      " 5   total_sulfur_dioxide                 3961 non-null   float64 \n",
      " 6   free_sulfur_dioxide                  3961 non-null   float64 \n",
      " 7   sulphates                            3961 non-null   float64 \n",
      " 8   residual_sugar                       3961 non-null   float64 \n",
      " 9   density                              3961 non-null   float64 \n",
      " 10  alcohol                              3961 non-null   float64 \n",
      " 11  quality                              3961 non-null   int64   \n",
      " 12  color                                3961 non-null   category\n",
      " 13  quality_label                        3961 non-null   category\n",
      " 14  total_sulfur_dioxide_above_eu_limit  3961 non-null   bool    \n",
      " 15  volatile_acid_above_eu_limit         3961 non-null   bool    \n",
      " 16  sulfur_dioxide_ratio                 3961 non-null   float64 \n",
      " 17  acidity_ratio                        3961 non-null   float64 \n",
      " 18  total_acidity                        3961 non-null   float64 \n",
      " 19  input_outlier_count                  3961 non-null   int64   \n",
      " 20  input_outliers_if                    3961 non-null   bool    \n",
      "dtypes: bool(3), category(2), float64(14), int64(2)\n",
      "memory usage: 545.7 KB\n"
     ]
    }
   ],
   "source": [
    "wine.info()"
   ]
  },
  {
   "cell_type": "markdown",
   "id": "5613fadd",
   "metadata": {},
   "source": [
    "## Config"
   ]
  },
  {
   "cell_type": "code",
   "execution_count": 1290,
   "id": "6d24271e",
   "metadata": {},
   "outputs": [],
   "source": [
    "remove_outliers = True\n",
    "DO_SHAP_EXPLAINER = True\n",
    "DO_CROSS_VAL = True\n",
    "\n",
    "features_removed = [\n",
    "    'color',\n",
    "    # 'fixed_acidity', 'volatile_acidity', 'citric_acid',\n",
    "    'total_acidity',\n",
    "    # 'total_sulfur_dioxide', \n",
    "    # 'free_sulfur_dioxide',\n",
    "    # 'sulphates',\n",
    "    # 'residual_sugar',\n",
    "    # 'ph',\n",
    "    # 'density',\n",
    "    'acidity_ratio',\n",
    "    'sulfur_dioxide_ratio',\n",
    "    'total_sulfur_dioxide_above_eu_limit', \n",
    "    'volatile_acid_above_eu_limit'\n",
    "    ]\n",
    "\n",
    "target, target_alt = 'quality_label', 'quality'\n",
    "# target, target_alt = target_alt, target\n",
    "features_removed.append(target_alt)"
   ]
  },
  {
   "cell_type": "markdown",
   "id": "6d320153",
   "metadata": {},
   "source": [
    "## Remove outliers\n",
    "\n",
    "Remove low quality outlier wines!"
   ]
  },
  {
   "cell_type": "code",
   "execution_count": 1291,
   "id": "efd44223",
   "metadata": {},
   "outputs": [
    {
     "data": {
      "text/plain": [
       "(3362, 19)"
      ]
     },
     "execution_count": 1291,
     "metadata": {},
     "output_type": "execute_result"
    }
   ],
   "source": [
    "MIN_Q_RATING = 7\n",
    "\n",
    "if remove_outliers:\n",
    "    outlier_mask = ((wine.input_outlier_count>=1) | wine.input_outliers_if) & (wine.quality<=MIN_Q_RATING)\n",
    "    # outlier_mask = ((wine.input_outlier_count>=1)) & (wine.quality<=MIN_Q_RATING)\n",
    "    wine = wine[~outlier_mask]\n",
    "wine = wine.drop(columns=['input_outlier_count', 'input_outliers_if'])\n",
    "wine.shape"
   ]
  },
  {
   "cell_type": "code",
   "execution_count": 1292,
   "id": "17f6c1ec",
   "metadata": {},
   "outputs": [
    {
     "name": "stdout",
     "output_type": "stream",
     "text": [
      "599\n"
     ]
    }
   ],
   "source": [
    "if outlier_mask is not None:\n",
    "    print(sum(outlier_mask))"
   ]
  },
  {
   "cell_type": "markdown",
   "id": "540d2401",
   "metadata": {},
   "source": [
    "## Remove Features"
   ]
  },
  {
   "cell_type": "code",
   "execution_count": 1293,
   "id": "b9fa18a7",
   "metadata": {},
   "outputs": [
    {
     "name": "stdout",
     "output_type": "stream",
     "text": [
      "selected features are:\n"
     ]
    },
    {
     "data": {
      "text/plain": [
       "['ph',\n",
       " 'fixed_acidity',\n",
       " 'volatile_acidity',\n",
       " 'citric_acid',\n",
       " 'chlorides',\n",
       " 'total_sulfur_dioxide',\n",
       " 'free_sulfur_dioxide',\n",
       " 'sulphates',\n",
       " 'residual_sugar',\n",
       " 'density',\n",
       " 'alcohol']"
      ]
     },
     "execution_count": 1293,
     "metadata": {},
     "output_type": "execute_result"
    }
   ],
   "source": [
    "wine = wine.drop(columns=features_removed)\n",
    "\n",
    "features = [input for input in wine.columns if (input not in features_removed) and (input != target) and (input != target)]\n",
    "print('selected features are:')\n",
    "features"
   ]
  },
  {
   "cell_type": "markdown",
   "id": "c03f2ea7",
   "metadata": {},
   "source": [
    "## Analyse Input Data"
   ]
  },
  {
   "cell_type": "code",
   "execution_count": 1294,
   "id": "6263e66a",
   "metadata": {},
   "outputs": [
    {
     "data": {
      "image/png": "[encoded data removed]",
      "text/plain": [
       "<Figure size 640x480 with 1 Axes>"
      ]
     },
     "metadata": {},
     "output_type": "display_data"
    }
   ],
   "source": [
    "if 'quality_label' in wine.columns:\n",
    "    sns.histplot(wine, x='quality_label', discrete=True);\n",
    "else:\n",
    "    sns.histplot(wine, x='quality', discrete=True);"
   ]
  },
  {
   "cell_type": "markdown",
   "id": "7475e1c8",
   "metadata": {},
   "source": [
    "# Transform Target"
   ]
  },
  {
   "cell_type": "code",
   "execution_count": 1295,
   "id": "86fd823d",
   "metadata": {},
   "outputs": [],
   "source": [
    "# encode quality label\n",
    "if 'quality_label' in wine.columns:\n",
    "    # TODO is there another way to ensure order? seems kind of sloppy\n",
    "    categories_in_order = list(wine.quality_label.value_counts().sort_index().index) # such that number of labels can be changed \n",
    "    oe = OrdinalEncoder(categories=[categories_in_order]) # NOTE give the order in here; has to be an array of n features \n",
    "    wine['quality_label'] = oe.fit_transform(pd.DataFrame(wine['quality_label'])) # NOTE conversion to dataframe needed here, because that bastard requires a (n_samples, n_features) shape\n",
    "    qlabels = sorted(wine.quality_label.unique()) #[0.0, 2.0, 3.0]"
   ]
  },
  {
   "cell_type": "markdown",
   "id": "c6732fa0",
   "metadata": {},
   "source": [
    "# Split Data Set"
   ]
  },
  {
   "cell_type": "code",
   "execution_count": 1296,
   "id": "ecd451fa",
   "metadata": {},
   "outputs": [],
   "source": [
    "# Split the data into training and testing sets\n",
    "# TODO move configuration to config file?\n",
    "TEST_SIZE = 0.20\n",
    "RANDOM_STATE = 42\n",
    "\n",
    "X = wine[features]\n",
    "if 'quality_label' in wine.columns:\n",
    "    y = wine.quality_label\n",
    "else:\n",
    "    y = wine.quality\n",
    "\n",
    "X_train, X_test, y_train, y_test = train_test_split(X, y, test_size=TEST_SIZE, random_state=RANDOM_STATE)"
   ]
  },
  {
   "cell_type": "code",
   "execution_count": 1297,
   "id": "d129c775",
   "metadata": {},
   "outputs": [
    {
     "data": {
      "image/png": "[encoded data removed]",
      "text/plain": [
       "<Figure size 1200x600 with 3 Axes>"
      ]
     },
     "metadata": {},
     "output_type": "display_data"
    }
   ],
   "source": [
    "fig, ax = plt.subplots(1, 3, figsize=(12, 6), sharey=True, sharex=True)\n",
    "\n",
    "sns.histplot(y, discrete=True, ax=ax[0])\n",
    "sns.histplot(y_train, discrete=True, ax=ax[1])\n",
    "sns.histplot(y_test, discrete=True, ax=ax[2])\n",
    "\n",
    "ax[0].set_title('y')\n",
    "ax[1].set_title('y_train')\n",
    "ax[2].set_title('y_test')\n",
    "\n",
    "plt.tight_layout()"
   ]
  },
  {
   "cell_type": "code",
   "execution_count": 1298,
   "id": "9bde2ebd",
   "metadata": {},
   "outputs": [
    {
     "data": {
      "text/plain": [
       "quality_label\n",
       "1.0    1247\n",
       "0.0     864\n",
       "2.0     475\n",
       "3.0     103\n",
       "Name: count, dtype: int64"
      ]
     },
     "execution_count": 1298,
     "metadata": {},
     "output_type": "execute_result"
    }
   ],
   "source": [
    "quality_label_vcounts = y_train.value_counts()\n",
    "quality_label_vcounts"
   ]
  },
  {
   "cell_type": "markdown",
   "id": "69d4766f",
   "metadata": {},
   "source": [
    "# Machine Learning"
   ]
  },
  {
   "cell_type": "code",
   "execution_count": 1299,
   "id": "b24c4a77",
   "metadata": {},
   "outputs": [],
   "source": [
    "# configure sampling\n",
    "# TODO How should I distribute the classes?\n",
    "\n",
    "def calc_undersampling_startegy(y):\n",
    "    '''\n",
    "    calculate undersampling strategy for wine quality label\n",
    "      - undersample majority class to 80%\n",
    "      - undersample other classes to minority class\n",
    "      - keep minority class\n",
    "    '''\n",
    "    UNDERSAMPLING_FAC_MAJ_CLASS=0.8\n",
    "    # quality_label_vcounts = y.value_counts()\n",
    "    unique, counts = np.unique(y, return_counts=True)\n",
    "    quality_label_vcounts = dict(zip(unique,counts))\n",
    "    return {\n",
    "        0: quality_label_vcounts[2], #min(quality_label_vcounts[0], quality_label_vcounts[2]),\n",
    "        1: int(np.floor(UNDERSAMPLING_FAC_MAJ_CLASS*quality_label_vcounts[1])),\n",
    "        2: quality_label_vcounts[2],\n",
    "        3: quality_label_vcounts[3]\n",
    "        }\n",
    "\n",
    "undersampling_strategy = calc_undersampling_startegy\n",
    "# undersampling_strategy = 'auto'\n",
    "oversampling_strategy = 'auto'"
   ]
  },
  {
   "cell_type": "code",
   "execution_count": 1300,
   "id": "de33b7bf",
   "metadata": {},
   "outputs": [
    {
     "data": {
      "text/html": [
       "<style>#sk-container-id-42 {\n",
       "  /* Definition of color scheme common for light and dark mode */\n",
       "  --sklearn-color-text: #000;\n",
       "  --sklearn-color-text-muted: #666;\n",
       "  --sklearn-color-line: gray;\n",
       "  /* Definition of color scheme for unfitted estimators */\n",
       "  --sklearn-color-unfitted-level-0: #fff5e6;\n",
       "  --sklearn-color-unfitted-level-1: #f6e4d2;\n",
       "  --sklearn-color-unfitted-level-2: #ffe0b3;\n",
       "  --sklearn-color-unfitted-level-3: chocolate;\n",
       "  /* Definition of color scheme for fitted estimators */\n",
       "  --sklearn-color-fitted-level-0: #f0f8ff;\n",
       "  --sklearn-color-fitted-level-1: #d4ebff;\n",
       "  --sklearn-color-fitted-level-2: #b3dbfd;\n",
       "  --sklearn-color-fitted-level-3: cornflowerblue;\n",
       "\n",
       "  /* Specific color for light theme */\n",
       "  --sklearn-color-text-on-default-background: var(--sg-text-color, var(--theme-code-foreground, var(--jp-content-font-color1, black)));\n",
       "  --sklearn-color-background: var(--sg-background-color, var(--theme-background, var(--jp-layout-color0, white)));\n",
       "  --sklearn-color-border-box: var(--sg-text-color, var(--theme-code-foreground, var(--jp-content-font-color1, black)));\n",
       "  --sklearn-color-icon: #696969;\n",
       "\n",
       "  @media (prefers-color-scheme: dark) {\n",
       "    /* Redefinition of color scheme for dark theme */\n",
       "    --sklearn-color-text-on-default-background: var(--sg-text-color, var(--theme-code-foreground, var(--jp-content-font-color1, white)));\n",
       "    --sklearn-color-background: var(--sg-background-color, var(--theme-background, var(--jp-layout-color0, #111)));\n",
       "    --sklearn-color-border-box: var(--sg-text-color, var(--theme-code-foreground, var(--jp-content-font-color1, white)));\n",
       "    --sklearn-color-icon: #878787;\n",
       "  }\n",
       "}\n",
       "\n",
       "#sk-container-id-42 {\n",
       "  color: var(--sklearn-color-text);\n",
       "}\n",
       "\n",
       "#sk-container-id-42 pre {\n",
       "  padding: 0;\n",
       "}\n",
       "\n",
       "#sk-container-id-42 input.sk-hidden--visually {\n",
       "  border: 0;\n",
       "  clip: rect(1px 1px 1px 1px);\n",
       "  clip: rect(1px, 1px, 1px, 1px);\n",
       "  height: 1px;\n",
       "  margin: -1px;\n",
       "  overflow: hidden;\n",
       "  padding: 0;\n",
       "  position: absolute;\n",
       "  width: 1px;\n",
       "}\n",
       "\n",
       "#sk-container-id-42 div.sk-dashed-wrapped {\n",
       "  border: 1px dashed var(--sklearn-color-line);\n",
       "  margin: 0 0.4em 0.5em 0.4em;\n",
       "  box-sizing: border-box;\n",
       "  padding-bottom: 0.4em;\n",
       "  background-color: var(--sklearn-color-background);\n",
       "}\n",
       "\n",
       "#sk-container-id-42 div.sk-container {\n",
       "  /* jupyter's `normalize.less` sets `[hidden] { display: none; }`\n",
       "     but bootstrap.min.css set `[hidden] { display: none !important; }`\n",
       "     so we also need the `!important` here to be able to override the\n",
       "     default hidden behavior on the sphinx rendered scikit-learn.org.\n",
       "     See: https://github.com/scikit-learn/scikit-learn/issues/21755 */\n",
       "  display: inline-block !important;\n",
       "  position: relative;\n",
       "}\n",
       "\n",
       "#sk-container-id-42 div.sk-text-repr-fallback {\n",
       "  display: none;\n",
       "}\n",
       "\n",
       "div.sk-parallel-item,\n",
       "div.sk-serial,\n",
       "div.sk-item {\n",
       "  /* draw centered vertical line to link estimators */\n",
       "  background-image: linear-gradient(var(--sklearn-color-text-on-default-background), var(--sklearn-color-text-on-default-background));\n",
       "  background-size: 2px 100%;\n",
       "  background-repeat: no-repeat;\n",
       "  background-position: center center;\n",
       "}\n",
       "\n",
       "/* Parallel-specific style estimator block */\n",
       "\n",
       "#sk-container-id-42 div.sk-parallel-item::after {\n",
       "  content: \"\";\n",
       "  width: 100%;\n",
       "  border-bottom: 2px solid var(--sklearn-color-text-on-default-background);\n",
       "  flex-grow: 1;\n",
       "}\n",
       "\n",
       "#sk-container-id-42 div.sk-parallel {\n",
       "  display: flex;\n",
       "  align-items: stretch;\n",
       "  justify-content: center;\n",
       "  background-color: var(--sklearn-color-background);\n",
       "  position: relative;\n",
       "}\n",
       "\n",
       "#sk-container-id-42 div.sk-parallel-item {\n",
       "  display: flex;\n",
       "  flex-direction: column;\n",
       "}\n",
       "\n",
       "#sk-container-id-42 div.sk-parallel-item:first-child::after {\n",
       "  align-self: flex-end;\n",
       "  width: 50%;\n",
       "}\n",
       "\n",
       "#sk-container-id-42 div.sk-parallel-item:last-child::after {\n",
       "  align-self: flex-start;\n",
       "  width: 50%;\n",
       "}\n",
       "\n",
       "#sk-container-id-42 div.sk-parallel-item:only-child::after {\n",
       "  width: 0;\n",
       "}\n",
       "\n",
       "/* Serial-specific style estimator block */\n",
       "\n",
       "#sk-container-id-42 div.sk-serial {\n",
       "  display: flex;\n",
       "  flex-direction: column;\n",
       "  align-items: center;\n",
       "  background-color: var(--sklearn-color-background);\n",
       "  padding-right: 1em;\n",
       "  padding-left: 1em;\n",
       "}\n",
       "\n",
       "\n",
       "/* Toggleable style: style used for estimator/Pipeline/ColumnTransformer box that is\n",
       "clickable and can be expanded/collapsed.\n",
       "- Pipeline and ColumnTransformer use this feature and define the default style\n",
       "- Estimators will overwrite some part of the style using the `sk-estimator` class\n",
       "*/\n",
       "\n",
       "/* Pipeline and ColumnTransformer style (default) */\n",
       "\n",
       "#sk-container-id-42 div.sk-toggleable {\n",
       "  /* Default theme specific background. It is overwritten whether we have a\n",
       "  specific estimator or a Pipeline/ColumnTransformer */\n",
       "  background-color: var(--sklearn-color-background);\n",
       "}\n",
       "\n",
       "/* Toggleable label */\n",
       "#sk-container-id-42 label.sk-toggleable__label {\n",
       "  cursor: pointer;\n",
       "  display: flex;\n",
       "  width: 100%;\n",
       "  margin-bottom: 0;\n",
       "  padding: 0.5em;\n",
       "  box-sizing: border-box;\n",
       "  text-align: center;\n",
       "  align-items: start;\n",
       "  justify-content: space-between;\n",
       "  gap: 0.5em;\n",
       "}\n",
       "\n",
       "#sk-container-id-42 label.sk-toggleable__label .caption {\n",
       "  font-size: 0.6rem;\n",
       "  font-weight: lighter;\n",
       "  color: var(--sklearn-color-text-muted);\n",
       "}\n",
       "\n",
       "#sk-container-id-42 label.sk-toggleable__label-arrow:before {\n",
       "  /* Arrow on the left of the label */\n",
       "  content: \"▸\";\n",
       "  float: left;\n",
       "  margin-right: 0.25em;\n",
       "  color: var(--sklearn-color-icon);\n",
       "}\n",
       "\n",
       "#sk-container-id-42 label.sk-toggleable__label-arrow:hover:before {\n",
       "  color: var(--sklearn-color-text);\n",
       "}\n",
       "\n",
       "/* Toggleable content - dropdown */\n",
       "\n",
       "#sk-container-id-42 div.sk-toggleable__content {\n",
       "  max-height: 0;\n",
       "  max-width: 0;\n",
       "  overflow: hidden;\n",
       "  text-align: left;\n",
       "  /* unfitted */\n",
       "  background-color: var(--sklearn-color-unfitted-level-0);\n",
       "}\n",
       "\n",
       "#sk-container-id-42 div.sk-toggleable__content.fitted {\n",
       "  /* fitted */\n",
       "  background-color: var(--sklearn-color-fitted-level-0);\n",
       "}\n",
       "\n",
       "#sk-container-id-42 div.sk-toggleable__content pre {\n",
       "  margin: 0.2em;\n",
       "  border-radius: 0.25em;\n",
       "  color: var(--sklearn-color-text);\n",
       "  /* unfitted */\n",
       "  background-color: var(--sklearn-color-unfitted-level-0);\n",
       "}\n",
       "\n",
       "#sk-container-id-42 div.sk-toggleable__content.fitted pre {\n",
       "  /* unfitted */\n",
       "  background-color: var(--sklearn-color-fitted-level-0);\n",
       "}\n",
       "\n",
       "#sk-container-id-42 input.sk-toggleable__control:checked~div.sk-toggleable__content {\n",
       "  /* Expand drop-down */\n",
       "  max-height: 200px;\n",
       "  max-width: 100%;\n",
       "  overflow: auto;\n",
       "}\n",
       "\n",
       "#sk-container-id-42 input.sk-toggleable__control:checked~label.sk-toggleable__label-arrow:before {\n",
       "  content: \"▾\";\n",
       "}\n",
       "\n",
       "/* Pipeline/ColumnTransformer-specific style */\n",
       "\n",
       "#sk-container-id-42 div.sk-label input.sk-toggleable__control:checked~label.sk-toggleable__label {\n",
       "  color: var(--sklearn-color-text);\n",
       "  background-color: var(--sklearn-color-unfitted-level-2);\n",
       "}\n",
       "\n",
       "#sk-container-id-42 div.sk-label.fitted input.sk-toggleable__control:checked~label.sk-toggleable__label {\n",
       "  background-color: var(--sklearn-color-fitted-level-2);\n",
       "}\n",
       "\n",
       "/* Estimator-specific style */\n",
       "\n",
       "/* Colorize estimator box */\n",
       "#sk-container-id-42 div.sk-estimator input.sk-toggleable__control:checked~label.sk-toggleable__label {\n",
       "  /* unfitted */\n",
       "  background-color: var(--sklearn-color-unfitted-level-2);\n",
       "}\n",
       "\n",
       "#sk-container-id-42 div.sk-estimator.fitted input.sk-toggleable__control:checked~label.sk-toggleable__label {\n",
       "  /* fitted */\n",
       "  background-color: var(--sklearn-color-fitted-level-2);\n",
       "}\n",
       "\n",
       "#sk-container-id-42 div.sk-label label.sk-toggleable__label,\n",
       "#sk-container-id-42 div.sk-label label {\n",
       "  /* The background is the default theme color */\n",
       "  color: var(--sklearn-color-text-on-default-background);\n",
       "}\n",
       "\n",
       "/* On hover, darken the color of the background */\n",
       "#sk-container-id-42 div.sk-label:hover label.sk-toggleable__label {\n",
       "  color: var(--sklearn-color-text);\n",
       "  background-color: var(--sklearn-color-unfitted-level-2);\n",
       "}\n",
       "\n",
       "/* Label box, darken color on hover, fitted */\n",
       "#sk-container-id-42 div.sk-label.fitted:hover label.sk-toggleable__label.fitted {\n",
       "  color: var(--sklearn-color-text);\n",
       "  background-color: var(--sklearn-color-fitted-level-2);\n",
       "}\n",
       "\n",
       "/* Estimator label */\n",
       "\n",
       "#sk-container-id-42 div.sk-label label {\n",
       "  font-family: monospace;\n",
       "  font-weight: bold;\n",
       "  display: inline-block;\n",
       "  line-height: 1.2em;\n",
       "}\n",
       "\n",
       "#sk-container-id-42 div.sk-label-container {\n",
       "  text-align: center;\n",
       "}\n",
       "\n",
       "/* Estimator-specific */\n",
       "#sk-container-id-42 div.sk-estimator {\n",
       "  font-family: monospace;\n",
       "  border: 1px dotted var(--sklearn-color-border-box);\n",
       "  border-radius: 0.25em;\n",
       "  box-sizing: border-box;\n",
       "  margin-bottom: 0.5em;\n",
       "  /* unfitted */\n",
       "  background-color: var(--sklearn-color-unfitted-level-0);\n",
       "}\n",
       "\n",
       "#sk-container-id-42 div.sk-estimator.fitted {\n",
       "  /* fitted */\n",
       "  background-color: var(--sklearn-color-fitted-level-0);\n",
       "}\n",
       "\n",
       "/* on hover */\n",
       "#sk-container-id-42 div.sk-estimator:hover {\n",
       "  /* unfitted */\n",
       "  background-color: var(--sklearn-color-unfitted-level-2);\n",
       "}\n",
       "\n",
       "#sk-container-id-42 div.sk-estimator.fitted:hover {\n",
       "  /* fitted */\n",
       "  background-color: var(--sklearn-color-fitted-level-2);\n",
       "}\n",
       "\n",
       "/* Specification for estimator info (e.g. \"i\" and \"?\") */\n",
       "\n",
       "/* Common style for \"i\" and \"?\" */\n",
       "\n",
       ".sk-estimator-doc-link,\n",
       "a:link.sk-estimator-doc-link,\n",
       "a:visited.sk-estimator-doc-link {\n",
       "  float: right;\n",
       "  font-size: smaller;\n",
       "  line-height: 1em;\n",
       "  font-family: monospace;\n",
       "  background-color: var(--sklearn-color-background);\n",
       "  border-radius: 1em;\n",
       "  height: 1em;\n",
       "  width: 1em;\n",
       "  text-decoration: none !important;\n",
       "  margin-left: 0.5em;\n",
       "  text-align: center;\n",
       "  /* unfitted */\n",
       "  border: var(--sklearn-color-unfitted-level-1) 1pt solid;\n",
       "  color: var(--sklearn-color-unfitted-level-1);\n",
       "}\n",
       "\n",
       ".sk-estimator-doc-link.fitted,\n",
       "a:link.sk-estimator-doc-link.fitted,\n",
       "a:visited.sk-estimator-doc-link.fitted {\n",
       "  /* fitted */\n",
       "  border: var(--sklearn-color-fitted-level-1) 1pt solid;\n",
       "  color: var(--sklearn-color-fitted-level-1);\n",
       "}\n",
       "\n",
       "/* On hover */\n",
       "div.sk-estimator:hover .sk-estimator-doc-link:hover,\n",
       ".sk-estimator-doc-link:hover,\n",
       "div.sk-label-container:hover .sk-estimator-doc-link:hover,\n",
       ".sk-estimator-doc-link:hover {\n",
       "  /* unfitted */\n",
       "  background-color: var(--sklearn-color-unfitted-level-3);\n",
       "  color: var(--sklearn-color-background);\n",
       "  text-decoration: none;\n",
       "}\n",
       "\n",
       "div.sk-estimator.fitted:hover .sk-estimator-doc-link.fitted:hover,\n",
       ".sk-estimator-doc-link.fitted:hover,\n",
       "div.sk-label-container:hover .sk-estimator-doc-link.fitted:hover,\n",
       ".sk-estimator-doc-link.fitted:hover {\n",
       "  /* fitted */\n",
       "  background-color: var(--sklearn-color-fitted-level-3);\n",
       "  color: var(--sklearn-color-background);\n",
       "  text-decoration: none;\n",
       "}\n",
       "\n",
       "/* Span, style for the box shown on hovering the info icon */\n",
       ".sk-estimator-doc-link span {\n",
       "  display: none;\n",
       "  z-index: 9999;\n",
       "  position: relative;\n",
       "  font-weight: normal;\n",
       "  right: .2ex;\n",
       "  padding: .5ex;\n",
       "  margin: .5ex;\n",
       "  width: min-content;\n",
       "  min-width: 20ex;\n",
       "  max-width: 50ex;\n",
       "  color: var(--sklearn-color-text);\n",
       "  box-shadow: 2pt 2pt 4pt #999;\n",
       "  /* unfitted */\n",
       "  background: var(--sklearn-color-unfitted-level-0);\n",
       "  border: .5pt solid var(--sklearn-color-unfitted-level-3);\n",
       "}\n",
       "\n",
       ".sk-estimator-doc-link.fitted span {\n",
       "  /* fitted */\n",
       "  background: var(--sklearn-color-fitted-level-0);\n",
       "  border: var(--sklearn-color-fitted-level-3);\n",
       "}\n",
       "\n",
       ".sk-estimator-doc-link:hover span {\n",
       "  display: block;\n",
       "}\n",
       "\n",
       "/* \"?\"-specific style due to the `<a>` HTML tag */\n",
       "\n",
       "#sk-container-id-42 a.estimator_doc_link {\n",
       "  float: right;\n",
       "  font-size: 1rem;\n",
       "  line-height: 1em;\n",
       "  font-family: monospace;\n",
       "  background-color: var(--sklearn-color-background);\n",
       "  border-radius: 1rem;\n",
       "  height: 1rem;\n",
       "  width: 1rem;\n",
       "  text-decoration: none;\n",
       "  /* unfitted */\n",
       "  color: var(--sklearn-color-unfitted-level-1);\n",
       "  border: var(--sklearn-color-unfitted-level-1) 1pt solid;\n",
       "}\n",
       "\n",
       "#sk-container-id-42 a.estimator_doc_link.fitted {\n",
       "  /* fitted */\n",
       "  border: var(--sklearn-color-fitted-level-1) 1pt solid;\n",
       "  color: var(--sklearn-color-fitted-level-1);\n",
       "}\n",
       "\n",
       "/* On hover */\n",
       "#sk-container-id-42 a.estimator_doc_link:hover {\n",
       "  /* unfitted */\n",
       "  background-color: var(--sklearn-color-unfitted-level-3);\n",
       "  color: var(--sklearn-color-background);\n",
       "  text-decoration: none;\n",
       "}\n",
       "\n",
       "#sk-container-id-42 a.estimator_doc_link.fitted:hover {\n",
       "  /* fitted */\n",
       "  background-color: var(--sklearn-color-fitted-level-3);\n",
       "}\n",
       "</style><div id=\"sk-container-id-42\" class=\"sk-top-container\"><div class=\"sk-text-repr-fallback\"><pre>Pipeline(steps=[(&#x27;scaler&#x27;, RobustScaler()),\n",
       "                (&#x27;undersampling&#x27;,\n",
       "                 RandomUnderSampler(random_state=42,\n",
       "                                    sampling_strategy=&lt;function calc_undersampling_startegy at 0x000001A0E625BE20&gt;)),\n",
       "                (&#x27;oversampling&#x27;, SMOTE(random_state=42)),\n",
       "                (&#x27;classifier&#x27;,\n",
       "                 RandomForestClassifier(n_jobs=-1, oob_score=True,\n",
       "                                        random_state=42))])</pre><b>In a Jupyter environment, please rerun this cell to show the HTML representation or trust the notebook. <br />On GitHub, the HTML representation is unable to render, please try loading this page with nbviewer.org.</b></div><div class=\"sk-container\" hidden><div class=\"sk-item sk-dashed-wrapped\"><div class=\"sk-label-container\"><div class=\"sk-label  sk-toggleable\"><input class=\"sk-toggleable__control sk-hidden--visually\" id=\"sk-estimator-id-206\" type=\"checkbox\" ><label for=\"sk-estimator-id-206\" class=\"sk-toggleable__label  sk-toggleable__label-arrow\"><div><div>Pipeline</div></div><div><span class=\"sk-estimator-doc-link \">i<span>Not fitted</span></span></div></label><div class=\"sk-toggleable__content \"><pre>Pipeline(steps=[(&#x27;scaler&#x27;, RobustScaler()),\n",
       "                (&#x27;undersampling&#x27;,\n",
       "                 RandomUnderSampler(random_state=42,\n",
       "                                    sampling_strategy=&lt;function calc_undersampling_startegy at 0x000001A0E625BE20&gt;)),\n",
       "                (&#x27;oversampling&#x27;, SMOTE(random_state=42)),\n",
       "                (&#x27;classifier&#x27;,\n",
       "                 RandomForestClassifier(n_jobs=-1, oob_score=True,\n",
       "                                        random_state=42))])</pre></div> </div></div><div class=\"sk-serial\"><div class=\"sk-item\"><div class=\"sk-estimator  sk-toggleable\"><input class=\"sk-toggleable__control sk-hidden--visually\" id=\"sk-estimator-id-207\" type=\"checkbox\" ><label for=\"sk-estimator-id-207\" class=\"sk-toggleable__label  sk-toggleable__label-arrow\"><div><div>RobustScaler</div></div><div><a class=\"sk-estimator-doc-link \" rel=\"noreferrer\" target=\"_blank\" href=\"https://scikit-learn.org/1.6/modules/generated/sklearn.preprocessing.RobustScaler.html\">?<span>Documentation for RobustScaler</span></a></div></label><div class=\"sk-toggleable__content \"><pre>RobustScaler()</pre></div> </div></div><div class=\"sk-item\"><div class=\"sk-estimator  sk-toggleable\"><input class=\"sk-toggleable__control sk-hidden--visually\" id=\"sk-estimator-id-208\" type=\"checkbox\" ><label for=\"sk-estimator-id-208\" class=\"sk-toggleable__label  sk-toggleable__label-arrow\"><div><div>RandomUnderSampler</div></div></label><div class=\"sk-toggleable__content \"><pre>RandomUnderSampler(random_state=42,\n",
       "                   sampling_strategy=&lt;function calc_undersampling_startegy at 0x000001A0E625BE20&gt;)</pre></div> </div></div><div class=\"sk-item\"><div class=\"sk-estimator  sk-toggleable\"><input class=\"sk-toggleable__control sk-hidden--visually\" id=\"sk-estimator-id-209\" type=\"checkbox\" ><label for=\"sk-estimator-id-209\" class=\"sk-toggleable__label  sk-toggleable__label-arrow\"><div><div>SMOTE</div></div></label><div class=\"sk-toggleable__content \"><pre>SMOTE(random_state=42)</pre></div> </div></div><div class=\"sk-item\"><div class=\"sk-estimator  sk-toggleable\"><input class=\"sk-toggleable__control sk-hidden--visually\" id=\"sk-estimator-id-210\" type=\"checkbox\" ><label for=\"sk-estimator-id-210\" class=\"sk-toggleable__label  sk-toggleable__label-arrow\"><div><div>RandomForestClassifier</div></div><div><a class=\"sk-estimator-doc-link \" rel=\"noreferrer\" target=\"_blank\" href=\"https://scikit-learn.org/1.6/modules/generated/sklearn.ensemble.RandomForestClassifier.html\">?<span>Documentation for RandomForestClassifier</span></a></div></label><div class=\"sk-toggleable__content \"><pre>RandomForestClassifier(n_jobs=-1, oob_score=True, random_state=42)</pre></div> </div></div></div></div></div></div>"
      ],
      "text/plain": [
       "Pipeline(steps=[('scaler', RobustScaler()),\n",
       "                ('undersampling',\n",
       "                 RandomUnderSampler(random_state=42,\n",
       "                                    sampling_strategy=<function calc_undersampling_startegy at 0x000001A0E625BE20>)),\n",
       "                ('oversampling', SMOTE(random_state=42)),\n",
       "                ('classifier',\n",
       "                 RandomForestClassifier(n_jobs=-1, oob_score=True,\n",
       "                                        random_state=42))])"
      ]
     },
     "execution_count": 1300,
     "metadata": {},
     "output_type": "execute_result"
    }
   ],
   "source": [
    "# Build Pipeline\n",
    "pipe = Pipeline(steps=[\n",
    "        (\"scaler\", RobustScaler()),\n",
    "        # (\"scaler\", MinMaxScaler()),\n",
    "        # (\"scaler\", StandardScaler()),\n",
    "        # ('pca', PCA(n_components=7)),\n",
    "        ('undersampling', RandomUnderSampler(sampling_strategy=undersampling_strategy, random_state=RANDOM_STATE)),\n",
    "        ('oversampling', SMOTE(sampling_strategy=oversampling_strategy, random_state=RANDOM_STATE)),\n",
    "        # ('combinedsampling', SMOTEENN(sampling_strategy=oversampling_strategy, random_state=RANDOM_STATE)),\n",
    "        (\"classifier\", RandomForestClassifier(n_estimators=100, random_state=RANDOM_STATE, n_jobs=-1, oob_score=True)),\n",
    "        # (\"classifier\", SVC())\n",
    "        ])\n",
    "pipe"
   ]
  },
  {
   "cell_type": "code",
   "execution_count": null,
   "id": "ae84e644",
   "metadata": {},
   "outputs": [
    {
     "name": "stdout",
     "output_type": "stream",
     "text": [
      "Best parameters for RandomForestClassifier: {'classifier__criterion': 'entropy', 'classifier__max_depth': None, 'classifier__min_samples_leaf': 1, 'classifier__min_samples_split': 2, 'classifier__n_estimators': 1000}\n",
      "Best score: 0.5539756965945231\n"
     ]
    }
   ],
   "source": [
    "# Hyperparameter tuning\n",
    "from sklearn.model_selection import GridSearchCV, RandomizedSearchCV\n",
    "from sklearn.metrics import make_scorer\n",
    "# from skopt import BayesSearchCV\n",
    "\n",
    "# Define the parameter grid for RandomForestClassifier\n",
    "param_grid_rf = {\n",
    "    'classifier__n_estimators': [100, 1000], # 1000\n",
    "    'classifier__max_depth': [None], # None\n",
    "    'classifier__min_samples_split': [2, 5, 10], # 2\n",
    "    'classifier__min_samples_leaf': [1, 3, 5], # 1\n",
    "    'classifier__criterion': ['entropy']\n",
    "    # 'classifier__random_state': [RANDOM_STATE]\n",
    "}\n",
    "\n",
    "# # Create a custom scoring function for the F1-score of the target class\n",
    "# def f1_score_class_high(y_true, y_pred):\n",
    "#     f1_scores = f1_score(y_true, y_pred, average=None)\n",
    "#     # Assuming your target class has index 1\n",
    "#     if len(f1_scores) > 2:\n",
    "#         score = f1_scores[2]\n",
    "#         if len(f1_scores) > 3:\n",
    "#             score += f1_scores[3]\n",
    "#             score /= 2\n",
    "#     else:\n",
    "#         score = 0.0  # Handle cases where the class might not be present in a fold\n",
    "#     return score\n",
    "\n",
    "# Create a scorer object from your custom function\n",
    "# scorer = make_scorer(f1_score_class_high)\n",
    "# scorer = make_scorer(accuracy_score)\n",
    "scorer = make_scorer(lambda y_true, y_pred: f1_score(y_true, y_pred, average='weighted'))\n",
    "\n",
    "cv = StratifiedKFold(n_splits=5)\n",
    "\n",
    "# grid_search_rf = GridSearchCV(RandomForestClassifier(), param_grid_rf, cv=5, scoring=scorer)\n",
    "grid_search_rf = GridSearchCV(pipe, param_grid_rf, cv=cv, scoring=scorer)\n",
    "\n",
    "# Fit GridSearchCV to the training data\n",
    "grid_search_rf.fit(X_train, y_train)\n",
    "\n",
    "# Get the best parameters and the best score\n",
    "best_params_rf = grid_search_rf.best_params_\n",
    "best_score_rf = grid_search_rf.best_score_\n",
    "\n",
    "print(\"Best parameters for RandomForestClassifier:\", best_params_rf)\n",
    "print(\"Best score:\", best_score_rf)"
   ]
  },
  {
   "cell_type": "code",
   "execution_count": 1309,
   "id": "b3ff5648",
   "metadata": {},
   "outputs": [],
   "source": [
    "pipe[-1].set_params(**{key.replace('classifier__',''): val for key,val in best_params_rf.items()})\n",
    "pipe.fit(X_train, y_train)\n",
    "y_pred = pipe.predict(X_test)"
   ]
  },
  {
   "cell_type": "markdown",
   "id": "f92d9374",
   "metadata": {},
   "source": [
    "# Evaluate"
   ]
  },
  {
   "cell_type": "markdown",
   "id": "dd75daac",
   "metadata": {},
   "source": [
    "## Baseline"
   ]
  },
  {
   "cell_type": "code",
   "execution_count": 1310,
   "id": "b458bcac",
   "metadata": {},
   "outputs": [
    {
     "name": "stdout",
     "output_type": "stream",
     "text": [
      "Baseline probability that a produced wine might be high quality is 23.07%\n",
      "Baseline accuracy therefore is () 76.93%\n"
     ]
    }
   ],
   "source": [
    "# fraction of high quality labeled wines\n",
    "probs_quality_label = wine.quality_label.value_counts() / wine.quality_label.sum()\n",
    "prob_high_quality = probs_quality_label[2]+probs_quality_label[3]\n",
    "print(f'Baseline probability that a produced wine might be high quality is {prob_high_quality:.2%}')\n",
    "print(f'Baseline accuracy therefore is () {1-prob_high_quality:.2%}')"
   ]
  },
  {
   "cell_type": "markdown",
   "id": "b7d1e43b",
   "metadata": {},
   "source": [
    "## Model evaluation"
   ]
  },
  {
   "cell_type": "code",
   "execution_count": 1311,
   "id": "101c61e5",
   "metadata": {},
   "outputs": [
    {
     "name": "stdout",
     "output_type": "stream",
     "text": [
      "R^2 Training Score:\t 0.896\n",
      "OOB Score:\t\t 0.802\n",
      "R^2 Validation Score:\t 0.572\n"
     ]
    }
   ],
   "source": [
    "print('R^2 Training Score:\\t {:.3f}'.format(pipe.score(X_train, y_train)))\n",
    "if hasattr(pipe[-1], 'oob_score_'): \n",
    "    print('OOB Score:\\t\\t {:.3f}'.format(pipe[-1].oob_score_))\n",
    "print('R^2 Validation Score:\\t {:.3f}'.format(pipe.score(X_test, y_test)))"
   ]
  },
  {
   "cell_type": "markdown",
   "id": "51de6d71",
   "metadata": {},
   "source": [
    "Overfitting might be present:\n",
    "- Trainings and validation score are widely different.\n",
    "- However, OOB score is quite high, meaning it performs ok on unseen data, and it is quite close to the Training Score. "
   ]
  },
  {
   "cell_type": "code",
   "execution_count": 1312,
   "id": "2be6caf4",
   "metadata": {},
   "outputs": [
    {
     "data": {
      "text/plain": [
       "0.5720653789004457"
      ]
     },
     "execution_count": 1312,
     "metadata": {},
     "output_type": "execute_result"
    }
   ],
   "source": [
    "# accuracy score\n",
    "# pipe.score(X_test, y_test)\n",
    "accuracy = accuracy_score(y_test, y_pred)\n",
    "accuracy"
   ]
  },
  {
   "cell_type": "code",
   "execution_count": 1314,
   "id": "6f408425",
   "metadata": {},
   "outputs": [
    {
     "name": "stdout",
     "output_type": "stream",
     "text": [
      "f1score 0.0 \t 0.6559633027522935\n",
      "f1score 1.0 \t 0.5724137931034483\n",
      "f1score 2.0 \t 0.5\n",
      "f1score 3.0 \t 0.3142857142857143\n"
     ]
    }
   ],
   "source": [
    "precision, recall, f1score, support = precision_recall_fscore_support(y_test, y_pred, labels=qlabels)\n",
    "for qlabel, f1 in zip(qlabels, f1score):\n",
    "    print('f1score', qlabel, '\\t', f1)"
   ]
  },
  {
   "cell_type": "code",
   "execution_count": 1315,
   "id": "9cdf7585",
   "metadata": {},
   "outputs": [
    {
     "data": {
      "image/png": "[encoded data removed]",
      "text/plain": [
       "<Figure size 640x480 with 2 Axes>"
      ]
     },
     "metadata": {},
     "output_type": "display_data"
    }
   ],
   "source": [
    "# confusion matrix\n",
    "cm = confusion_matrix(y_test, y_pred)\n",
    "if target == 'quality_label':\n",
    "    ConfusionMatrixDisplay(cm, display_labels=categories_in_order).plot()\n",
    "else:\n",
    "    ConfusionMatrixDisplay(cm, display_labels=[3,4,5,6,7,8]).plot()"
   ]
  },
  {
   "cell_type": "code",
   "execution_count": 1316,
   "id": "6f6efc75",
   "metadata": {},
   "outputs": [
    {
     "name": "stdout",
     "output_type": "stream",
     "text": [
      "              precision    recall  f1-score   support\n",
      "\n",
      "         0.0      0.662     0.650     0.656       220\n",
      "         1.0      0.608     0.541     0.572       307\n",
      "         2.0      0.442     0.575     0.500       113\n",
      "         3.0      0.297     0.333     0.314        33\n",
      "\n",
      "    accuracy                          0.572       673\n",
      "   macro avg      0.502     0.525     0.511       673\n",
      "weighted avg      0.583     0.572     0.575       673\n",
      "\n"
     ]
    }
   ],
   "source": [
    "# classification report\n",
    "# TODO where do you want to go? what are the requirements?\n",
    "print(classification_report(y_test, y_pred, digits=3))"
   ]
  },
  {
   "cell_type": "code",
   "execution_count": 1259,
   "id": "1bb370fa",
   "metadata": {},
   "outputs": [
    {
     "data": {
      "text/plain": [
       "np.float64(0.3525239523341914)"
      ]
     },
     "execution_count": 1259,
     "metadata": {},
     "output_type": "execute_result"
    }
   ],
   "source": [
    "# cohen kappa\n",
    "cohen_kappa = cohen_kappa_score(y_test, y_pred)\n",
    "cohen_kappa"
   ]
  },
  {
   "cell_type": "markdown",
   "id": "f7457446",
   "metadata": {},
   "source": [
    "How to interpret Cohen Kappa:\n",
    "- \\>= 0.75: good\n",
    "- 0.40 - 0.60: OK \n",
    "- < 0.40: fair, be sceptical\n",
    "- 0: Random\n",
    "- <0: worse than random "
   ]
  },
  {
   "cell_type": "markdown",
   "id": "89772c78",
   "metadata": {},
   "source": [
    "## Feature Importances\n",
    "\n",
    "Compare feature importances to correlations to quality: the ranking should be kind of similar, otherwise the model might rely on noisy data."
   ]
  },
  {
   "cell_type": "code",
   "execution_count": 1260,
   "id": "aa36434c",
   "metadata": {},
   "outputs": [
    {
     "name": "stdout",
     "output_type": "stream",
     "text": [
      "alcohol                 0.154445\n",
      "density                 0.105071\n",
      "chlorides               0.090529\n",
      "volatile_acidity        0.090055\n",
      "total_sulfur_dioxide    0.086709\n",
      "free_sulfur_dioxide     0.083010\n",
      "fixed_acidity           0.081538\n",
      "ph                      0.078519\n",
      "residual_sugar          0.077695\n",
      "citric_acid             0.077586\n",
      "sulphates               0.074842\n",
      "dtype: float64\n"
     ]
    },
    {
     "data": {
      "image/png": "[encoded data removed]",
      "text/plain": [
       "<Figure size 640x480 with 1 Axes>"
      ]
     },
     "metadata": {},
     "output_type": "display_data"
    }
   ],
   "source": [
    "# feature importances\n",
    "if hasattr(pipe[-1], 'feature_importances_'):\n",
    "    feature_importances = pd.Series(pipe[-1].feature_importances_, index=X.columns).sort_values(ascending=False)\n",
    "    print(feature_importances)\n",
    "    sns.barplot(feature_importances, orient='h')"
   ]
  },
  {
   "cell_type": "markdown",
   "id": "11b15745",
   "metadata": {},
   "source": [
    "### Permutation Feature Importances\n",
    "\n",
    "- Impact of individual feature permutations on predictions. \n",
    "- This method involves randomly shuffling a single feature's values and measuring the resulting performance decrease (e.g., accuracy, F1-score). "
   ]
  },
  {
   "cell_type": "code",
   "execution_count": 1261,
   "id": "016db619",
   "metadata": {},
   "outputs": [],
   "source": [
    "# Permutation feature importance\n",
    "result = permutation_importance(pipe, X_test, y_test, n_repeats=10, random_state=0, n_jobs=-1)\n",
    "perm_imp_df = pd.DataFrame({\n",
    "    'Feature': features, \n",
    "    'Permutation Importance': result.importances_mean}).sort_values('Permutation Importance', ascending=False)\n"
   ]
  },
  {
   "cell_type": "code",
   "execution_count": 1262,
   "id": "0f575e36",
   "metadata": {},
   "outputs": [
    {
     "name": "stdout",
     "output_type": "stream",
     "text": [
      "                 Feature  Permutation Importance\n",
      "10               alcohol                0.082615\n",
      "2       volatile_acidity                0.049034\n",
      "6    free_sulfur_dioxide                0.026895\n",
      "9                density                0.016642\n",
      "4              chlorides                0.014710\n",
      "5   total_sulfur_dioxide                0.012630\n",
      "7              sulphates                0.010253\n",
      "1          fixed_acidity                0.007727\n",
      "8         residual_sugar                0.003566\n",
      "3            citric_acid                0.002675\n",
      "0                     ph               -0.002080\n"
     ]
    },
    {
     "data": {
      "image/png": "[encoded data removed]",
      "text/plain": [
       "<Figure size 640x480 with 1 Axes>"
      ]
     },
     "metadata": {},
     "output_type": "display_data"
    }
   ],
   "source": [
    "print(perm_imp_df)\n",
    "sns.barplot(perm_imp_df, y='Feature', x='Permutation Importance', orient='h');"
   ]
  },
  {
   "cell_type": "markdown",
   "id": "42256408",
   "metadata": {},
   "source": [
    "### Comments on Feature Importances\n",
    "- As expected from oenologists alcohol is by far the most important feature. It is seen as the carrier for aroma and indicates a complete possibly good fermentation process.\n",
    "- The following importances do not vary too much, i.e. each feature is almost equally important.\n",
    "- The model heavily relies on the following features in order:\n",
    "  - density, which is measure for sweetness and aroma.  \n",
    "  - volatile acidity as a measure of aging \n",
    "  - ph the content of acids\n",
    "  - total and free sulfur dioxide as a measure of age\n",
    "  - residual sugar whcih determines the sweetness of wines\n",
    "  - sulphates which are preservatives\n",
    "  - chlorides for saltiness\n",
    "  - fixed acidity\n",
    "  - citric acid"
   ]
  },
  {
   "cell_type": "markdown",
   "id": "df9c7344",
   "metadata": {},
   "source": [
    "The permutation on feature importances shows a different and more pronounced order of features than the built-in feature importances: \n",
    "- The model heavily relies on Alcohol, Volatile Acidity, Free Sulfur Dioxide;\n",
    "- It strongly relies on Density, Chlorides, Total Sulfur Dioxide.\n",
    "- Interestingly Fixed \n",
    "- Citric Acid are the least important as well.\n",
    "- pH is even negative.\n",
    "\n",
    "The result is closer to the correlation matrix result.\n",
    "\n",
    "- Volatile Acidity and Free Sulfur Dioxide are more important than shown by the other methods.\n",
    "Most surprisingly:\n",
    "- "
   ]
  },
  {
   "attachments": {
    "image.png": {
     "image/png": "[encoded data removed]"
    }
   },
   "cell_type": "markdown",
   "id": "afeba460",
   "metadata": {},
   "source": [
    "### Comparison to Correlation Matrix \n",
    "- The model quite different from the correlation matrix.\n",
    "  - Similarities: The dominant features are alcohol, density, \n",
    "  - Differences: \n",
    "    - It more strongly relies on Volatile Acidity and Free Sulfur Dioxide, less on Density to predict quality.\n",
    "- Conclusions / Possibilities\n",
    "  - Observation underlines non-linear, correlated nature of the problem.\n",
    "  - Might hint to overfitting: The model pays more attention to the possibly noisy data: free sulfur dioxide and Volatile Acidity.\n",
    "\n",
    "![image.png](attachment:image.png)"
   ]
  },
  {
   "cell_type": "markdown",
   "id": "622b4fcb",
   "metadata": {},
   "source": [
    "### SHAP Feature Importances"
   ]
  },
  {
   "cell_type": "code",
   "execution_count": 1203,
   "id": "d5ce45b0",
   "metadata": {},
   "outputs": [],
   "source": [
    "# # SHAP Explainer\n",
    "# if  DO_SHAP_EXPLAINER:\n",
    "#     preprocessor = Pipeline(pipe.steps[:-1])\n",
    "#     X_train_transformed, y_train_transformed = preprocessor.fit_resample(X_train, y_train)\n",
    "#     X_test_transformed, y_test_transformed = preprocessor.fit_resample(X_test, y_test)\n",
    "#     explainer = shap.Explainer(pipe[-1], X_test_transformed) # Transform training data\n",
    "#     shap_values = explainer(X_test_transformed)\n",
    "\n",
    "#     # pipeline_predict: is somehow very slow\n",
    "#     # explainer = shap.Explainer(pipe.predict, X_train)\n",
    "#     # shap_values = explainer(X_test)\n",
    "\n",
    "#     # does not exist yet\n",
    "#     # explainer = shap.PipelineExplainer(pipe, X_train)\n",
    "#     # shap_values = explainer_pipeline(X_test)\n",
    "\n",
    "#     # Waterfall plot for the first observation\n",
    "#     shap.waterfall_plot(shap_values[0])"
   ]
  },
  {
   "cell_type": "markdown",
   "id": "628e3637",
   "metadata": {},
   "source": [
    "## Collinearity"
   ]
  },
  {
   "cell_type": "code",
   "execution_count": 1263,
   "id": "4961b98d",
   "metadata": {},
   "outputs": [
    {
     "name": "stdout",
     "output_type": "stream",
     "text": [
      "                 Feature          VIF\n",
      "8         residual_sugar     3.743881\n",
      "4              chlorides     8.319154\n",
      "6    free_sulfur_dioxide    11.161226\n",
      "2       volatile_acidity    12.219372\n",
      "3            citric_acid    16.709718\n",
      "7              sulphates    26.363454\n",
      "5   total_sulfur_dioxide    26.704082\n",
      "1          fixed_acidity   106.610546\n",
      "10               alcohol   131.305124\n",
      "0                     ph   641.289066\n",
      "9                density  1153.433851\n"
     ]
    }
   ],
   "source": [
    "# Calculate VIF for each feature\n",
    "from statsmodels.stats.outliers_influence import variance_inflation_factor\n",
    "\n",
    "vif_data = pd.DataFrame()\n",
    "vif_data[\"Feature\"] = X_train.columns\n",
    "vif_data[\"VIF\"] = [variance_inflation_factor(X_train.values, i) for i in range(X_train.shape[1])]\n",
    "\n",
    "print(vif_data.sort_values('VIF'))"
   ]
  },
  {
   "cell_type": "markdown",
   "id": "ed6c14f0",
   "metadata": {},
   "source": [
    "The high VIF numbers indicate that features are strongly related:\n",
    "- Density has by far the highest VIF, which is not surprising, since all quantities are somehow related to density.\n",
    "- The same for pH and acids; and alcohol. "
   ]
  },
  {
   "cell_type": "markdown",
   "id": "8883c6fd",
   "metadata": {},
   "source": [
    "## Condition number"
   ]
  },
  {
   "cell_type": "code",
   "execution_count": 1265,
   "id": "279a8f53",
   "metadata": {},
   "outputs": [
    {
     "name": "stdout",
     "output_type": "stream",
     "text": [
      "Condition Number: 8899.75045533867\n"
     ]
    }
   ],
   "source": [
    "from numpy.linalg import cond\n",
    "\n",
    "# Calculate the condition number\n",
    "condition_number = cond(X_train)\n",
    "print(f\"Condition Number: {condition_number}\")"
   ]
  },
  {
   "cell_type": "markdown",
   "id": "a5952d35",
   "metadata": {},
   "source": [
    "## Cross Validation"
   ]
  },
  {
   "cell_type": "code",
   "execution_count": 1266,
   "id": "db6a69c6",
   "metadata": {},
   "outputs": [],
   "source": [
    "def print_cross_val_scores(scores):\n",
    "    print(\"\\nCross-validation scores:\", scores)\n",
    "    print(\"Mean accuracy:\", np.mean(scores))\n",
    "    print(\"Standard deviation of accuracy:\", np.std(scores))\n",
    "    return None"
   ]
  },
  {
   "cell_type": "code",
   "execution_count": 1272,
   "id": "96a03686",
   "metadata": {},
   "outputs": [
    {
     "name": "stdout",
     "output_type": "stream",
     "text": [
      "\n",
      "Cross-validation scores: [0.52423672 0.53729806 0.48991939 0.54345523 0.53220715 0.58297055\n",
      " 0.50899864 0.50529555 0.56344944 0.51610428]\n",
      "Mean accuracy: 0.5303935016663537\n",
      "Standard deviation of accuracy: 0.026545245991932604\n",
      "\n",
      "Cross-validation scores: [0.52818991 0.54302671 0.48511905 0.54464286 0.5327381  0.57440476\n",
      " 0.49404762 0.5        0.55952381 0.50595238]\n",
      "Mean accuracy: 0.5267645188639254\n",
      "Standard deviation of accuracy: 0.028140359485561664\n"
     ]
    }
   ],
   "source": [
    "# Stratified k fold\n",
    "if DO_CROSS_VAL:\n",
    "    sk_folds = StratifiedKFold(n_splits = 10)#, shuffle=False, random_state=RANDOM_STATE)\n",
    "    f1_weighted = cross_val_score(pipe, X, y, cv=sk_folds, scoring='f1_weighted', n_jobs=-1)\n",
    "    accuracy = cross_val_score(pipe, X, y, cv=sk_folds, scoring='accuracy', n_jobs=-1)\n",
    "    print_cross_val_scores(f1_weighted)\n",
    "    print_cross_val_scores(accuracy)"
   ]
  },
  {
   "cell_type": "code",
   "execution_count": 1270,
   "id": "00867795",
   "metadata": {},
   "outputs": [
    {
     "name": "stdout",
     "output_type": "stream",
     "text": [
      "\n",
      "Cross-validation scores: [0.56590684 0.55104063 0.53221011 0.53617443 0.54707631 0.52824579\n",
      " 0.55401388 0.55996036 0.56491576 0.52428147]\n",
      "Mean accuracy: 0.546382556987116\n",
      "Standard deviation of accuracy: 0.01453242744481657\n"
     ]
    }
   ],
   "source": [
    "# Repeated Random Test-Train Splits\n",
    "if DO_CROSS_VAL:\n",
    "    kfold2 = ShuffleSplit(n_splits=10, test_size=0.30, random_state=100)\n",
    "    scores = cross_val_score(pipe, X, y, cv=kfold2)\n",
    "    print_cross_val_scores(scores)"
   ]
  },
  {
   "cell_type": "markdown",
   "id": "89d1bf44",
   "metadata": {},
   "source": [
    "* The accuracy from cross validation is lower than the above calculated accuracy. Reasons could be: \n",
    "  * class imbalance \n",
    "  * overfitting\n",
    "* The standard deviation is low, indicating that the model is well fitted and might not be overfitted."
   ]
  },
  {
   "cell_type": "markdown",
   "id": "03e4d6e6",
   "metadata": {},
   "source": [
    "# Notes\n",
    "\n",
    "## Open Questions / Tasks\n",
    "- Which model to use? Other models that might be useful:\n",
    "  - random forest\n",
    "  - gradient boosting tree\n",
    "  - neural network\n",
    "- How to tune the model? Hyperparameter Tuning later on\n",
    "- EDA: What's the connection? Can another feature be thrown out in order to improve the ML result?\n",
    "\n",
    "## Requirements\n",
    "\n",
    "### What does the user want?\n",
    "* A process to simply determine if the produced wine might be high quality or not.\n",
    "* A simple process could look like this:\n",
    "  * Measure the basic properties (they might have to measured anyways)\n",
    "    * residual sugar, ph, density, total sulfur dioxide, fixed and volatile acidity, alcohol\n",
    "  * If possible, measure the more advanced features: citric acid, chlorides, free sulfur dioxides, sulphates\n",
    "  * Use the model to infer possible quality rating.\n",
    "  * Compare the result with the taste of the wine to omit false negative, possibly invite a taster.\n",
    "  * If good then set the price and marketing strategy appropriately \n",
    "\n",
    "### How to setup the model?\n",
    "\n",
    "1. As many high quality wines predicted correctly.\n",
    "   1. high f1-score for high quality: wine that is actually high quality should be predicted as high quality\n",
    "2. Reduce low quality wine creep, i.e. low quality wine predicted as high quality wine.\n",
    "   1. high f1-score for low quality: \n",
    "3. Accuracy as high as possible."
   ]
  },
  {
   "cell_type": "markdown",
   "id": "5e0fd334",
   "metadata": {},
   "source": [
    "## Results\n",
    "\n",
    "* Tune Target **Quality Label**\n",
    "  * With the original quality label definition no high quality wine could be predicted correctly.\n",
    "  * The high quality wine group is too small!\n",
    "  * Oversampling and Undersampling further improves the model, see below.\n",
    "  * Test with more quality levels, in order to emphasize the high quality features:\n",
    "    * Good result according to confusion matrix, although accuracy is significantly lower.\n",
    "    * Pros: Exceptional wines can be classified ok manner.\n",
    "    * Cons: Low precision on exceptional wines.\n",
    "    * Conlcusion: \n",
    "      * not enough high quality data to predict high quality wines\n",
    "      * stick to 3 labels for now\n",
    "    * Stack another model on top to differentiate between high and exceptional?\n",
    "* **Model selection**: compare SVC and RandomForest\n",
    "  * overall RandomForest yields better results\n",
    "  * however SVC is great on recall for high quality\n",
    "  * can the algorithms be combined? yes! stacking\n",
    "* Which is the appropriate **scaling method**?\n",
    "  * Compare RobustScaler and MinMaxScaler\n",
    "  * Result: RobustScaler is slightly better for determining high quality wines\n",
    "  * What is the influence of the outliers? Removing Outliers before and after\n",
    "* **Dealing with outliers**\n",
    "  * Remove all outliers\n",
    "    * better confusion matrix: Less bad wine is predicted as higher quality; medium wine is more balanced. \n",
    "    * lower accuracy score, but better precision, recall, precision. \n",
    "  * Remove low quality outliers: Improvement for all scores\n",
    "    * best result with quality <= 6\n",
    "    * skew and kurtosis can be reduced with outlier removal.\n",
    "  * Remove low quality outliers and outliers determined by IsolationForest:\n",
    "    * best result with quality <= 7: this seems a bit random!\n",
    "    * improvement of the result!\n",
    "  * What happens if the high quality outliers are only used for training or testing? \n",
    "* **Oversampling and Undersampling**\n",
    "  * smearing of the confusion matrix\n",
    "  * leads to slighty lower accuracy, but higher f1 scores for low and high quality\n",
    "  * major improvement for high quality!\n",
    "  * With and without outliers? \n",
    "  * What about scaling?\n",
    "* **Feature selection**\n",
    "  * What is the influence of the other steps on this topic? \n",
    "  * **Overall result**: Until now, the best results were achieved when all original features are kept.\n",
    "    * It seems that all features play a kind of crucial role in this classification problem!\n",
    "    * Why is this? Although the correlation matrix indicates that collinearity effects might be present, it seems that non-linear effects are more important. This underlines the non-linear, interdependent nature of this problem and calls for machine learning models.\n",
    "  * Remove features with the lowest impact on quality (citric acid, sulphates, free sulfur dioxide): makes it worse!\n",
    "  * Remove features which are strongly correlated to each other in order to omit collinearity effects:\n",
    "    * alcohol, density, residual sugar are strongly correlated\n",
    "    * remove residual sugar: no improvement\n",
    "    * remove ph, because it's kind of similar to the acids, it may represent acids that are not yet included; it could simplify model interpretation: no improvement, only a slight difference \n",
    "    * remove acids: no improvement\n",
    "    * remove small values with little spread depending on histogram because the introduce noise, which are sulphates: no improvement \n",
    "  * Remove features with high VIF scores: no improvement\n",
    "  * Remove features by applying PCA: Did not yield a better result, because it's a non-linear problem!\n",
    "  * Summarize features and replace others\n",
    "    * sulfur dioxide ratio of free sulfur dioxide or both sulfur dioxide quantities: did not improve the result\n",
    "    * acid ratio instead: looked promising, but no improvement\n",
    "    * total acid instead of acids: no improvement; the quantity is mainly driven by Fixed Acid and the features of the other acids are lost \n",
    "    * residual sugar * density * alcohol: did not make sense until; proper normalization is necessary\n",
    "* Use **Quality instead of Quality Label**\n",
    "  * similar results to modified quality label\n",
    "  * low quality wines are predicted to be higher quality; high quality wines tend to be rated with lower quality. \n",
    "    * Cut off very low quality wines? \n",
    "    * What to do about imbalance in data set?\n",
    "      * Oversamplig does not work here (before it has not really changed the confusion matrix).\n",
    "      * Use cross validation to check for overfitting effects\n",
    "* **Cross validation**\n",
    "  * What is the result of cross validation? What is used for? What does validation exactly mean? Cross validation yields an interesting result: normally the model performs better in cross validation, however, in this case this is not the case."
   ]
  },
  {
   "cell_type": "markdown",
   "id": "8d4d2e56",
   "metadata": {},
   "source": [
    "# Presentation\n",
    "\n",
    "1. Introduction slide\n",
    "2. Agenda\n",
    "3. EDA\n",
    "4. Machine Learning\n",
    "   2. Configuration and Tuning: What was done and why? The road to the model\n",
    "      1. Model: RandomForestClassifier vs SVM (vs ???)\n",
    "      2. Scaling: RobustScaler vs MinMaxScaler\n",
    "      3. Imbalanced data: Undersampling, Oversampling\n",
    "      4. Cross validation: What does the std tell us about the model?\n",
    "   3. What about the outliers?\n",
    "      1. I removed the low quality outliers.\n",
    "      2. Improvement of the model: Accuracy decreased slightly, \n",
    "   4. What was achieved? Is the model a good classification machine for the winery?\n",
    "      1. Resulting confusion matrix\n",
    "   5. Is the model a good classification machine for the winery?\n",
    "      1. Up to now high quality wine can be predicted pretty well.\n",
    "      2. Is more data needed? "
   ]
  },
  {
   "cell_type": "markdown",
   "id": "6117a571",
   "metadata": {},
   "source": []
  }
 ],
 "metadata": {
  "kernelspec": {
   "display_name": "base_data_analysis",
   "language": "python",
   "name": "python3"
  },
  "language_info": {
   "codemirror_mode": {
    "name": "ipython",
    "version": 3
   },
   "file_extension": ".py",
   "mimetype": "text/x-python",
   "name": "python",
   "nbconvert_exporter": "python",
   "pygments_lexer": "ipython3",
   "version": "3.12.3"
  }
 },
 "nbformat": 4,
 "nbformat_minor": 5
}
